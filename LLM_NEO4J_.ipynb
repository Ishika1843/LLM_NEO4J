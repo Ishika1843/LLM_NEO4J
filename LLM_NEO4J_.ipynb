{
  "cells": [
    {
      "cell_type": "code",
      "execution_count": null,
      "metadata": {
        "colab": {
          "base_uri": "https://localhost:8080/"
        },
        "id": "muc8KxTVwfdC",
        "outputId": "49ed8783-3658-497e-e40a-7cd943998030"
      },
      "outputs": [
        {
          "name": "stdout",
          "output_type": "stream",
          "text": [
            "\n",
            "Usage:   \n",
            "  pip3 install [options] <requirement specifier> [package-index-options] ...\n",
            "  pip3 install [options] -r <requirements file> [package-index-options] ...\n",
            "  pip3 install [options] [-e] <vcs project url> ...\n",
            "  pip3 install [options] [-e] <local project path> ...\n",
            "  pip3 install [options] <archive url/path> ...\n",
            "\n",
            "no such option: --update\n"
          ]
        }
      ],
      "source": [
        "%pip install --update --quiet langchain langchain-community langchain-openai langchain experimental"
      ]
    },
    {
      "cell_type": "code",
      "execution_count": null,
      "metadata": {
        "colab": {
          "base_uri": "https://localhost:8080/"
        },
        "id": "jgYZKKdqj6lE",
        "outputId": "5045e3d6-fcf5-4dd1-da37-cbfdd3538b71"
      },
      "outputs": [
        {
          "name": "stdout",
          "output_type": "stream",
          "text": [
            "Collecting Neo4j\n",
            "  Downloading neo4j-5.23.1-py3-none-any.whl.metadata (5.7 kB)\n",
            "Requirement already satisfied: pytz in /usr/local/lib/python3.10/dist-packages (from Neo4j) (2024.1)\n",
            "Downloading neo4j-5.23.1-py3-none-any.whl (293 kB)\n",
            "\u001b[2K   \u001b[90m━━━━━━━━━━━━━━━━━━━━━━━━━━━━━━━━━━━━━━━━\u001b[0m \u001b[32m293.6/293.6 kB\u001b[0m \u001b[31m4.7 MB/s\u001b[0m eta \u001b[36m0:00:00\u001b[0m\n",
            "\u001b[?25hInstalling collected packages: Neo4j\n",
            "Successfully installed Neo4j-5.23.1\n"
          ]
        }
      ],
      "source": [
        "!pip install Neo4j"
      ]
    },
    {
      "cell_type": "code",
      "execution_count": null,
      "metadata": {
        "colab": {
          "base_uri": "https://localhost:8080/"
        },
        "id": "2fkd24ZQ8VG7",
        "outputId": "4d018802-076d-441a-d624-7034093e7ecf"
      },
      "outputs": [
        {
          "name": "stdout",
          "output_type": "stream",
          "text": [
            "\n",
            "Usage:   \n",
            "  pip3 install [options] <requirement specifier> [package-index-options] ...\n",
            "  pip3 install [options] -r <requirements file> [package-index-options] ...\n",
            "  pip3 install [options] [-e] <vcs project url> ...\n",
            "  pip3 install [options] [-e] <local project path> ...\n",
            "  pip3 install [options] <archive url/path> ...\n",
            "\n",
            "no such option: --update\n"
          ]
        }
      ],
      "source": [
        "%pip install --update --quiet langchain langchain-community langchain-openai langchain experimental neo4j wikipedia tiktoken yfiles_jupyter_graphs"
      ]
    },
    {
      "cell_type": "code",
      "execution_count": null,
      "metadata": {
        "id": "LNliw6jqxH85"
      },
      "outputs": [],
      "source": [
        "NEO4J_URI=\"neo4j+s://7bcc2b08.databases.neo4j.io\"\n",
        "NEO4J_USERNAME=\"neo4j\"\n",
        "NEO4J_PASSWORD=\"7_wrxtiB8ELM_z-VTZK6mMiz4De85OfbXgAHTDbrXa8\"\n",
        "AURA_INSTANCEID=\"7bcc2b08\"\n",
        "AURA_INSTANCENAME=\"Instance01\"\n"
      ]
    },
    {
      "cell_type": "code",
      "execution_count": null,
      "metadata": {
        "id": "ZSQltZm2L-MU"
      },
      "outputs": [],
      "source": [
        "import os\n",
        "os.environ[\"NEO4J_URI\"]=NEO4J_URI\n",
        "os.environ[\"NEO4J_USERNAME\"]=NEO4J_USERNAME\n",
        "os.environ[\"NEO4J_PASSWORD\"]=NEO4J_PASSWORD"
      ]
    },
    {
      "cell_type": "code",
      "execution_count": null,
      "metadata": {
        "id": "gS-25SmGMB9N"
      },
      "outputs": [],
      "source": [
        "from langchain_community.graphs import Neo4jGraph\n",
        "graph=Neo4jGraph(\n",
        "    url=NEO4J_URI,\n",
        "    username=NEO4J_USERNAME,\n",
        "    password=NEO4J_PASSWORD,\n",
        ")"
      ]
    },
    {
      "cell_type": "code",
      "execution_count": null,
      "metadata": {
        "colab": {
          "base_uri": "https://localhost:8080/"
        },
        "id": "lhOEDjD-MLN-",
        "outputId": "ff80d3c6-984c-454a-e232-b72a9f2a085a"
      },
      "outputs": [
        {
          "data": {
            "text/plain": [
              "<langchain_community.graphs.neo4j_graph.Neo4jGraph at 0x7d98b9eb46d0>"
            ]
          },
          "execution_count": 55,
          "metadata": {},
          "output_type": "execute_result"
        }
      ],
      "source": [
        "graph"
      ]
    },
    {
      "cell_type": "code",
      "execution_count": null,
      "metadata": {
        "colab": {
          "base_uri": "https://localhost:8080/"
        },
        "id": "4XxueWWGMP_a",
        "outputId": "a1cff536-1d64-4ccd-d449-2d4456274c14"
      },
      "outputs": [
        {
          "data": {
            "text/plain": [
              "ChatGroq(client=<groq.resources.chat.completions.Completions object at 0x7d98b9f60850>, async_client=<groq.resources.chat.completions.AsyncCompletions object at 0x7d98b9f613c0>, model_name='Gemma2-9b-It', groq_api_key=SecretStr('**********'))"
            ]
          },
          "execution_count": 56,
          "metadata": {},
          "output_type": "execute_result"
        }
      ],
      "source": [
        "from langchain_groq import ChatGroq\n",
        "\n",
        "llm=ChatGroq(groq_api_key=groq_api_key,model_name=\"Gemma2-9b-It\")\n",
        "llm"
      ]
    },
    {
      "cell_type": "code",
      "execution_count": null,
      "metadata": {
        "colab": {
          "base_uri": "https://localhost:8080/"
        },
        "id": "oR_j3DadMYSt",
        "outputId": "4ae061b1-a33e-42ab-c005-b82944b0ba29"
      },
      "outputs": [
        {
          "name": "stdout",
          "output_type": "stream",
          "text": [
            "Node properties:\n",
            "Movie {id: STRING, released: DATE, title: STRING, imdbRating: FLOAT}\n",
            "Person {name: STRING}\n",
            "GENRE {name: STRING}\n",
            "Relationship properties:\n",
            "\n",
            "The relationships:\n",
            "(:Movie)-[:IN_GENRE]->(:GENRE)\n",
            "(:Person)-[:DIRECTED]->(:Movie)\n",
            "(:Person)-[:ACTED_IN]->(:Movie)\n"
          ]
        }
      ],
      "source": [
        "graph.refresh_schema()\n",
        "print(graph.schema)"
      ]
    },
    {
      "cell_type": "code",
      "execution_count": null,
      "metadata": {
        "colab": {
          "base_uri": "https://localhost:8080/"
        },
        "id": "FDlToMGlMfUK",
        "outputId": "7cd92500-c246-42ee-9485-69645c1bd88d"
      },
      "outputs": [
        {
          "data": {
            "text/plain": [
              "GraphCypherQAChain(verbose=True, graph=<langchain_community.graphs.neo4j_graph.Neo4jGraph object at 0x7d98b9eb46d0>, cypher_generation_chain=LLMChain(prompt=PromptTemplate(input_variables=['question', 'schema'], template='Task:Generate Cypher statement to query a graph database.\\nInstructions:\\nUse only the provided relationship types and properties in the schema.\\nDo not use any other relationship types or properties that are not provided.\\nSchema:\\n{schema}\\nNote: Do not include any explanations or apologies in your responses.\\nDo not respond to any questions that might ask anything else than for you to construct a Cypher statement.\\nDo not include any text except the generated Cypher statement.\\n\\nThe question is:\\n{question}'), llm=ChatGroq(client=<groq.resources.chat.completions.Completions object at 0x7d98b9f60850>, async_client=<groq.resources.chat.completions.AsyncCompletions object at 0x7d98b9f613c0>, model_name='Gemma2-9b-It', groq_api_key=SecretStr('**********'))), qa_chain=LLMChain(prompt=PromptTemplate(input_variables=['context', 'question'], template=\"You are an assistant that helps to form nice and human understandable answers.\\nThe information part contains the provided information that you must use to construct an answer.\\nThe provided information is authoritative, you must never doubt it or try to use your internal knowledge to correct it.\\nMake the answer sound as a response to the question. Do not mention that you based the result on the given information.\\nHere is an example:\\n\\nQuestion: Which managers own Neo4j stocks?\\nContext:[manager:CTL LLC, manager:JANE STREET GROUP LLC]\\nHelpful Answer: CTL LLC, JANE STREET GROUP LLC owns Neo4j stocks.\\n\\nFollow this example when generating answers.\\nIf the provided information is empty, say that you don't know the answer.\\nInformation:\\n{context}\\n\\nQuestion: {question}\\nHelpful Answer:\"), llm=ChatGroq(client=<groq.resources.chat.completions.Completions object at 0x7d98b9f60850>, async_client=<groq.resources.chat.completions.AsyncCompletions object at 0x7d98b9f613c0>, model_name='Gemma2-9b-It', groq_api_key=SecretStr('**********'))), graph_schema='Node properties are the following:\\nMovie {id: STRING, released: DATE, title: STRING, imdbRating: FLOAT},Person {name: STRING},GENRE {name: STRING}\\nRelationship properties are the following:\\n\\nThe relationships are the following:\\n(:Movie)-[:IN_GENRE]->(:GENRE),(:Person)-[:DIRECTED]->(:Movie),(:Person)-[:ACTED_IN]->(:Movie)')"
            ]
          },
          "execution_count": 58,
          "metadata": {},
          "output_type": "execute_result"
        }
      ],
      "source": [
        "from langchain.chains import GraphCypherQAChain\n",
        "chain=GraphCypherQAChain.from_llm(llm=llm,graph=graph,verbose=True)\n",
        "chain"
      ]
    },
    {
      "cell_type": "code",
      "execution_count": null,
      "metadata": {
        "id": "U-rr7yR0Mlfd"
      },
      "outputs": [],
      "source": []
    },
    {
      "cell_type": "code",
      "execution_count": null,
      "metadata": {
        "colab": {
          "base_uri": "https://localhost:8080/"
        },
        "id": "NFG7bfgm1yTJ",
        "outputId": "54497f1c-6d60-4335-ab28-8c507ec7777a"
      },
      "outputs": [
        {
          "name": "stdout",
          "output_type": "stream",
          "text": [
            "Collecting langchain-community\n",
            "  Downloading langchain_community-0.2.12-py3-none-any.whl.metadata (2.7 kB)\n",
            "Requirement already satisfied: PyYAML>=5.3 in /usr/local/lib/python3.10/dist-packages (from langchain-community) (6.0.2)\n",
            "Requirement already satisfied: SQLAlchemy<3,>=1.4 in /usr/local/lib/python3.10/dist-packages (from langchain-community) (2.0.32)\n",
            "Requirement already satisfied: aiohttp<4.0.0,>=3.8.3 in /usr/local/lib/python3.10/dist-packages (from langchain-community) (3.10.1)\n",
            "Collecting dataclasses-json<0.7,>=0.5.7 (from langchain-community)\n",
            "  Downloading dataclasses_json-0.6.7-py3-none-any.whl.metadata (25 kB)\n",
            "Collecting langchain<0.3.0,>=0.2.13 (from langchain-community)\n",
            "  Downloading langchain-0.2.13-py3-none-any.whl.metadata (7.1 kB)\n",
            "Collecting langchain-core<0.3.0,>=0.2.30 (from langchain-community)\n",
            "  Downloading langchain_core-0.2.30-py3-none-any.whl.metadata (6.2 kB)\n",
            "Collecting langsmith<0.2.0,>=0.1.0 (from langchain-community)\n",
            "  Downloading langsmith-0.1.99-py3-none-any.whl.metadata (13 kB)\n",
            "Requirement already satisfied: numpy<2,>=1 in /usr/local/lib/python3.10/dist-packages (from langchain-community) (1.26.4)\n",
            "Requirement already satisfied: requests<3,>=2 in /usr/local/lib/python3.10/dist-packages (from langchain-community) (2.32.3)\n",
            "Collecting tenacity!=8.4.0,<9.0.0,>=8.1.0 (from langchain-community)\n",
            "  Downloading tenacity-8.5.0-py3-none-any.whl.metadata (1.2 kB)\n",
            "Requirement already satisfied: aiohappyeyeballs>=2.3.0 in /usr/local/lib/python3.10/dist-packages (from aiohttp<4.0.0,>=3.8.3->langchain-community) (2.3.4)\n",
            "Requirement already satisfied: aiosignal>=1.1.2 in /usr/local/lib/python3.10/dist-packages (from aiohttp<4.0.0,>=3.8.3->langchain-community) (1.3.1)\n",
            "Requirement already satisfied: attrs>=17.3.0 in /usr/local/lib/python3.10/dist-packages (from aiohttp<4.0.0,>=3.8.3->langchain-community) (24.2.0)\n",
            "Requirement already satisfied: frozenlist>=1.1.1 in /usr/local/lib/python3.10/dist-packages (from aiohttp<4.0.0,>=3.8.3->langchain-community) (1.4.1)\n",
            "Requirement already satisfied: multidict<7.0,>=4.5 in /usr/local/lib/python3.10/dist-packages (from aiohttp<4.0.0,>=3.8.3->langchain-community) (6.0.5)\n",
            "Requirement already satisfied: yarl<2.0,>=1.0 in /usr/local/lib/python3.10/dist-packages (from aiohttp<4.0.0,>=3.8.3->langchain-community) (1.9.4)\n",
            "Requirement already satisfied: async-timeout<5.0,>=4.0 in /usr/local/lib/python3.10/dist-packages (from aiohttp<4.0.0,>=3.8.3->langchain-community) (4.0.3)\n",
            "Collecting marshmallow<4.0.0,>=3.18.0 (from dataclasses-json<0.7,>=0.5.7->langchain-community)\n",
            "  Downloading marshmallow-3.21.3-py3-none-any.whl.metadata (7.1 kB)\n",
            "Collecting typing-inspect<1,>=0.4.0 (from dataclasses-json<0.7,>=0.5.7->langchain-community)\n",
            "  Downloading typing_inspect-0.9.0-py3-none-any.whl.metadata (1.5 kB)\n",
            "Collecting langchain-text-splitters<0.3.0,>=0.2.0 (from langchain<0.3.0,>=0.2.13->langchain-community)\n",
            "  Downloading langchain_text_splitters-0.2.2-py3-none-any.whl.metadata (2.1 kB)\n",
            "Requirement already satisfied: pydantic<3,>=1 in /usr/local/lib/python3.10/dist-packages (from langchain<0.3.0,>=0.2.13->langchain-community) (2.8.2)\n",
            "Collecting jsonpatch<2.0,>=1.33 (from langchain-core<0.3.0,>=0.2.30->langchain-community)\n",
            "  Downloading jsonpatch-1.33-py2.py3-none-any.whl.metadata (3.0 kB)\n",
            "Requirement already satisfied: packaging<25,>=23.2 in /usr/local/lib/python3.10/dist-packages (from langchain-core<0.3.0,>=0.2.30->langchain-community) (24.1)\n",
            "Requirement already satisfied: typing-extensions>=4.7 in /usr/local/lib/python3.10/dist-packages (from langchain-core<0.3.0,>=0.2.30->langchain-community) (4.12.2)\n",
            "Collecting orjson<4.0.0,>=3.9.14 (from langsmith<0.2.0,>=0.1.0->langchain-community)\n",
            "  Downloading orjson-3.10.7-cp310-cp310-manylinux_2_17_x86_64.manylinux2014_x86_64.whl.metadata (50 kB)\n",
            "\u001b[2K     \u001b[90m━━━━━━━━━━━━━━━━━━━━━━━━━━━━━━━━━━━━━━━━\u001b[0m \u001b[32m50.4/50.4 kB\u001b[0m \u001b[31m2.8 MB/s\u001b[0m eta \u001b[36m0:00:00\u001b[0m\n",
            "\u001b[?25hRequirement already satisfied: charset-normalizer<4,>=2 in /usr/local/lib/python3.10/dist-packages (from requests<3,>=2->langchain-community) (3.3.2)\n",
            "Requirement already satisfied: idna<4,>=2.5 in /usr/local/lib/python3.10/dist-packages (from requests<3,>=2->langchain-community) (3.7)\n",
            "Requirement already satisfied: urllib3<3,>=1.21.1 in /usr/local/lib/python3.10/dist-packages (from requests<3,>=2->langchain-community) (2.0.7)\n",
            "Requirement already satisfied: certifi>=2017.4.17 in /usr/local/lib/python3.10/dist-packages (from requests<3,>=2->langchain-community) (2024.7.4)\n",
            "Requirement already satisfied: greenlet!=0.4.17 in /usr/local/lib/python3.10/dist-packages (from SQLAlchemy<3,>=1.4->langchain-community) (3.0.3)\n",
            "Collecting jsonpointer>=1.9 (from jsonpatch<2.0,>=1.33->langchain-core<0.3.0,>=0.2.30->langchain-community)\n",
            "  Downloading jsonpointer-3.0.0-py2.py3-none-any.whl.metadata (2.3 kB)\n",
            "Requirement already satisfied: annotated-types>=0.4.0 in /usr/local/lib/python3.10/dist-packages (from pydantic<3,>=1->langchain<0.3.0,>=0.2.13->langchain-community) (0.7.0)\n",
            "Requirement already satisfied: pydantic-core==2.20.1 in /usr/local/lib/python3.10/dist-packages (from pydantic<3,>=1->langchain<0.3.0,>=0.2.13->langchain-community) (2.20.1)\n",
            "Collecting mypy-extensions>=0.3.0 (from typing-inspect<1,>=0.4.0->dataclasses-json<0.7,>=0.5.7->langchain-community)\n",
            "  Downloading mypy_extensions-1.0.0-py3-none-any.whl.metadata (1.1 kB)\n",
            "Downloading langchain_community-0.2.12-py3-none-any.whl (2.3 MB)\n",
            "\u001b[2K   \u001b[90m━━━━━━━━━━━━━━━━━━━━━━━━━━━━━━━━━━━━━━━━\u001b[0m \u001b[32m2.3/2.3 MB\u001b[0m \u001b[31m31.6 MB/s\u001b[0m eta \u001b[36m0:00:00\u001b[0m\n",
            "\u001b[?25hDownloading dataclasses_json-0.6.7-py3-none-any.whl (28 kB)\n",
            "Downloading langchain-0.2.13-py3-none-any.whl (997 kB)\n",
            "\u001b[2K   \u001b[90m━━━━━━━━━━━━━━━━━━━━━━━━━━━━━━━━━━━━━━━━\u001b[0m \u001b[32m997.8/997.8 kB\u001b[0m \u001b[31m35.3 MB/s\u001b[0m eta \u001b[36m0:00:00\u001b[0m\n",
            "\u001b[?25hDownloading langchain_core-0.2.30-py3-none-any.whl (384 kB)\n",
            "\u001b[2K   \u001b[90m━━━━━━━━━━━━━━━━━━━━━━━━━━━━━━━━━━━━━━━━\u001b[0m \u001b[32m384.8/384.8 kB\u001b[0m \u001b[31m22.6 MB/s\u001b[0m eta \u001b[36m0:00:00\u001b[0m\n",
            "\u001b[?25hDownloading langsmith-0.1.99-py3-none-any.whl (140 kB)\n",
            "\u001b[2K   \u001b[90m━━━━━━━━━━━━━━━━━━━━━━━━━━━━━━━━━━━━━━━━\u001b[0m \u001b[32m140.4/140.4 kB\u001b[0m \u001b[31m9.5 MB/s\u001b[0m eta \u001b[36m0:00:00\u001b[0m\n",
            "\u001b[?25hDownloading tenacity-8.5.0-py3-none-any.whl (28 kB)\n",
            "Downloading jsonpatch-1.33-py2.py3-none-any.whl (12 kB)\n",
            "Downloading langchain_text_splitters-0.2.2-py3-none-any.whl (25 kB)\n",
            "Downloading marshmallow-3.21.3-py3-none-any.whl (49 kB)\n",
            "\u001b[2K   \u001b[90m━━━━━━━━━━━━━━━━━━━━━━━━━━━━━━━━━━━━━━━━\u001b[0m \u001b[32m49.2/49.2 kB\u001b[0m \u001b[31m3.1 MB/s\u001b[0m eta \u001b[36m0:00:00\u001b[0m\n",
            "\u001b[?25hDownloading orjson-3.10.7-cp310-cp310-manylinux_2_17_x86_64.manylinux2014_x86_64.whl (141 kB)\n",
            "\u001b[2K   \u001b[90m━━━━━━━━━━━━━━━━━━━━━━━━━━━━━━━━━━━━━━━━\u001b[0m \u001b[32m141.9/141.9 kB\u001b[0m \u001b[31m8.1 MB/s\u001b[0m eta \u001b[36m0:00:00\u001b[0m\n",
            "\u001b[?25hDownloading typing_inspect-0.9.0-py3-none-any.whl (8.8 kB)\n",
            "Downloading jsonpointer-3.0.0-py2.py3-none-any.whl (7.6 kB)\n",
            "Downloading mypy_extensions-1.0.0-py3-none-any.whl (4.7 kB)\n",
            "Installing collected packages: tenacity, orjson, mypy-extensions, marshmallow, jsonpointer, typing-inspect, jsonpatch, langsmith, dataclasses-json, langchain-core, langchain-text-splitters, langchain, langchain-community\n",
            "  Attempting uninstall: tenacity\n",
            "    Found existing installation: tenacity 9.0.0\n",
            "    Uninstalling tenacity-9.0.0:\n",
            "      Successfully uninstalled tenacity-9.0.0\n",
            "Successfully installed dataclasses-json-0.6.7 jsonpatch-1.33 jsonpointer-3.0.0 langchain-0.2.13 langchain-community-0.2.12 langchain-core-0.2.30 langchain-text-splitters-0.2.2 langsmith-0.1.99 marshmallow-3.21.3 mypy-extensions-1.0.0 orjson-3.10.7 tenacity-8.5.0 typing-inspect-0.9.0\n"
          ]
        }
      ],
      "source": [
        "%pip install langchain-community\n"
      ]
    },
    {
      "cell_type": "code",
      "execution_count": null,
      "metadata": {
        "id": "EA9_jevz6Lro"
      },
      "outputs": [],
      "source": [
        "from langchain_community.graphs import Neo4jGraph"
      ]
    },
    {
      "cell_type": "code",
      "execution_count": null,
      "metadata": {
        "id": "r15IFOzq6W1s"
      },
      "outputs": [],
      "source": [
        "from google.colab import userdata\n",
        "groq_api_key = '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'\n"
      ]
    },
    {
      "cell_type": "code",
      "execution_count": null,
      "metadata": {
        "id": "nyrtIPWf7fmQ"
      },
      "outputs": [],
      "source": [
        "graph=Neo4jGraph"
      ]
    },
    {
      "cell_type": "code",
      "execution_count": null,
      "metadata": {
        "colab": {
          "base_uri": "https://localhost:8080/"
        },
        "id": "XyIUXFkx89M0",
        "outputId": "5ed368eb-65e0-4bc0-b8f8-5d4d7cc77ed4"
      },
      "outputs": [
        {
          "name": "stdout",
          "output_type": "stream",
          "text": [
            "Collecting Wikipedia\n",
            "  Downloading wikipedia-1.4.0.tar.gz (27 kB)\n",
            "  Preparing metadata (setup.py) ... \u001b[?25l\u001b[?25hdone\n",
            "Requirement already satisfied: beautifulsoup4 in /usr/local/lib/python3.10/dist-packages (from Wikipedia) (4.12.3)\n",
            "Requirement already satisfied: requests<3.0.0,>=2.0.0 in /usr/local/lib/python3.10/dist-packages (from Wikipedia) (2.32.3)\n",
            "Requirement already satisfied: charset-normalizer<4,>=2 in /usr/local/lib/python3.10/dist-packages (from requests<3.0.0,>=2.0.0->Wikipedia) (3.3.2)\n",
            "Requirement already satisfied: idna<4,>=2.5 in /usr/local/lib/python3.10/dist-packages (from requests<3.0.0,>=2.0.0->Wikipedia) (3.7)\n",
            "Requirement already satisfied: urllib3<3,>=1.21.1 in /usr/local/lib/python3.10/dist-packages (from requests<3.0.0,>=2.0.0->Wikipedia) (2.0.7)\n",
            "Requirement already satisfied: certifi>=2017.4.17 in /usr/local/lib/python3.10/dist-packages (from requests<3.0.0,>=2.0.0->Wikipedia) (2024.7.4)\n",
            "Requirement already satisfied: soupsieve>1.2 in /usr/local/lib/python3.10/dist-packages (from beautifulsoup4->Wikipedia) (2.5)\n",
            "Building wheels for collected packages: Wikipedia\n",
            "  Building wheel for Wikipedia (setup.py) ... \u001b[?25l\u001b[?25hdone\n",
            "  Created wheel for Wikipedia: filename=wikipedia-1.4.0-py3-none-any.whl size=11679 sha256=b817015f9896b6aceff55dbe86378c3637008d3289f66636caf88566a999baf9\n",
            "  Stored in directory: /root/.cache/pip/wheels/5e/b6/c5/93f3dec388ae76edc830cb42901bb0232504dfc0df02fc50de\n",
            "Successfully built Wikipedia\n",
            "Installing collected packages: Wikipedia\n",
            "Successfully installed Wikipedia-1.4.0\n"
          ]
        }
      ],
      "source": [
        "!pip install Wikipedia"
      ]
    },
    {
      "cell_type": "code",
      "execution_count": null,
      "metadata": {
        "id": "Ri51fzx07lO4"
      },
      "outputs": [],
      "source": [
        "from langchain.document_loaders import WikipediaLoader\n",
        "\n"
      ]
    },
    {
      "cell_type": "markdown",
      "metadata": {
        "id": "VRP6T5Qa8Z3H"
      },
      "source": []
    },
    {
      "cell_type": "code",
      "execution_count": null,
      "metadata": {
        "id": "BdyL1_uw8aFf"
      },
      "outputs": [],
      "source": []
    },
    {
      "cell_type": "code",
      "execution_count": null,
      "metadata": {
        "id": "tjhf1Hsa8aU8"
      },
      "outputs": [],
      "source": []
    },
    {
      "cell_type": "code",
      "execution_count": null,
      "metadata": {
        "colab": {
          "base_uri": "https://localhost:8080/"
        },
        "id": "sn2hIbHA8GQ_",
        "outputId": "6d6c2311-a5d7-419b-c198-32e3d04be057"
      },
      "outputs": [
        {
          "name": "stderr",
          "output_type": "stream",
          "text": [
            "/usr/local/lib/python3.10/dist-packages/wikipedia/wikipedia.py:389: GuessedAtParserWarning: No parser was explicitly specified, so I'm using the best available HTML parser for this system (\"lxml\"). This usually isn't a problem, but if you run this code on another system, or in a different virtual environment, it may use a different parser and behave differently.\n",
            "\n",
            "The code that caused this warning is on line 389 of the file /usr/local/lib/python3.10/dist-packages/wikipedia/wikipedia.py. To get rid of this warning, pass the additional argument 'features=\"lxml\"' to the BeautifulSoup constructor.\n",
            "\n",
            "  lis = BeautifulSoup(html).find_all('li')\n"
          ]
        }
      ],
      "source": [
        "raw_documents=WikipediaLoader(query=\"Elizabeth I\").load()"
      ]
    },
    {
      "cell_type": "code",
      "execution_count": null,
      "metadata": {
        "colab": {
          "base_uri": "https://localhost:8080/"
        },
        "id": "iFJc0X17-L7D",
        "outputId": "f3bd610d-e5e7-4b90-b697-68b37c4d852a"
      },
      "outputs": [
        {
          "data": {
            "text/plain": [
              "[Document(metadata={'title': 'Elizabeth I', 'summary': 'Elizabeth I (7 September 1533 – 24 March 1603) was Queen of England and Ireland from 17 November 1558 until her death in 1603. She was the last monarch of the House of Tudor.\\nElizabeth was the only surviving child of Henry VIII and his second wife, Anne Boleyn. When Elizabeth was two years old, her parents\\' marriage was annulled, her mother was executed, and Elizabeth was declared illegitimate. Henry restored her to the line of succession when she was 10, via the Third Succession Act 1543. After Henry\\'s death in 1547, Elizabeth\\'s younger half-brother Edward VI ruled until his own death in 1553, bequeathing the crown to a Protestant cousin, Lady Jane Grey, and ignoring the claims of his two half-sisters, the Catholic Mary and the younger Elizabeth, in spite of statutes to the contrary. Edward\\'s will was set aside within weeks of his death and Mary became queen, deposing and executing Jane. During Mary\\'s reign, Elizabeth was imprisoned for nearly a year on suspicion of supporting Protestant rebels.\\nUpon her half-sister\\'s death in 1558, Elizabeth succeeded to the throne and set out to rule by good counsel. She depended heavily on a group of trusted advisers led by William Cecil, whom she created Baron Burghley. One of her first actions as queen was the establishment of an English Protestant church, of which she became the supreme governor. This era, later named the Elizabethan Religious Settlement, would evolve into the Church of England. It was expected that Elizabeth would marry and produce an heir; however, despite numerous courtships, she never did, and because of this she is sometimes referred to as the \"Virgin Queen\". She was eventually succeeded by her first cousin twice removed, James VI of Scotland, the son of Mary, Queen of Scots.\\nIn government, Elizabeth was more moderate than her father and siblings had been. One of her mottoes was video et taceo (\"I see and keep silent\"). In religion, she was relatively tolerant and avoided systematic persecution. After the pope declared her illegitimate in 1570, which in theory released English Catholics from allegiance to her, several conspiracies threatened her life, all of which were defeated with the help of her ministers\\' secret service, run by Sir Francis Walsingham. Elizabeth was cautious in foreign affairs, manoeuvring between the major powers of France and Spain. She half-heartedly supported a number of ineffective, poorly resourced military campaigns in the Netherlands, France, and Ireland. By the mid-1580s, England could no longer avoid war with Spain.\\nAs she grew older, Elizabeth became celebrated for her virginity. A cult of personality grew around her which was celebrated in the portraits, pageants, and literature of the day. Elizabeth\\'s reign became known as the Elizabethan era. The period is famous for the flourishing of English drama, led by playwrights such as William Shakespeare and Christopher Marlowe, the prowess of English maritime adventurers, such as Francis Drake and Walter Raleigh, and for the defeat of the Spanish Armada. Some historians depict Elizabeth as a short-tempered, sometimes indecisive ruler, who enjoyed more than her fair share of luck. Towards the end of her reign, a series of economic and military problems weakened her popularity. Elizabeth is acknowledged as a charismatic performer (\"Gloriana\") and a dogged survivor (\"Good Queen Bess\") in an era when government was ramshackle and limited, and when monarchs in neighbouring countries faced internal problems that jeopardised their thrones. After the short, disastrous reigns of her half-siblings, her 44 years on the throne provided welcome stability for the kingdom and helped to forge a sense of national identity.', 'source': 'https://en.wikipedia.org/wiki/Elizabeth_I'}, page_content='Elizabeth I (7 September 1533 – 24 March 1603) was Queen of England and Ireland from 17 November 1558 until her death in 1603. She was the last monarch of the House of Tudor.\\nElizabeth was the only surviving child of Henry VIII and his second wife, Anne Boleyn. When Elizabeth was two years old, her parents\\' marriage was annulled, her mother was executed, and Elizabeth was declared illegitimate. Henry restored her to the line of succession when she was 10, via the Third Succession Act 1543. After Henry\\'s death in 1547, Elizabeth\\'s younger half-brother Edward VI ruled until his own death in 1553, bequeathing the crown to a Protestant cousin, Lady Jane Grey, and ignoring the claims of his two half-sisters, the Catholic Mary and the younger Elizabeth, in spite of statutes to the contrary. Edward\\'s will was set aside within weeks of his death and Mary became queen, deposing and executing Jane. During Mary\\'s reign, Elizabeth was imprisoned for nearly a year on suspicion of supporting Protestant rebels.\\nUpon her half-sister\\'s death in 1558, Elizabeth succeeded to the throne and set out to rule by good counsel. She depended heavily on a group of trusted advisers led by William Cecil, whom she created Baron Burghley. One of her first actions as queen was the establishment of an English Protestant church, of which she became the supreme governor. This era, later named the Elizabethan Religious Settlement, would evolve into the Church of England. It was expected that Elizabeth would marry and produce an heir; however, despite numerous courtships, she never did, and because of this she is sometimes referred to as the \"Virgin Queen\". She was eventually succeeded by her first cousin twice removed, James VI of Scotland, the son of Mary, Queen of Scots.\\nIn government, Elizabeth was more moderate than her father and siblings had been. One of her mottoes was video et taceo (\"I see and keep silent\"). In religion, she was relatively tolerant and avoided systematic persecution. After the pope declared her illegitimate in 1570, which in theory released English Catholics from allegiance to her, several conspiracies threatened her life, all of which were defeated with the help of her ministers\\' secret service, run by Sir Francis Walsingham. Elizabeth was cautious in foreign affairs, manoeuvring between the major powers of France and Spain. She half-heartedly supported a number of ineffective, poorly resourced military campaigns in the Netherlands, France, and Ireland. By the mid-1580s, England could no longer avoid war with Spain.\\nAs she grew older, Elizabeth became celebrated for her virginity. A cult of personality grew around her which was celebrated in the portraits, pageants, and literature of the day. Elizabeth\\'s reign became known as the Elizabethan era. The period is famous for the flourishing of English drama, led by playwrights such as William Shakespeare and Christopher Marlowe, the prowess of English maritime adventurers, such as Francis Drake and Walter Raleigh, and for the defeat of the Spanish Armada. Some historians depict Elizabeth as a short-tempered, sometimes indecisive ruler, who enjoyed more than her fair share of luck. Towards the end of her reign, a series of economic and military problems weakened her popularity. Elizabeth is acknowledged as a charismatic performer (\"Gloriana\") and a dogged survivor (\"Good Queen Bess\") in an era when government was ramshackle and limited, and when monarchs in neighbouring countries faced internal problems that jeopardised their thrones. After the short, disastrous reigns of her half-siblings, her 44 years on the throne provided welcome stability for the kingdom and helped to forge a sense of national identity.\\n\\n\\n== Early life ==\\n\\nElizabeth was born at Greenwich Palace on 7 September 1533 and was named after her grandmothers, Elizabeth of York and Lady Elizabeth Howard. She was the second child of Henry VIII of England born in wedlock to survive infancy. Her mother was Henry\\'s second wife, Ann'),\n",
              " Document(metadata={'title': 'Elizabeth of Russia', 'summary': \"Elizabeth or Elizaveta Petrovna (Russian: Елизаве́та Петро́вна; 29 December [O.S. 18 December] 1709 – 5 January [O.S. 25 December] 1762) was Empress of Russia from 1741 until her death in 1762. She remains one of the most popular Russian monarchs because of her decision not to execute a single person during her reign, her numerous construction projects, and her strong opposition to Prussian policies.\\nThe second-eldest daughter of Tsar Peter the Great (r.\\u20091682–1725), Elizabeth lived through the confused successions of her father's descendants following her half-brother Alexei's death in 1718. The throne first passed to her mother Catherine I of Russia (r.\\u20091725–1727), then to her nephew Peter II, who died in 1730 and was succeeded by Elizabeth's first cousin Anna (r.\\u20091730–1740). After the brief rule of Anna's infant great-nephew, Ivan VI, Elizabeth seized the throne with the military's support and declared her own nephew, the future Peter III, her heir.\\nDuring her reign Elizabeth continued the policies of her father and brought about a remarkable Age of Enlightenment in Russia. Her domestic policies allowed the nobles to gain dominance in local government while shortening their terms of service to the state. She encouraged Mikhail Lomonosov's foundation of the University of Moscow, the highest-ranking Russian educational institution. Her court became one of the most splendid in all Europe, especially regarding architecture: she modernised Russia's roads, encouraged Ivan Shuvalov's foundation of the Imperial Academy of Arts, and financed grandiose Baroque projects of her favourite architect, Bartolomeo Rastrelli, particularly in Peterhof Palace. The Winter Palace and the Smolny Cathedral in Saint Petersburg are among the chief monuments of her reign.\\nElizabeth led the Russian Empire during the two major European conflicts of her time: the War of Austrian Succession (1740–1748) and the Seven Years' War (1756–1763). She and diplomat Aleksey Bestuzhev-Ryumin solved the first event by forming an alliance with Austria and France, but indirectly caused the second. Russian troops enjoyed several victories against Prussia and briefly occupied Berlin, but when Frederick the Great was finally considering surrender in January 1762, the Russian Empress died. She was the last agnatic member of the House of Romanov to reign over the Russian Empire.\\n\\n\", 'source': 'https://en.wikipedia.org/wiki/Elizabeth_of_Russia'}, page_content='Elizabeth or Elizaveta Petrovna (Russian: Елизаве́та Петро́вна; 29 December [O.S. 18 December] 1709 – 5 January [O.S. 25 December] 1762) was Empress of Russia from 1741 until her death in 1762. She remains one of the most popular Russian monarchs because of her decision not to execute a single person during her reign, her numerous construction projects, and her strong opposition to Prussian policies.\\nThe second-eldest daughter of Tsar Peter the Great (r.\\u20091682–1725), Elizabeth lived through the confused successions of her father\\'s descendants following her half-brother Alexei\\'s death in 1718. The throne first passed to her mother Catherine I of Russia (r.\\u20091725–1727), then to her nephew Peter II, who died in 1730 and was succeeded by Elizabeth\\'s first cousin Anna (r.\\u20091730–1740). After the brief rule of Anna\\'s infant great-nephew, Ivan VI, Elizabeth seized the throne with the military\\'s support and declared her own nephew, the future Peter III, her heir.\\nDuring her reign Elizabeth continued the policies of her father and brought about a remarkable Age of Enlightenment in Russia. Her domestic policies allowed the nobles to gain dominance in local government while shortening their terms of service to the state. She encouraged Mikhail Lomonosov\\'s foundation of the University of Moscow, the highest-ranking Russian educational institution. Her court became one of the most splendid in all Europe, especially regarding architecture: she modernised Russia\\'s roads, encouraged Ivan Shuvalov\\'s foundation of the Imperial Academy of Arts, and financed grandiose Baroque projects of her favourite architect, Bartolomeo Rastrelli, particularly in Peterhof Palace. The Winter Palace and the Smolny Cathedral in Saint Petersburg are among the chief monuments of her reign.\\nElizabeth led the Russian Empire during the two major European conflicts of her time: the War of Austrian Succession (1740–1748) and the Seven Years\\' War (1756–1763). She and diplomat Aleksey Bestuzhev-Ryumin solved the first event by forming an alliance with Austria and France, but indirectly caused the second. Russian troops enjoyed several victories against Prussia and briefly occupied Berlin, but when Frederick the Great was finally considering surrender in January 1762, the Russian Empress died. She was the last agnatic member of the House of Romanov to reign over the Russian Empire.\\n\\n\\n== Early life ==\\n\\n\\n=== Childhood and teenage years ===\\n\\nElizabeth was born at Kolomenskoye, near Moscow, Russia, on 18 December 1709 (O.S.). Her parents were Peter the Great, Tsar of Russia and Catherine. Catherine was the daughter of Samuel Skowroński, a subject of Grand Duchy of Lithuania. Although no documentary record exists, her parents were said to have married secretly at the Cathedral of the Holy Trinity in Saint Petersburg at some point between 23 October and 1 December 1707. Their official marriage was at Saint Isaac\\'s Cathedral in Saint Petersburg on 9 February 1712. On this day, the two children previously born to the couple (Anna and Elizabeth) were legitimised by their father and given the title of Tsarevna (\"princess\") on 6 March 1711. Of the twelve children born to Peter and Catherine (five sons and seven daughters), only the sisters survived to adulthood. They had one older surviving sibling, crown prince Alexei Petrovich, who was Peter\\'s son by his first wife, noblewoman Eudoxia Lopukhina.\\nAs a child, Elizabeth was the favourite of her father, whom she resembled both physically and temperamentally. Even though he adored his daughter, Peter did not devote time or attention to her education; having both a son and grandson from his first marriage to a noblewoman, he did not anticipate that a daughter born to his former maid might one day inherit the Russian throne, which had until that point never been occupied by a woman; as such, it was left to Catherine to raise the girls, a task met with considerable difficulty due to her own lack of education. Despite this, Elizabeth was still '),\n",
              " Document(metadata={'title': 'Portraiture of Elizabeth I', 'summary': 'The portraiture of Queen Elizabeth I (1533–1603) spans the evolution of English royal portraits in the early modern period (1400/1500-1800), from the earliest representations of simple likenesses to the later complex imagery used to convey the power and aspirations of the state, as well as of the monarch at its head.\\nEven the earliest portraits of Elizabeth I contain symbolic objects such as roses and prayer books that would have carried meaning to viewers of her day. Later portraits of Elizabeth layer the iconography of empire—globes, crowns, swords and columns—and representations of virginity and purity, such as moons and pearls, with classical allusions, to present a complex \"story\" that conveyed to Elizabethan era viewers the majesty and significance of the \\'Virgin Queen\\'.', 'source': 'https://en.wikipedia.org/wiki/Portraiture_of_Elizabeth_I'}, page_content='The portraiture of Queen Elizabeth I (1533–1603) spans the evolution of English royal portraits in the early modern period (1400/1500-1800), from the earliest representations of simple likenesses to the later complex imagery used to convey the power and aspirations of the state, as well as of the monarch at its head.\\nEven the earliest portraits of Elizabeth I contain symbolic objects such as roses and prayer books that would have carried meaning to viewers of her day. Later portraits of Elizabeth layer the iconography of empire—globes, crowns, swords and columns—and representations of virginity and purity, such as moons and pearls, with classical allusions, to present a complex \"story\" that conveyed to Elizabethan era viewers the majesty and significance of the \\'Virgin Queen\\'.\\n\\n\\n== Overview ==\\n\\n\\n=== Portraiture in Tudor England ===\\n\\nTwo portraiture traditions had arisen in the Tudor court since the days of Elizabeth\\'s father, Henry VIII. The portrait miniature developed from the illuminated manuscript tradition. These small personal images were almost invariably painted from life over the space of a few days in watercolours on vellum, stiffened by being glued to a playing card. Panel paintings in oils on prepared wood surfaces were based on preparatory drawings and were usually executed at life size, as were oil paintings on canvas.\\nUnlike her contemporaries in France, Elizabeth never granted rights to produce her portrait to a single artist, although Nicholas Hilliard was appointed her official limner, or miniaturist and goldsmith. George Gower, a fashionable court portraitist created Serjeant Painter in 1581, was responsible for approving all portraits of the queen created by other artists from 1581 until his death in 1596.\\nElizabeth sat for a number of artists over the years, including Hilliard, Cornelis Ketel, Federico Zuccaro or Zuccari, Isaac Oliver, and most likely to Gower and Marcus Gheeraerts the Younger. Portraits were commissioned by the government as gifts to foreign monarchs and to show to prospective suitors. Courtiers commissioned heavily symbolic paintings to demonstrate their devotion to the queen, and the fashionable long galleries of later Elizabethan country houses were filled with sets of portraits. The studios of Tudor artists produced images of Elizabeth working from approved \"face patterns\", or approved drawings of the queen, to meet this growing demand for her image, an important symbol of loyalty and reverence for the crown in times of turbulence.\\n\\n\\n=== European context ===\\n\\nBy far the most impressive models of portraiture available to English portraitists were the many portraits by Hans Holbein the Younger, the outstanding Northern portraitist of the first half of the 16th century, who had made two lengthy visits to England, and had been Henry VIII\\'s court artist. Holbein had accustomed the English court to the full-length life-size portrait, although none of his originals now survive. His great dynastic mural at Whitehall Palace, destroyed in 1698, and perhaps other original large portraits, would have been familiar to Elizabethan artists.\\nBoth Holbein and his great Italian contemporary Titian had combined great psychological penetration with a sufficiently majestic impression to satisfy their royal patrons. By his second visit, Holbein had already begun to move away from a strictly realist depiction; in his Jane Seymour, \"the figure is no longer seen as displacing with its bulk a recognizable section of space: it approaches rather to a flat pattern, made alive by a bounding and vital outline\". This tendency was to be taken much further by the later portraits of Elizabeth, where \"Likeness of feature and an interest in form and volume have gradually been abandoned in favour of an effect of splendid majesty obtained by decorative pattern, and the forms have been flattened accordingly\".\\n\\nTitian continued to paint royal portraits, especially of Philip II of Spain, until the 1570s, but in sharply reduce'),\n",
              " Document(metadata={'title': 'House of Tudor', 'summary': \"The House of Tudor ( TEW-dər) was an English and Welsh dynasty that held the throne of England from 1485 to 1603. They descended from the Tudors of Penmynydd, a Welsh noble family, and Catherine of Valois. The Tudor monarchs ruled the Kingdom of England and the Lordship of Ireland (later the Kingdom of Ireland) for 118 years with five monarchs: Henry VII, Henry VIII, Edward VI, Mary I and Elizabeth I. The Tudors succeeded the House of Plantagenet as rulers of the Kingdom of England, and were succeeded by the Scottish House of Stuart. The first Tudor monarch, Henry VII, descended through his mother from the House of Beaufort, a legitimised branch of the English royal House of Lancaster, a cadet house of the Plantagenets. The Tudor family rose to power and started the Tudor period in the wake of the Wars of the Roses (1455–1487), which left the main House of Lancaster (with which the Tudors were aligned) extinct in the male line.\\nHenry VII (a descendant of Edward III, and the son of Edmund Tudor, a half-brother of Henry VI) succeeded in presenting himself as a candidate not only for traditional Lancastrian supporters, but also for discontented supporters of their rival Plantagenet cadet House of York, and he took the throne by right of conquest. Following his victory at the Battle of Bosworth Field (22 August 1485), he reinforced his position in 1486 by fulfilling his 1483 vow to marry Elizabeth of York, daughter of King Edward IV and the heiress of the Yorkist claim to the throne, thus symbolically uniting the former warring factions of Lancaster and York under the new dynasty (represented by the Tudor rose). The Tudors extended their power beyond modern England, achieving the full union of England and the Principality of Wales in 1542 (Laws in Wales Acts 1535 and 1542), and successfully asserting English authority over the Kingdom of Ireland (proclaimed by the Crown of Ireland Act 1542). They also maintained the nominal English claim to the Kingdom of France; although none of them made substance of it, Henry VIII fought wars with France primarily as a matter of international alliances but also asserting claim to the title. After him, his daughter Mary I lost control of all territory in France permanently with the Siege of Calais in 1558.\\nIn total, the Tudor monarchs ruled their domains for 117 years. Henry VIII (r.\\u20091509–1547) was the only son of Henry VII to live to the age of maturity, and he proved a dominant ruler. Issues around royal succession (including marriage and the succession rights of women) became major political themes during the Tudor era, as did the English Reformation in religion, impacting the future of the Crown. Elizabeth I was the longest serving Tudor monarch at 44 years, and her reign- known as the Elizabethan Era- provided a period of stability after the short, troubled reigns of her siblings.  When Elizabeth I died childless, her cousin of the Scottish House of Stuart succeeded her, in the Union of the Crowns of 24 March 1603. The first Stuart to become King of England (r.\\u20091603–1625), James VI and I, was a great-grandson of Henry VII's daughter Margaret Tudor, who in 1503 had married James IV of Scotland in accordance with the 1502 Treaty of Perpetual Peace. This persists to the present day, as Charles III is a ninth-generation descendant of George I, who in turn was James VI and I's great-grandson.\\n\\n\", 'source': 'https://en.wikipedia.org/wiki/House_of_Tudor'}, page_content=\"The House of Tudor ( TEW-dər) was an English and Welsh dynasty that held the throne of England from 1485 to 1603. They descended from the Tudors of Penmynydd, a Welsh noble family, and Catherine of Valois. The Tudor monarchs ruled the Kingdom of England and the Lordship of Ireland (later the Kingdom of Ireland) for 118 years with five monarchs: Henry VII, Henry VIII, Edward VI, Mary I and Elizabeth I. The Tudors succeeded the House of Plantagenet as rulers of the Kingdom of England, and were succeeded by the Scottish House of Stuart. The first Tudor monarch, Henry VII, descended through his mother from the House of Beaufort, a legitimised branch of the English royal House of Lancaster, a cadet house of the Plantagenets. The Tudor family rose to power and started the Tudor period in the wake of the Wars of the Roses (1455–1487), which left the main House of Lancaster (with which the Tudors were aligned) extinct in the male line.\\nHenry VII (a descendant of Edward III, and the son of Edmund Tudor, a half-brother of Henry VI) succeeded in presenting himself as a candidate not only for traditional Lancastrian supporters, but also for discontented supporters of their rival Plantagenet cadet House of York, and he took the throne by right of conquest. Following his victory at the Battle of Bosworth Field (22 August 1485), he reinforced his position in 1486 by fulfilling his 1483 vow to marry Elizabeth of York, daughter of King Edward IV and the heiress of the Yorkist claim to the throne, thus symbolically uniting the former warring factions of Lancaster and York under the new dynasty (represented by the Tudor rose). The Tudors extended their power beyond modern England, achieving the full union of England and the Principality of Wales in 1542 (Laws in Wales Acts 1535 and 1542), and successfully asserting English authority over the Kingdom of Ireland (proclaimed by the Crown of Ireland Act 1542). They also maintained the nominal English claim to the Kingdom of France; although none of them made substance of it, Henry VIII fought wars with France primarily as a matter of international alliances but also asserting claim to the title. After him, his daughter Mary I lost control of all territory in France permanently with the Siege of Calais in 1558.\\nIn total, the Tudor monarchs ruled their domains for 117 years. Henry VIII (r.\\u20091509–1547) was the only son of Henry VII to live to the age of maturity, and he proved a dominant ruler. Issues around royal succession (including marriage and the succession rights of women) became major political themes during the Tudor era, as did the English Reformation in religion, impacting the future of the Crown. Elizabeth I was the longest serving Tudor monarch at 44 years, and her reign- known as the Elizabethan Era- provided a period of stability after the short, troubled reigns of her siblings.  When Elizabeth I died childless, her cousin of the Scottish House of Stuart succeeded her, in the Union of the Crowns of 24 March 1603. The first Stuart to become King of England (r.\\u20091603–1625), James VI and I, was a great-grandson of Henry VII's daughter Margaret Tudor, who in 1503 had married James IV of Scotland in accordance with the 1502 Treaty of Perpetual Peace. This persists to the present day, as Charles III is a ninth-generation descendant of George I, who in turn was James VI and I's great-grandson.\\n\\n\\n== Ascent to the throne ==\\nThe Tudors descended from King Edward III on Henry VII's mother's side from John Beaufort, 1st Earl of Somerset, one of the illegitimate children of the 14th century English prince John of Gaunt, the third surviving son of Edward III. Beaufort's mother was Gaunt's long-term mistress, Katherine Swynford.\\nThe descendants of an illegitimate child of English royalty would normally have no claim on the throne, although Gaunt and Swynford eventually married in 1396, when John Beaufort was 25. The church then retroactively declared the Beauforts legitimate by way of a papal bull the sa\"),\n",
              " Document(metadata={'title': 'Succession to Elizabeth I', 'summary': 'The succession to the childless Elizabeth I was an open question from her accession in 1558 to her death in 1603, when the crown passed to James VI of Scotland. While the accession of James went smoothly, the succession had been the subject of much debate for decades. In some scholarly views, it was a major political factor of the entire reign, even if not so voiced. Separate aspects have acquired their own nomenclature: the \"Norfolk conspiracy\", Patrick Collinson\\'s \"Elizabethan exclusion crisis\", the \"Secret Correspondence\", and the \"Valentine Thomas affair\".\\nThe topics of debate remained obscured by uncertainty.\\nElizabeth I avoided establishing the order of succession in any form, presumably because she feared for her own life once a successor was named.  She was also concerned with England forming a productive relationship with Scotland, whose Catholic and Presbyterian strongholds were resistant to female leadership. Catholic women who would be submissive to the Pope and not to English constitutional law were rejected.\\nHenry VIII\\'s will had named one male and seven females living at his death in 1547 as the line of succession: (1) his son Edward VI, (2) Mary I, (3) Elizabeth I, (4) Jane Grey, (5) Katherine Grey, (6) Mary Grey, and (7) Margaret Clifford. Elizabeth had outlived all of them.\\nA number of authorities considered that the legal position hinged on documents such as the statute De natis ultra mare of Edward III, and the will of Henry VIII. There were different opinions about the application of these documents. Political, religious and military matters came to predominate later in Elizabeth\\'s reign, in the context of the Anglo-Spanish War.\\n\\n', 'source': 'https://en.wikipedia.org/wiki/Succession_to_Elizabeth_I'}, page_content='The succession to the childless Elizabeth I was an open question from her accession in 1558 to her death in 1603, when the crown passed to James VI of Scotland. While the accession of James went smoothly, the succession had been the subject of much debate for decades. In some scholarly views, it was a major political factor of the entire reign, even if not so voiced. Separate aspects have acquired their own nomenclature: the \"Norfolk conspiracy\", Patrick Collinson\\'s \"Elizabethan exclusion crisis\", the \"Secret Correspondence\", and the \"Valentine Thomas affair\".\\nThe topics of debate remained obscured by uncertainty.\\nElizabeth I avoided establishing the order of succession in any form, presumably because she feared for her own life once a successor was named.  She was also concerned with England forming a productive relationship with Scotland, whose Catholic and Presbyterian strongholds were resistant to female leadership. Catholic women who would be submissive to the Pope and not to English constitutional law were rejected.\\nHenry VIII\\'s will had named one male and seven females living at his death in 1547 as the line of succession: (1) his son Edward VI, (2) Mary I, (3) Elizabeth I, (4) Jane Grey, (5) Katherine Grey, (6) Mary Grey, and (7) Margaret Clifford. Elizabeth had outlived all of them.\\nA number of authorities considered that the legal position hinged on documents such as the statute De natis ultra mare of Edward III, and the will of Henry VIII. There were different opinions about the application of these documents. Political, religious and military matters came to predominate later in Elizabeth\\'s reign, in the context of the Anglo-Spanish War.\\n\\n\\n== Cognatic descent from Henry VII ==\\nDescent from the two daughters of Henry VII who reached adulthood, Margaret and Mary, was the first and main issue in the succession. \\n\\n\\n=== Lennox claim ===\\nMary I of England had died without managing to have her preferred successor and first cousin, Margaret Douglas, Countess of Lennox, nominated by parliament. Margaret Douglas was a daughter of Margaret Tudor, and lived to 1578, but became a marginal figure in discussions of the succession to Elizabeth I, who at no point clarified the dynastic issues of the Tudor line. When in 1565 Margaret Douglas\\'s elder son Henry Stuart, Lord Darnley, married Mary, Queen of Scots, the \"Lennox claim\" was generally regarded as consolidated into the \"Stuart claim\".\\n\\n\\n=== Stuart claimants ===\\nJames VI was the son of two grandchildren of Margaret Tudor. Arbella Stuart, the most serious other contender by the late 16th century, was the daughter of Margaret Douglas, Countess of Lennox\\'s younger son Charles Stuart, 1st Earl of Lennox.\\nJames VI\\'s mother, Mary, Queen of Scots, was considered a plausible successor to the English throne. At the beginning of Elizabeth\\'s reign she sent ambassadors to England when a parliament was summoned, anticipating a role for parliament in settling the succession in her favour. Mary was a Roman Catholic, and her proximity to the succession was a factor in plotting, including the Throckmorton plot and the Babington plot, making her position a political problem for the English government, eventually resolved by judicial means. She was executed in 1587. In that year, Mary\\'s son James reached the age of twenty-one, while Arbella was only twelve.\\n\\n\\n=== Suffolk claimants ===\\nWhile the Stuart line of James and Arbella would have had political support, by 1600 the descendants of Mary Tudor were theoretically relevant, and on legal grounds could not be discounted. Frances Grey, Duchess of Suffolk, and Eleanor Clifford, Countess of Cumberland, both had children who were in the line of succession. Frances and Eleanor were Mary Tudor\\'s daughters by her second husband, Charles Brandon, 1st Duke of Suffolk. Frances married Henry Grey, 1st Duke of Suffolk, and they had three daughters, Lady Jane Grey (1537–1554), Lady Catherine Grey (1540–1568), and Lady Mary Grey (1545–1578). Of these, the two'),\n",
              " Document(metadata={'title': 'James VI and I', 'summary': 'James VI and I (James Charles Stuart; 19 June 1566 – 27 March 1625) was King of Scotland as James VI from 24 July 1567 and King of England and Ireland as James I from the union of the Scottish and English crowns on 24 March 1603 until his death in 1625. Although he long tried to get both countries to adopt a closer political union, the kingdoms of Scotland and England remained sovereign states, with their own parliaments, judiciaries, and laws, ruled by James in personal union. He was the longest-reigning monarch of the Kingdom of Scotland.\\nJames was the son of Mary, Queen of Scots, and a great-great-grandson of Henry VII, King of England and Lord of Ireland, and thus a potential successor to all three thrones. He acceded to the Scottish throne at the age of thirteen months, after his mother was forced to abdicate in his favour. Four regents governed during his minority, which ended officially in 1578, though he did not gain full control of his government until 1583. In 1589, he married Anne of Denmark. Three of their children survived to adulthood: Henry Frederick, Elizabeth, and Charles. In 1603, James succeeded his cousin Elizabeth I, the last Tudor monarch of England and Ireland, who died childless. He continued to reign in all three kingdoms for 22 years, a period known as the Jacobean era, until his death in 1625. After the Union of the Crowns, he based himself in England (the largest of the three realms) from 1603, returning to Scotland only once, in 1617, and styled himself \"King of Great Britain and Ireland\". He was an advocate of a single parliament for England and Scotland. In his reign, the Plantation of Ulster and English colonisation of the Americas began.\\nAt 57 years and 246 days, James\\'s reign in Scotland was the longest of any Scottish monarch. He achieved most of his aims in Scotland but faced great difficulties in England, including the Gunpowder Plot in 1605 and conflicts with the English Parliament. Under James, the \"Golden Age\" of Elizabethan literature and drama continued, with writers such as William Shakespeare, John Donne, Ben Jonson, and Francis Bacon contributing to a flourishing literary culture. James was a prolific writer, authoring works such as Daemonologie (1597), The True Law of Free Monarchies (1598), and Basilikon Doron (1599). He sponsored the translation of the Bible into English (later named after him, the Authorized King James Version), and the 1604 revision of the Book of Common Prayer. Anthony Weldon claimed that James had been termed \"the wisest fool in Christendom\", an epithet associated with his character ever since. Since the latter half of the 20th century, historians have tended to revise James\\'s reputation and treat him as a serious and thoughtful monarch. He was strongly committed to a peace policy, and tried to avoid involvement in religious wars, especially the Thirty Years\\' War that devastated much of Central Europe. He tried but failed to prevent the rise of hawkish elements in the English Parliament who wanted war with Spain. He was succeeded by his second son, Charles I.\\n\\n', 'source': 'https://en.wikipedia.org/wiki/James_VI_and_I'}, page_content='James VI and I (James Charles Stuart; 19 June 1566 – 27 March 1625) was King of Scotland as James VI from 24 July 1567 and King of England and Ireland as James I from the union of the Scottish and English crowns on 24 March 1603 until his death in 1625. Although he long tried to get both countries to adopt a closer political union, the kingdoms of Scotland and England remained sovereign states, with their own parliaments, judiciaries, and laws, ruled by James in personal union. He was the longest-reigning monarch of the Kingdom of Scotland.\\nJames was the son of Mary, Queen of Scots, and a great-great-grandson of Henry VII, King of England and Lord of Ireland, and thus a potential successor to all three thrones. He acceded to the Scottish throne at the age of thirteen months, after his mother was forced to abdicate in his favour. Four regents governed during his minority, which ended officially in 1578, though he did not gain full control of his government until 1583. In 1589, he married Anne of Denmark. Three of their children survived to adulthood: Henry Frederick, Elizabeth, and Charles. In 1603, James succeeded his cousin Elizabeth I, the last Tudor monarch of England and Ireland, who died childless. He continued to reign in all three kingdoms for 22 years, a period known as the Jacobean era, until his death in 1625. After the Union of the Crowns, he based himself in England (the largest of the three realms) from 1603, returning to Scotland only once, in 1617, and styled himself \"King of Great Britain and Ireland\". He was an advocate of a single parliament for England and Scotland. In his reign, the Plantation of Ulster and English colonisation of the Americas began.\\nAt 57 years and 246 days, James\\'s reign in Scotland was the longest of any Scottish monarch. He achieved most of his aims in Scotland but faced great difficulties in England, including the Gunpowder Plot in 1605 and conflicts with the English Parliament. Under James, the \"Golden Age\" of Elizabethan literature and drama continued, with writers such as William Shakespeare, John Donne, Ben Jonson, and Francis Bacon contributing to a flourishing literary culture. James was a prolific writer, authoring works such as Daemonologie (1597), The True Law of Free Monarchies (1598), and Basilikon Doron (1599). He sponsored the translation of the Bible into English (later named after him, the Authorized King James Version), and the 1604 revision of the Book of Common Prayer. Anthony Weldon claimed that James had been termed \"the wisest fool in Christendom\", an epithet associated with his character ever since. Since the latter half of the 20th century, historians have tended to revise James\\'s reputation and treat him as a serious and thoughtful monarch. He was strongly committed to a peace policy, and tried to avoid involvement in religious wars, especially the Thirty Years\\' War that devastated much of Central Europe. He tried but failed to prevent the rise of hawkish elements in the English Parliament who wanted war with Spain. He was succeeded by his second son, Charles I.\\n\\n\\n== Childhood ==\\n\\n\\n=== Birth ===\\n\\nJames was the only son of Mary, Queen of Scots, and her second husband, Henry Stuart, Lord Darnley. Mary and Darnley were great-grandchildren of Henry VII of England through Margaret Tudor, the older sister of Henry VIII. Mary\\'s rule over Scotland was insecure, and she and her husband, being Roman Catholics, faced a rebellion by Protestant noblemen. During Mary\\'s and Darnley\\'s difficult marriage, Darnley secretly allied himself with the rebels and conspired in the murder of the queen\\'s private secretary, David Rizzio, just three months before James\\'s birth.\\nJames was born on 19 June 1566 at Edinburgh Castle, and as the eldest son and heir apparent of the monarch automatically became Duke of Rothesay and Prince and Great Steward of Scotland. Five days later, an English diplomat Henry Killigrew saw the queen, who had not fully recovered and could only speak faintly. The b'),\n",
              " Document(metadata={'title': 'Mary I of England', 'summary': 'Mary I (18 February 1516 – 17 November 1558), also known as Mary Tudor, and as \"Bloody Mary\" by her Protestant opponents, was Queen of England and Ireland from July 1553 and Queen of Spain and the Habsburg dominions as the wife of King Philip II from January 1556 until her death in 1558. She is best known for her vigorous attempt to reverse the English Reformation, which had begun during the reign of her father, King Henry VIII. Her attempt to restore to the Church the property confiscated in the previous two reigns was largely thwarted by Parliament, but during her five-year reign, Mary had over 280 religious dissenters burned at the stake in the Marian persecutions.\\nMary was the only surviving child of Henry VIII by his first wife, Catherine of Aragon. She was declared illegitimate and barred from the line of succession following the annulment of her parents\\' marriage in 1533, though she would later be restored via the Third Succession Act 1543. Her younger half-brother, Edward VI, succeeded their father in 1547 at the age of nine. When Edward became terminally ill in 1553, he attempted to remove Mary from the line of succession because he supposed, correctly, that she would reverse the Protestant reforms that had taken place during his reign. Upon his death, leading politicians proclaimed Mary\\'s and Edward\\'s Protestant cousin, Lady Jane Grey, as queen instead. Mary speedily assembled a force in East Anglia and deposed Jane, who was eventually beheaded. Mary was—excluding the disputed reigns of Jane and the Empress Matilda—the first queen regnant of England. In July 1554, Mary married Prince Philip of Spain, becoming queen consort of Habsburg Spain on his accession in 1556.\\nAfter Mary\\'s death in 1558, her re-establishment of Roman Catholicism was reversed by her younger half-sister and successor, Elizabeth I.', 'source': 'https://en.wikipedia.org/wiki/Mary_I_of_England'}, page_content='Mary I (18 February 1516 – 17 November 1558), also known as Mary Tudor, and as \"Bloody Mary\" by her Protestant opponents, was Queen of England and Ireland from July 1553 and Queen of Spain and the Habsburg dominions as the wife of King Philip II from January 1556 until her death in 1558. She is best known for her vigorous attempt to reverse the English Reformation, which had begun during the reign of her father, King Henry VIII. Her attempt to restore to the Church the property confiscated in the previous two reigns was largely thwarted by Parliament, but during her five-year reign, Mary had over 280 religious dissenters burned at the stake in the Marian persecutions.\\nMary was the only surviving child of Henry VIII by his first wife, Catherine of Aragon. She was declared illegitimate and barred from the line of succession following the annulment of her parents\\' marriage in 1533, though she would later be restored via the Third Succession Act 1543. Her younger half-brother, Edward VI, succeeded their father in 1547 at the age of nine. When Edward became terminally ill in 1553, he attempted to remove Mary from the line of succession because he supposed, correctly, that she would reverse the Protestant reforms that had taken place during his reign. Upon his death, leading politicians proclaimed Mary\\'s and Edward\\'s Protestant cousin, Lady Jane Grey, as queen instead. Mary speedily assembled a force in East Anglia and deposed Jane, who was eventually beheaded. Mary was—excluding the disputed reigns of Jane and the Empress Matilda—the first queen regnant of England. In July 1554, Mary married Prince Philip of Spain, becoming queen consort of Habsburg Spain on his accession in 1556.\\nAfter Mary\\'s death in 1558, her re-establishment of Roman Catholicism was reversed by her younger half-sister and successor, Elizabeth I.\\n\\n\\n== Birth and family ==\\nMary was born on 18 February 1516 at the Palace of Placentia in Greenwich, England. She was the only child of King Henry VIII and his first wife, Catherine of Aragon, to survive infancy. Before Mary, her mother had three miscarriages and stillbirths and one short-lived son, Henry, Duke of Cornwall.  \\nMary was baptised into the Catholic faith at the Church of the Observant Friars in Greenwich three days after her birth. Her godparents included Lord Chancellor Thomas Wolsey; her great-aunt Catherine, Countess of Devon; and Agnes Howard, Duchess of Norfolk. Henry VIII\\'s first cousin once removed, Margaret Pole, Countess of Salisbury, stood sponsor for Mary\\'s confirmation, which was conducted immediately after the baptism. The following year, Mary became a godmother herself when she was named as one of the sponsors of her cousin Frances Brandon. In 1520, the Countess of Salisbury was appointed Mary\\'s governess. Sir John Hussey (later Lord Hussey) was her chamberlain from 1530, and his wife Lady Anne, daughter of George Grey, 2nd Earl of Kent, was one of Mary\\'s attendants.\\n\\n\\n== Childhood ==\\n\\nMary was a precocious child. In July 1520, when scarcely four and a half years old, she entertained a visiting French delegation with a performance on the virginals (a type of harpsichord). A great part of her early education came from her mother, who consulted the Spanish humanist Juan Luis Vives for advice and commissioned him to write De Institutione Feminae Christianae, a treatise on the education of girls. By the age of nine, Mary could read and write Latin. She studied French, Spanish, music, dance, and perhaps Greek. Henry VIII doted on his daughter and boasted to the Venetian ambassador Sebastian Giustiniani that Mary never cried. Mary had a fair complexion with pale blue eyes and red or reddish-golden hair, traits very similar to those of her parents. She was ruddy-cheeked, a trait she inherited from her father.\\nDespite his affection for Mary, Henry was deeply disappointed that his marriage had produced no sons. By the time Mary was nine years old, it was apparent that Henry and Catherine would have no m'),\n",
              " Document(metadata={'title': 'Francis, Duke of Anjou', 'summary': \"Monsieur François, Duke of Anjou and Alençon (French: Hercule François; 18 March 1555  – 10 June 1584) was the youngest son of King Henry II of France and Catherine de' Medici.\\n\\n\", 'source': 'https://en.wikipedia.org/wiki/Francis,_Duke_of_Anjou'}, page_content='Monsieur François, Duke of Anjou and Alençon (French: Hercule François; 18 March 1555  – 10 June 1584) was the youngest son of King Henry II of France and Catherine de\\' Medici.\\n\\n\\n== Early years ==\\nHe was scarred by smallpox at age eight, and his pitted face and slightly deformed spine did not suit his birth name of Hercule. He changed his name to Francis in honour of his late brother Francis II of France when he was confirmed.\\nThe royal children were raised under the supervision of the governor and governess of the royal children, Claude d\\'Urfé and Françoise d\\'Humières, under the orders of Diane de Poitiers.\\nIn 1574, following the death of his brother Charles IX of France and the accession of his other brother Henry III of France, he became heir to the throne. In 1576 he was made Duke of Anjou, Touraine, and Berry.\\n\\n\\n== Alençon and the Huguenots ==\\nDuring the night of 13 September 1575, Alençon fled from the French court after being alienated from his brother King Henry III as they had had some differences. Both Henry III and Catherine de\\' Medici feared he would join the Protestant rebels. These fears proved well-founded; Francis joined the prince of Condé and his forces in the south. In February 1576, Henry, King of Navarre escaped from the French court, whereupon his forces also joined Condé. This combined army was enough to force Henry III, without a pitched battle of any sort, to capitulate and sign the very pro-Protestant \"peace of Monsieur\", or Edict of Beaulieu, on 6 May 1576. By \"secret treaties\" which formed part of this peace settlement, many on the Protestant side were rewarded with land and titles. Francis was awarded the Duchy of Anjou (along with other lands) and thus became the Duke of Anjou. He had the writer Jean de La Gessée as a secretary.\\n\\n\\n== Courting Elizabeth I ==\\n\\nIn 1579, negotiations commenced for marrying Anjou to Elizabeth I of England. The Duke of Anjou was in fact the only one of Elizabeth\\'s foreign suitors to court her in person. He made two visits to England, in 1579 and 1581. He was 24 and Elizabeth was 46. Despite the age gap, the two soon became very close, Elizabeth dubbing him her \"frog\". While a few believe this nickname arose from a frog-shaped earring he had given her, \"frog\" has been an unflattering slang nickname for the French for centuries. Whether or not Elizabeth truly planned to marry Anjou is a hotly debated topic. She was quite fond of him, knowing that he was probably going to be her last suitor. The match was controversial among the English public: English Protestants warned the Queen that the \"hearts [of the English people] will be galled when they shall see you take to husband a Frenchman, and a Papist ... the very common people well know this: that he is the son of the Jezebel of our age\", referring to the Duke\\'s mother, Catherine de\\' Medici. Among members of Elizabeth\\'s Privy Council, only William Cecil, Lord Burghley, and Thomas Radclyffe, 3rd Earl of Sussex, supported the marriage scheme wholeheartedly. Most notable councillors, foremost among them Robert Dudley, 1st Earl of Leicester, and Sir Francis Walsingham, strongly opposed it, even warning the Queen of the hazards of childbirth at her age.\\nBetween 1578 and 1581 the Queen resurrected attempts to negotiate a marriage with the Duke of Alençon.  The Duke put himself forward as a protector of the Huguenots and a potential leader of the Dutch. In these years Walsingham became friends with the diplomat of Henry of Navarre in England, the anti-monarchist Philippe de Mornay. Walsingham was sent to France in mid-1581 to discuss an Anglo-French alliance, but the French wanted the marriage agreed first, and Walsingham had instructions to obtain a treaty before committing to the marriage. He returned to England without an agreement. Personally, Walsingham opposed the marriage, perhaps to the point of encouraging public opposition. Alençon was a Catholic, and as his elder brother, Henry III, was childless, he was heir presumpti'),\n",
              " Document(metadata={'title': 'Elizabeth Stuart, Queen of Bohemia', 'summary': 'Elizabeth Stuart (19 August 1596 – 13 February 1662) was Electress of the Palatinate and briefly Queen of Bohemia as the wife of Frederick V of the Palatinate. The couple\\'s selection for the crown by the nobles of Bohemia was part of the political and religious turmoil setting off the Thirty Years\\' War. Since her husband\\'s reign in Bohemia lasted over one winter, she is called \"the Winter Queen\" (German: Die Winterkönigin, Czech: Zimní královna).\\nPrincess Elizabeth was the only surviving daughter of James VI and I, King of Scotland, England, and Ireland, and his queen, Anne of Denmark; she was the elder sister of Charles I. Born in Scotland, she was named in honour of her father\\'s predecessor and cousin in England, Elizabeth I.  During Elizabeth Stuart\\'s childhood, unbeknownst to her, part of the failed Gunpowder Plot was a scheme to replace her father with her on the throne, and forcibly raise her as a Catholic.  \\nHer father later arranged for her marriage to the Protestant Frederick V, a senior prince of the Holy Roman Empire.  They were married in the Chapel Royal in the Palace of Whitehall, and then left for his lands in Germany. Their marriage proved successful, but after they left Bohemia they spent years in exile in The Hague, while the Thirty Years\\' War continued.  In her widowhood, she eventually returned to England, at the end of her own life, during the Stuart Restoration of her nephew, and is buried in Westminster Abbey. \\nWith the demise of Elizabeth\\'s great-niece, Anne, Queen of Great Britain, the last Stuart monarch in 1714, Elizabeth\\'s grandson by her daughter Sophia of Hanover succeeded to the British throne as George I, initiating the rule of the House of Hanover.', 'source': 'https://en.wikipedia.org/wiki/Elizabeth_Stuart,_Queen_of_Bohemia'}, page_content='Elizabeth Stuart (19 August 1596 – 13 February 1662) was Electress of the Palatinate and briefly Queen of Bohemia as the wife of Frederick V of the Palatinate. The couple\\'s selection for the crown by the nobles of Bohemia was part of the political and religious turmoil setting off the Thirty Years\\' War. Since her husband\\'s reign in Bohemia lasted over one winter, she is called \"the Winter Queen\" (German: Die Winterkönigin, Czech: Zimní královna).\\nPrincess Elizabeth was the only surviving daughter of James VI and I, King of Scotland, England, and Ireland, and his queen, Anne of Denmark; she was the elder sister of Charles I. Born in Scotland, she was named in honour of her father\\'s predecessor and cousin in England, Elizabeth I.  During Elizabeth Stuart\\'s childhood, unbeknownst to her, part of the failed Gunpowder Plot was a scheme to replace her father with her on the throne, and forcibly raise her as a Catholic.  \\nHer father later arranged for her marriage to the Protestant Frederick V, a senior prince of the Holy Roman Empire.  They were married in the Chapel Royal in the Palace of Whitehall, and then left for his lands in Germany. Their marriage proved successful, but after they left Bohemia they spent years in exile in The Hague, while the Thirty Years\\' War continued.  In her widowhood, she eventually returned to England, at the end of her own life, during the Stuart Restoration of her nephew, and is buried in Westminster Abbey. \\nWith the demise of Elizabeth\\'s great-niece, Anne, Queen of Great Britain, the last Stuart monarch in 1714, Elizabeth\\'s grandson by her daughter Sophia of Hanover succeeded to the British throne as George I, initiating the rule of the House of Hanover.\\n\\n\\n== Early life ==\\n\\nElizabeth was born at Dunfermline Palace, Fife, on 19 August 1596 at 2 o\\'clock in the morning. King James rode to the bedside from Callendar, where he was attending the wedding of the Earl of Orkney. At the time of her birth, her father was King of Scotland, but not yet King of England. Named in honour of Elizabeth I of England, her godmother, the young Elizabeth was christened on 28 November 1596 in the Chapel Royal at Holyroodhouse, and was then proclaimed by the heralds as \"Lady Elizabeth\". During her early life in Scotland, Elizabeth was brought up at Linlithgow Palace, where she was placed in the care of Lord Livingstone and his wife, Eleanor Hay. A couple of years later the king\\'s second daughter, Margaret, was placed in their care as well. Elizabeth \"did not pay particular attention to this younger sister\", as even at this young age her affections were with her brother, Henry.\\n\\n\\n=== Move to England ===\\nWhen Queen Elizabeth I of England died in 1603, Elizabeth Stuart\\'s father, James, succeeded as King of England and Ireland. The Countess of Kildare was appointed the princess\\'s governess. Along with her elder brother, Henry, Elizabeth made the journey southward to England with her mother \"in a triumphal progress of perpetual entertainment\". On her father\\'s birthday, 19 June, Elizabeth danced at Worksop Manor with Robert Cecil\\'s son.\\nElizabeth remained at court for a few weeks, but \"there is no evidence that she was present at her parents\\' coronation\" on 25 July 1603. It seems likely that by this time the royal children already had been removed to Oatlands, an old Tudor hunting lodge near Weybridge. There was plague in London, and Prince Henry and Princess Elizabeth were moved to Winchester. Anne of Denmark produced a masque to welcome them. On 19 October 1603 \"an order was issued under the privy seal announcing that the King had thought fit to commit the keeping and education of the Lady Elizabeth to the Lord Harrington [sic] and his wife\".\\nUnder the care of Lord and Lady Harington at Coombe Abbey, Elizabeth met Anne Dudley, with whom she was to strike up a lifelong friendship. On 3 April 1604, Princess Elizabeth and her ladies rode from Coombe Abbey to Coventry. The Mayor and Aldermen met her at \"Jabet\\'s Ash on Stoke-green\".'),\n",
              " Document(metadata={'title': 'Lady Katherine Grey', 'summary': \"Katherine Seymour, Countess of Hertford (née Lady Katherine Grey; 25 August 1540 – 26 January 1568) was a younger sister of Lady Jane Grey.\\nA granddaughter of Henry VIII's sister Mary, she emerged as a prospective successor to her cousin, Elizabeth I of England, before incurring Queen Elizabeth's wrath by secretly marrying Edward Seymour, 1st Earl of Hertford. Arrested after the Queen was informed of their clandestine marriage, Katherine (as Lady Hertford) lived in captivity until her death, having borne two sons in the Tower of London.\\n\\n\", 'source': 'https://en.wikipedia.org/wiki/Lady_Katherine_Grey'}, page_content=\"Katherine Seymour, Countess of Hertford (née Lady Katherine Grey; 25 August 1540 – 26 January 1568) was a younger sister of Lady Jane Grey.\\nA granddaughter of Henry VIII's sister Mary, she emerged as a prospective successor to her cousin, Elizabeth I of England, before incurring Queen Elizabeth's wrath by secretly marrying Edward Seymour, 1st Earl of Hertford. Arrested after the Queen was informed of their clandestine marriage, Katherine (as Lady Hertford) lived in captivity until her death, having borne two sons in the Tower of London.\\n\\n\\n== Family and claim to the throne ==\\nLady Katherine was born on 25 August 1540 at Bradgate Park, near Leicester, the second surviving daughter of Henry Grey, 1st Duke of Suffolk, by his marriage to Lady Frances Brandon. She was the younger sister of Lady Jane Grey and elder sister of Lady Mary Grey. Katherine Grey's maternal grandparents were Charles Brandon, 1st Duke of Suffolk, and Mary Tudor, Dowager Queen of France, youngest surviving daughter of Henry VII and Elizabeth of York.\\nThrough their grandmother, the Grey sisters had a close claim in the line of succession to the English throne. They were preceded in the line of succession only by Henry VIII's three children – Prince Edward, Lady Mary and Lady Elizabeth – and the descendants of Princess Margaret, the elder daughter of Henry VII and Queen Consort of Scotland, after 1542 represented by Mary, Queen of Scots. However, Henry VIII had excluded the Scottish regal line from the English succession in his Will, placing the Grey sisters next-in-line after his own children.\\n\\n\\n== First marriage ==\\nSome time before August 1552, Katherine Grey was betrothed to Henry, Lord Herbert, heir apparent to William Herbert, 1st Earl of Pembroke. In 1553, as King Edward VI was dying, the King and his Chief Minister, John Dudley, 1st Duke of Northumberland, planned to exclude Edward's sister Mary Tudor from the succession in favour of Katherine's elder sister, Lady Jane Grey. According to the Letters Patent of 21 June 1553, Lady Katherine was to be second in the line of succession behind her sister and heirs-male. Lady Jane had been married to Northumberland's son, Lord Guildford Dudley, on 25 May 1553. On the same occasion, Lady Katherine was married to Lord Herbert at Durham House. After the wedding, Katherine (now Lady Herbert) went to live with her husband at Baynard's Castle beside the Thames.  When Lady Jane's accession to the throne failed, Henry's father sought to distance himself from the Grey family by separating his son from Lady Katherine and seeking the annulment of the marriage; this was probably achieved in early 1554, as the union had not been consummated. Meanwhile, her sister (Lady Jane Grey) and her father (the Duke of Suffolk) had been executed in February 1554 after the suppression of Wyatt's Rebellion.\\n\\n\\n== Prospective royal heir under Mary I and Elizabeth I ==\\nDuring the first phase of Queen Mary I's reign, Lady Katherine was senior heir-in-line to the throne as Mary was yet unmarried and her younger sister Elizabeth was regarded as illegitimate. Demoted when Elizabeth was declared heir, Lady Katherine's claim came to the fore again when Queen Elizabeth I acceded to the English throne in November 1558. At one point the Queen was apparently contemplating Lady Katherine Grey as a potential Protestant heir, with rumours of a possible adoption, but any such development was terminated upon Lady Katherine's clandestine marriage to Lord Hertford.\\n\\n\\n== Second marriage ==\\n\\nOne of Lady Katherine's friends, Lady Jane Seymour, daughter of the Duke of Somerset, introduced her brother, Edward Seymour, 1st Earl of Hertford, to Lady Katherine Grey (so restyled after the annulment of her first marriage). Without royal assent, the two were married in December 1560 during a secret ceremony at Lord Hertford's house in Cannon Row, where Lady Jane Seymour was the sole witness.\\nSoon thereafter, the Queen despatched Lord Hertford with Thomas Cecil, eldest s\"),\n",
              " Document(metadata={'title': 'Mary, Queen of Scots', 'summary': \"Mary, Queen of Scots (8 December 1542 – 8 February 1587), also known as Mary Stuart or Mary I of Scotland, was Queen of Scotland from 14 December 1542 until her forced abdication in 1567.\\nThe only surviving legitimate child of James V of Scotland, Mary was six days old when her father died and she inherited the throne. During her childhood, Scotland was governed by regents, first by the heir to the throne, James Hamilton, Earl of Arran, and then by her mother, Mary of Guise. In 1548, she was betrothed to Francis, the Dauphin of France, and was sent to be brought up in France, where she would be safe from invading English forces during the Rough Wooing. Mary married Francis in 1558, becoming queen consort of France from his accession in 1559 until his death in December 1560. Widowed, Mary returned to Scotland in August 1561. The tense religious and political climate following the Scottish Reformation that Mary encountered on her return to Scotland was further agitated by prominent Scots such as John Knox, who openly questioned whether her subjects had a duty to obey her. The early years of her personal rule were marked by pragmatism, tolerance, and moderation. She issued a proclamation accepting the religious settlement in Scotland as she had found it upon her return, retained advisers such as James Stewart, Earl of Moray (her illegitimate half-brother), and William Maitland of Lethington, and governed as the Catholic monarch of a Protestant kingdom.\\nMary married her half-cousin, Henry Stuart, Lord Darnley, in 1565, and in 1566, they had a son, James. After Darnley orchestrated the murder of Mary's Italian secretary and close friend, David Rizzio, their marriage soured. In February 1567, Darnley's residence was destroyed by an explosion, and he was found murdered in the nearby garden. James Hepburn, 4th Earl of Bothwell, was generally believed to have orchestrated Darnley's death, but he was acquitted of the charge in April 1567, and the following month, he married Mary. Following an uprising against the couple, Mary was imprisoned in Lochleven Castle. On 24 July 1567, she was forced to abdicate in favour of her one-year-old son, James VI. After an unsuccessful attempt to regain the throne, she fled southward seeking the protection of her first cousin once removed, Elizabeth I of England.\\nAs a great-granddaughter of Henry VII of England, Mary had once claimed Elizabeth's throne as her own and was considered the legitimate sovereign of England by many English Catholics, including participants in a rebellion known as the Rising of the North. Perceiving Mary as a threat, Elizabeth had her confined in various castles and manor houses in the interior of England. After eighteen-and-a-half years in captivity, Mary was found guilty of plotting to assassinate Elizabeth in 1586 and was beheaded the following year at Fotheringhay Castle. Mary's life and execution established her in popular culture as a romanticised historical character.\\n\\n\", 'source': 'https://en.wikipedia.org/wiki/Mary,_Queen_of_Scots'}, page_content='Mary, Queen of Scots (8 December 1542 – 8 February 1587), also known as Mary Stuart or Mary I of Scotland, was Queen of Scotland from 14 December 1542 until her forced abdication in 1567.\\nThe only surviving legitimate child of James V of Scotland, Mary was six days old when her father died and she inherited the throne. During her childhood, Scotland was governed by regents, first by the heir to the throne, James Hamilton, Earl of Arran, and then by her mother, Mary of Guise. In 1548, she was betrothed to Francis, the Dauphin of France, and was sent to be brought up in France, where she would be safe from invading English forces during the Rough Wooing. Mary married Francis in 1558, becoming queen consort of France from his accession in 1559 until his death in December 1560. Widowed, Mary returned to Scotland in August 1561. The tense religious and political climate following the Scottish Reformation that Mary encountered on her return to Scotland was further agitated by prominent Scots such as John Knox, who openly questioned whether her subjects had a duty to obey her. The early years of her personal rule were marked by pragmatism, tolerance, and moderation. She issued a proclamation accepting the religious settlement in Scotland as she had found it upon her return, retained advisers such as James Stewart, Earl of Moray (her illegitimate half-brother), and William Maitland of Lethington, and governed as the Catholic monarch of a Protestant kingdom.\\nMary married her half-cousin, Henry Stuart, Lord Darnley, in 1565, and in 1566, they had a son, James. After Darnley orchestrated the murder of Mary\\'s Italian secretary and close friend, David Rizzio, their marriage soured. In February 1567, Darnley\\'s residence was destroyed by an explosion, and he was found murdered in the nearby garden. James Hepburn, 4th Earl of Bothwell, was generally believed to have orchestrated Darnley\\'s death, but he was acquitted of the charge in April 1567, and the following month, he married Mary. Following an uprising against the couple, Mary was imprisoned in Lochleven Castle. On 24 July 1567, she was forced to abdicate in favour of her one-year-old son, James VI. After an unsuccessful attempt to regain the throne, she fled southward seeking the protection of her first cousin once removed, Elizabeth I of England.\\nAs a great-granddaughter of Henry VII of England, Mary had once claimed Elizabeth\\'s throne as her own and was considered the legitimate sovereign of England by many English Catholics, including participants in a rebellion known as the Rising of the North. Perceiving Mary as a threat, Elizabeth had her confined in various castles and manor houses in the interior of England. After eighteen-and-a-half years in captivity, Mary was found guilty of plotting to assassinate Elizabeth in 1586 and was beheaded the following year at Fotheringhay Castle. Mary\\'s life and execution established her in popular culture as a romanticised historical character.\\n\\n\\n== Childhood and early reign ==\\n\\nMary was born on 8 December 1542 at Linlithgow Palace, Scotland, to King James V and his French second wife, Mary of Guise. She was said to have been born prematurely and was the only legitimate child of James to survive him. She was the great-granddaughter of King Henry VII of England through her paternal grandmother, Margaret Tudor. Margaret was Henry VIII\\'s older sister so Mary was Henry VIII\\'s great-niece. On 14 December, six days after her birth, she became Queen of Scotland when her father died, perhaps from the effects of a nervous collapse following the Battle of Solway Moss or from drinking contaminated water while on campaign.\\nA popular tale, first recorded by John Knox, states that James, upon hearing on his deathbed that his wife had given birth to a daughter, ruefully exclaimed, \"It cam wi\\' a lass and it will \\tgang wi\\' a lass!\" His House of Stuart had gained the throne of Scotland in the 14th century through \"a lass\"—via the marriage of Marjorie Bruce, daught'),\n",
              " Document(metadata={'title': 'Elizabeth (film)', 'summary': \"Elizabeth is a 1998 British biographical period drama film directed by Shekhar Kapur and written by Michael Hirst. It stars Cate Blanchett in the title role of Elizabeth I of England, with Geoffrey Rush, Christopher Eccleston, Joseph Fiennes, John Gielgud, and Richard Attenborough in supporting roles. The film is based on the early years of Elizabeth's reign, where she is elevated to the throne after the death of her half-sister Mary I, who had imprisoned her. As she establishes herself on the throne, she faces plots and threats to take her down.\\nElizabeth premiered at the 55th Venice International Film Festival on 8 September 1998 and was theatrically released in the United Kingdom on 23 October. The film became a critical and commercial success. Reviewers praised Kapur's direction, costume design, production values and most notably Blanchett's titular performance, bringing her to international recognition, while the film grossed $82 million against its $30 million budget.\\nThe film received three nominations at the 56th Golden Globe Awards, including for the Best Motion Picture – Drama, with Blanchett winning Best Actress. It received twelve nominations at the 52nd British Academy Film Awards, winning five awards, including Outstanding British Film, and Best Actress (for Blanchett). At the 71st Academy Awards, it received seven nominations, including for Best Picture and Best Actress (for Blanchett), winning Best Makeup. In 2007, Blanchett and Rush reprised their roles in Kapur's follow-up film Elizabeth: The Golden Age, which covers the later part of Elizabeth's reign.\", 'source': 'https://en.wikipedia.org/wiki/Elizabeth_(film)'}, page_content=\"Elizabeth is a 1998 British biographical period drama film directed by Shekhar Kapur and written by Michael Hirst. It stars Cate Blanchett in the title role of Elizabeth I of England, with Geoffrey Rush, Christopher Eccleston, Joseph Fiennes, John Gielgud, and Richard Attenborough in supporting roles. The film is based on the early years of Elizabeth's reign, where she is elevated to the throne after the death of her half-sister Mary I, who had imprisoned her. As she establishes herself on the throne, she faces plots and threats to take her down.\\nElizabeth premiered at the 55th Venice International Film Festival on 8 September 1998 and was theatrically released in the United Kingdom on 23 October. The film became a critical and commercial success. Reviewers praised Kapur's direction, costume design, production values and most notably Blanchett's titular performance, bringing her to international recognition, while the film grossed $82 million against its $30 million budget.\\nThe film received three nominations at the 56th Golden Globe Awards, including for the Best Motion Picture – Drama, with Blanchett winning Best Actress. It received twelve nominations at the 52nd British Academy Film Awards, winning five awards, including Outstanding British Film, and Best Actress (for Blanchett). At the 71st Academy Awards, it received seven nominations, including for Best Picture and Best Actress (for Blanchett), winning Best Makeup. In 2007, Blanchett and Rush reprised their roles in Kapur's follow-up film Elizabeth: The Golden Age, which covers the later part of Elizabeth's reign.\\n\\n\\n== Plot ==\\nIn 1558, forty-two year old Catholic Queen Mary I of England, the daughter of Henry VIII and his first wife, Catherine of Aragon, dies, presumably from a cancerous tumor in her womb. Mary's heir presumptive and twenty-five year old half sister, Lady Elizabeth, daughter of Henry and his second wife, Anne Boleyn, was under house arrest for suspected involvement in Thomas Wyatt the Younger's rebellion, is now freed from her imprisonment and crowned as Queen of England.\\nAs briefed by her adviser, Sir William Cecil, Elizabeth inherits a distressed England besieged by debts, crumbling infrastructure, hostile neighbors, and treasonous nobles within her administration, chief among them, Thomas Howard, 4th Duke of Norfolk. Cecil tells Elizabeth that she must marry, produce an heir, and secure her rule. Unimpressed with her suitors, Elizabeth delays her decision and continues her affair with Lord Robert Dudley, her childhood friend. Cecil appoints Francis Walsingham, a Protestant exile returned from France, to act as Elizabeth's bodyguard and adviser.\\nMary of Guise, acting as regent for her young daughter, Mary, Queen of Scots, brings an additional 4,000 French troops to neighboring Scotland. Unfamiliar with military strategy and browbeaten by Norfolk at the war council, Elizabeth orders a military response, which proves disastrous when the professional French soldiers defeat the inexperienced, ill-trained English forces. Walsingham tells Elizabeth that Catholic lords and priests intentionally deprived Elizabeth's army of proper soldiers and used their defeat to argue for Elizabeth's removal. Realizing the depth of the conspiracy against her and her dwindling options, Elizabeth accepts Mary of Guise's conditions to consider marrying her nephew Henry, Duke of Anjou.\\nTo stabilise her rule and heal England's religious divisions, Elizabeth proposes the Act of Uniformity, which unites English Christians under the Church of England and severs their connection to the Vatican. In response to the Act's passage, the Vatican sends a priest to England to aid Norfolk and his cohorts in their growing plot to overthrow Elizabeth. Unaware of the plot, Elizabeth meets Henry of France but ignores his advances in favor of Lord Robert. William Cecil confronts Elizabeth over her indecisiveness about marrying and reveals that Lord Dudley is married. Elizabeth rejects Henry's mar\"),\n",
              " Document(metadata={'title': 'Francis Walsingham', 'summary': 'Sir Francis Walsingham (c.\\u20091532 – 6 April 1590) was principal secretary to Queen Elizabeth I of England from 20 December 1573 until his death and is popularly remembered as her \"spymaster\".\\nBorn to a well-connected family of gentry, Walsingham attended Cambridge University and travelled in continental Europe before embarking on a career in law at the age of twenty. A committed Protestant, during the reign of the Catholic Queen Mary I of England he joined other expatriates in exile in Switzerland and northern Italy until Mary\\'s death and the accession of her Protestant half-sister, Elizabeth.\\nWalsingham rose from relative obscurity to become one of the small coterie who directed the Elizabethan state, overseeing foreign, domestic and religious policy. He served as English ambassador to France in the early 1570s and witnessed the St. Bartholomew\\'s Day massacre. As principal secretary, he supported exploration, colonization, the development of the navy, and the plantation of Ireland. He worked to bring Scotland and England together. Overall, his foreign policy demonstrated a new understanding of the role of England as a maritime Protestant power with intercontinental trading ties. He oversaw operations that penetrated Spanish military preparation, gathered intelligence from across Europe, disrupted a range of plots against Elizabeth and secured the execution of Mary, Queen of Scots.', 'source': 'https://en.wikipedia.org/wiki/Francis_Walsingham'}, page_content='Sir Francis Walsingham (c.\\u20091532 – 6 April 1590) was principal secretary to Queen Elizabeth I of England from 20 December 1573 until his death and is popularly remembered as her \"spymaster\".\\nBorn to a well-connected family of gentry, Walsingham attended Cambridge University and travelled in continental Europe before embarking on a career in law at the age of twenty. A committed Protestant, during the reign of the Catholic Queen Mary I of England he joined other expatriates in exile in Switzerland and northern Italy until Mary\\'s death and the accession of her Protestant half-sister, Elizabeth.\\nWalsingham rose from relative obscurity to become one of the small coterie who directed the Elizabethan state, overseeing foreign, domestic and religious policy. He served as English ambassador to France in the early 1570s and witnessed the St. Bartholomew\\'s Day massacre. As principal secretary, he supported exploration, colonization, the development of the navy, and the plantation of Ireland. He worked to bring Scotland and England together. Overall, his foreign policy demonstrated a new understanding of the role of England as a maritime Protestant power with intercontinental trading ties. He oversaw operations that penetrated Spanish military preparation, gathered intelligence from across Europe, disrupted a range of plots against Elizabeth and secured the execution of Mary, Queen of Scots.\\n\\n\\n== Origins and early life ==\\n\\nFrancis Walsingham was born around 1532, probably at Foots Cray, near Chislehurst in Kent, the only son of William Walsingham (died 1534), a successful and well-connected London lawyer who served as a member of the commission appointed to investigate the estates of Cardinal Thomas Wolsey in 1530. William\\'s elder brother was Sir Edmund Walsingham, Lieutenant of the Tower of London.\\nFrancis\\'s mother was Joyce Denny, a daughter of the courtier Sir Edmund Denny of Cheshunt in Hertfordshire, and a sister of the courtier Sir Anthony Denny, the principal Gentleman of the Privy Chamber to King Henry VIII. After the death of her first husband she married the courtier Sir John Carey in 1538. Carey\\'s brother William was the husband of Mary Boleyn, the elder sister of Anne Boleyn, the second wife of King Henry VIII.\\nOf Francis\\'s five siblings, Mary married Sir Walter Mildmay, who was Chancellor of the Exchequer for over 20 years, and Elizabeth married the parliamentarian Peter Wentworth.\\nFrancis Walsingham matriculated at King\\'s College, Cambridge, in 1548 with many other Protestants but as an undergraduate of high social status did not sit for a degree. From 1550 or 1551, he travelled in continental Europe, returning to England by 1552 to enrol at Gray\\'s Inn, one of the qualifying bodies for English lawyers.\\nUpon the death in 1553 of Henry VIII\\'s successor, Edward VI, Edward\\'s Catholic half-sister Mary became queen. Many wealthy Protestants, such as John Foxe and John Cheke, fled England, and Walsingham was among them. He continued his studies in law at the universities of Basel and Padua, where he was elected to the governing body by his fellow students in 1555.\\n\\n\\n== Rise to power ==\\nMary I died in November 1558 and was succeeded by her Protestant half-sister Elizabeth. Walsingham returned to England and through the support of one of his fellow former exiles, Francis Russell, 2nd Earl of Bedford, he was elected to Elizabeth\\'s first parliament as the member for Bossiney, Cornwall, in 1559. At the subsequent election in 1563, he was returned for both Lyme Regis, Dorset, another constituency under Bedford\\'s influence, and Banbury, Oxfordshire. He chose to sit for Lyme Regis. In January 1562 he married Anne, daughter of Sir George Barne, Lord Mayor of London in 1552–3, and widow of wine merchant Alexander Carleill. Anne died two years later leaving her son Christopher Carleill in Walsingham\\'s care. In 1566, Walsingham married Ursula St. Barbe, widow of Sir Richard Worsley, and Walsingham acquired her estates of Appuldurcombe and Cari'),\n",
              " Document(metadata={'title': 'Isabella I of Castile', 'summary': 'Isabella I (Spanish: Isabel I; 22 April 1451 – 26 November 1504), also called Isabella the Catholic (Spanish: Isabel la Católica), was Queen of Castile and León from 1474 until her death in 1504. She was also Queen of Aragon from 1479 until her death as the wife of King Ferdinand II. Reigning together over a dynastically unified Spain, Isabella and Ferdinand are known as the Catholic Monarchs.\\nAfter a struggle to claim the throne, Isabella reorganized the governmental system, brought the crime rate down, and unburdened the kingdom of the debt, which her half-brother King Henry IV had left behind. Isabella\\'s marriage to Ferdinand in 1469 created the basis of the de facto unification of Spain. Her reforms and those she made with her husband had an influence that extended well beyond the borders of their united kingdoms.\\nIsabella I of Castile and Ferdinand II of Aragon are known for being the first monarchs to be referred to as the \"Queen of Spain\" and \"King of Spain\", respectively. Their actions included completion of the Reconquista, the Alhambra Decree which ordered the mass expulsion of Jews from Spain, initiating the Spanish Inquisition, financing Christopher Columbus\\'s 1492 voyage to the New World, and establishing the Spanish empire, making Spain a major power in Europe and the world and ultimately ushering in the Spanish Golden Age. Together with her husband, Isabella was granted the title of \"Catholic Monarch\" by the Spanish Pope Alexander VI, and was recognized in 1974 as a Servant of God by the Catholic Church.', 'source': 'https://en.wikipedia.org/wiki/Isabella_I_of_Castile'}, page_content='Isabella I (Spanish: Isabel I; 22 April 1451 – 26 November 1504), also called Isabella the Catholic (Spanish: Isabel la Católica), was Queen of Castile and León from 1474 until her death in 1504. She was also Queen of Aragon from 1479 until her death as the wife of King Ferdinand II. Reigning together over a dynastically unified Spain, Isabella and Ferdinand are known as the Catholic Monarchs.\\nAfter a struggle to claim the throne, Isabella reorganized the governmental system, brought the crime rate down, and unburdened the kingdom of the debt, which her half-brother King Henry IV had left behind. Isabella\\'s marriage to Ferdinand in 1469 created the basis of the de facto unification of Spain. Her reforms and those she made with her husband had an influence that extended well beyond the borders of their united kingdoms.\\nIsabella I of Castile and Ferdinand II of Aragon are known for being the first monarchs to be referred to as the \"Queen of Spain\" and \"King of Spain\", respectively. Their actions included completion of the Reconquista, the Alhambra Decree which ordered the mass expulsion of Jews from Spain, initiating the Spanish Inquisition, financing Christopher Columbus\\'s 1492 voyage to the New World, and establishing the Spanish empire, making Spain a major power in Europe and the world and ultimately ushering in the Spanish Golden Age. Together with her husband, Isabella was granted the title of \"Catholic Monarch\" by the Spanish Pope Alexander VI, and was recognized in 1974 as a Servant of God by the Catholic Church.\\n\\n\\n== Life ==\\n\\n\\n=== Early years ===\\nIsabella was born in Madrigal de las Altas Torres to John II of Castile and his second wife, Isabella of Portugal, on 22 April 1451. At the time of Isabella\\'s birth, she was second in line to the throne after her older half-brother Henry IV of Castile. Henry was 26 at that time and married, but childless. Isabella\\'s younger brother Alfonso of Castile was born two years later on 17 November 1453, demoting her position to third in line. When her father died in 1454, her half-brother ascended to the throne as King Henry IV of Castile. Isabella and her brother Alfonso were left in King Henry\\'s care. Isabella, her mother, and Alfonso then moved to Arévalo.\\nThese were times of turmoil for Isabella. The living conditions at their castle in Arévalo were poor, and they suffered from a shortage of money. Although her father arranged in his will for his children to be financially well taken care of, King Henry did not comply with their father\\'s wishes, either from a desire to keep his half-siblings restricted or from ineptitude. Even though her living conditions were difficult, Isabella was instructed in lessons of practical piety and in a deep reverence for religion under the supervision of her mother.\\nWhen the king\\'s wife, Joan of Portugal, was about to give birth to their daughter Joanna, Isabella and her brother Alfonso were summoned to court in Segovia to come under the direct supervision of the king and to finish their education. Alfonso was placed in the care of a tutor while Isabella became part of the queen\\'s household.\\n\\nSome of Isabella\\'s living conditions improved in Segovia. She always had food and clothing and lived in a castle that was adorned with gold and silver. Isabella\\'s basic education consisted of reading, spelling, writing, grammar, history, arithmetic, art, chess, dancing, embroidery, music, and religious instruction. She and her ladies-in-waiting entertained themselves with art, embroidery, and music. She lived a relaxed lifestyle, but she rarely left Segovia since King Henry forbade this. Her half-brother was keeping her from the political turmoil going on in the kingdom, though Isabella had full knowledge of what was going on and of her role in the feuds.\\nAfter a rumor spread that Joanna was not actually the daughter of King Henry but rather of a royal favorite, Beltrán de la Cueva, noblemen confronted King Henry and demanded that the king\\'s younger half-brother '),\n",
              " Document(metadata={'title': 'Becoming Elizabeth', 'summary': 'Becoming Elizabeth is a historical drama television series, created by Anya Reiss, that follows the younger years of Queen Elizabeth I, who lived in the 16th century. It premiered on Starz on 12 June 2022 and Channel 4 on 15 June. In October 2022, the series was cancelled.', 'source': 'https://en.wikipedia.org/wiki/Becoming_Elizabeth'}, page_content='Becoming Elizabeth is a historical drama television series, created by Anya Reiss, that follows the younger years of Queen Elizabeth I, who lived in the 16th century. It premiered on Starz on 12 June 2022 and Channel 4 on 15 June. In October 2022, the series was cancelled.\\n\\n\\n== Plot ==\\nThe series follows the younger years of the only surviving child of Anne Boleyn and Henry VIII, Queen Elizabeth I, who starts out in the story as an orphaned teenager who becomes embroiled in the politics of the English court on her journey towards the crown. Before cancellation, the series covered almost the full reign of her younger half brother, Edward VI.\\n\\n\\n== Cast and characters ==\\nAlicia von Rittberg as Elizabeth Tudor\\nRomola Garai as Mary Tudor\\nJessica Raine as Catherine Parr\\nTom Cullen as Thomas Seymour\\nBella Ramsey as Jane Grey\\nJamie Parker as John Dudley, 1st Duke of Northumberland\\nOliver Zetterström as King Edward VI\\nJohn Heffernan as Edward Seymour, 1st Duke of Somerset\\nJamie Blackley as Lord Robert Dudley\\nJacob Avery as Lord Guildford Dudley\\nAlexandra Gilbreath as Kat Ashley\\nLeo Bill as Henry Grey\\nEkow Quartey as Pedro\\nAlex Macqueen as Stephen Gardiner\\nOlivier Huband as Ambassador Guzman\\nRobert Whitelock as Robert Kett\\nRuby Ashbourne Serkis as Amy Robsart\\n\\n\\n== Episodes ==\\n\\n\\n== Production ==\\n\\n\\n=== Development ===\\nIn December 2019, it was announced Starz had greenlit an 8-episode series focusing on the younger years of Queen Elizabeth I created by Anya Reiss, who would also serve as an executive producer. In October 2022, it was announced that Starz had cancelled the show and there would be no season 2 covering the reign of Mary I.\\n\\n\\n=== Casting ===\\nIn October 2020, Alicia von Rittberg joined the cast of the series. In May 2021, Romola Garai, Jessica Raine, Tom Cullen, Bella Ramsey, Oliver Zetterström, John Heffernan, Jamie Blackley, Jacob Avery, Alexandra Gilbreath, Leo Bill, Ekow Quartey, Alex Macqueen and Oliver Huband joined the cast of the series.\\n\\n\\n=== Filming ===\\nPrincipal photography began in December 2020. In March 2021, production took place at Cardiff Castle.\\n\\n\\n== Reception ==\\nOn the review aggregator website Rotten Tomatoes, 88% of 16 critics\\' reviews are positive, with an average rating of 6.9/10. The website\\'s consensus reads, \"Angsty as a disgruntled teenager and all the better for it, Becoming Elizabeth finds fresh drama in the Tudors by shifting focus onto the royal court\\'s web of spiders.\". Particular praise was given to Romola Garai in her role as Mary Tudor, with many commentating that she stole the show. Metacritic, which uses a weighted average, assigned a score of 73 out of 100 based on 11 critics, indicating \"generally favorable reviews\".\\nThe series was repeated in the UK on Channel 4 from 15 July 2023.\\n\\n\\n== References ==\\n\\n\\n== External links ==\\nBecoming Elizabeth at IMDb'),\n",
              " Document(metadata={'title': 'Elizabeth Raleigh', 'summary': 'Elizabeth, Lady Raleigh (née Throckmorton; 16 April 1565 – c. 1647), was an English courtier, a Gentlewoman of the Privy Chamber to Queen Elizabeth I of England. Her secret marriage to Sir Walter Raleigh precipitated a long period of royal disfavour for both her and her husband.\\n\\n', 'source': 'https://en.wikipedia.org/wiki/Elizabeth_Raleigh'}, page_content='Elizabeth, Lady Raleigh (née Throckmorton; 16 April 1565 – c. 1647), was an English courtier, a Gentlewoman of the Privy Chamber to Queen Elizabeth I of England. Her secret marriage to Sir Walter Raleigh precipitated a long period of royal disfavour for both her and her husband.\\n\\n\\n== Life ==\\nElizabeth, known also as \"Bess\", was the daughter of the diplomat Sir Nicholas Throckmorton and Anne Throckmorton (née Carew). Bess and her brother Arthur were courtiers to Elizabeth I. \\nIn her book, The Life of Elizabeth I (1998), British author and historian Alison Weir states Throckmorton and Raleigh\\'s first child was conceived by July 1591, the couple were married \"in great secrecy\" in the autumn of 1591, and their son was born in March 1592. The boy was christened Damerei, after Sir Walter\\'s claimed ancestors, the D\\'Ameries. Damerei is believed to have died during infancy.\\nWeir states that Queen Elizabeth first became aware in May 1592 of the secret marriage and of Damerei\\'s birth, despite Bess and Sir Walter\\'s denials. The couple had married without royal permission, but, significantly, Robert Devereux, 2nd Earl of Essex, was in on the secret and acting as godfather to the Raleighs\\' son. Once the queen found out, she first placed Bess and Raleigh under house arrest, then sent them to the Tower of London, in June 1592. Raleigh was released from the Tower in August 1592 and Bess in December 1592, at which time she joined her husband at Sherborne Castle, his Dorset estate. The couple remained devoted to each other, although, according to Weir, Bess proved to be a domineering wife. Anna Beer, Lady Raleigh\\'s biographer, offers a different perspective, pointing out that due to Raleigh\\'s frequent absences, whether on expeditions, diplomatic duties, or in prison, Bess had to shoulder an unusual level of responsibility for a woman of her time. The Raleighs\\' second son, Walter, was born in 1593 at Sherborne.\\nAfter the Union of Crowns in 1603, many courtiers travelled to Northamptonshire to greet the new queen, Anne of Denmark, and her children, and to seek royal favour. Lord Buckhurst wrote on 21 June 1603 that he and the Lord Keeper Thomas Egerton were travelling \"to do our duties to the Queen, the Prince, and Princess, all the world flying beforehand to see her\". Bess made the same trip, but was disappointed. Sir Robert Crosse wrote that she had persuaded him to make an \"idle journey\" to meet the queen and she had received \"but idle graces\". \\nThe couple\\'s third son was born in January 1605, by which time Raleigh was again a prisoner in the Tower of London. Named Carew, which was both Bess\\'s mother\\'s maiden name and the name of one of Raleigh\\'s brothers, he was christened within the walls of the Tower in the church of St Peter ad Vincula. After Raleigh\\'s execution in 1618, Bess worked tirelessly to re-establish her late husband\\'s reputation and, in 1628, saw a Bill of Restitution restore the Raleigh name \\'in blood\\', which allowed her one surviving son to inherit.\\nBess is said to have had her husband\\'s head embalmed and to have carried it around with her for the rest of her life, although the only documented reference to Raleigh\\'s head is from the day of his execution, when it was noted that Lady Raleigh and her ladies left the scene carrying Sir Walter\\'s head in a red bag. An account from 1740 claims that, after Bess\\'s death, Raleigh\\'s head was returned to his tomb in St Margaret\\'s, Westminster.  \\nThrough both her parents, Bess had connections to Henry VIII. Her father, Nicholas Throckmorton, was the cousin of Henry\\'s sixth wife, Queen Catherine Parr. Anne Carew, Elizabeth\\'s mother, was the daughter of Nicholas Carew and Elizabeth Carew née Bryan. Nicholas had been a close friend of Henry, from childhood until his execution in 1539.\\n\\n\\n== Fictional depictions ==\\nBessie Throckmorton is a major character in Edward German\\'s operetta Merrie England (1902).\\nNorah Lofts in her 1936 fictionalized biography of Walter Raleigh, Here Was a Man, depicted '),\n",
              " Document(metadata={'title': 'Elizabeth: The Golden Age', 'summary': \"Elizabeth: The Golden Age is a 2007 biographical historical drama film directed by Shekhar Kapur and produced by Universal Pictures and Working Title Films. It stars Cate Blanchett in the title role and is a loose but fact-based portrayal of events during the latter part of the reign of Elizabeth I, forming a sequel to Kapur's 1998 film Elizabeth. The film co-stars Geoffrey Rush (reprising his role from the previous film), Clive Owen, Jordi Mollà, Abbie Cornish, and Samantha Morton. The screenplay was written by William Nicholson and Michael Hirst, and the music score was composed by Craig Armstrong and A. R. Rahman. Guy Hendrix Dyas was the film's production designer and co-visual effects supervisor, and the costumes were created by Alexandra Byrne. The film was shot at Shepperton Studios and various locations around the United Kingdom.\\nThe film premiered on 9 September 2007 at the Toronto International Film Festival. It opened in wide release in the United States on 12 October 2007, premiered in London on 23 October 2007, and opened wide on 2 November 2007 throughout the rest of the UK and Republic of Ireland. At the 80th Academy Awards, the film won Best Costume Design and Blanchett received a nomination for Best Actress.\", 'source': 'https://en.wikipedia.org/wiki/Elizabeth:_The_Golden_Age'}, page_content='Elizabeth: The Golden Age is a 2007 biographical historical drama film directed by Shekhar Kapur and produced by Universal Pictures and Working Title Films. It stars Cate Blanchett in the title role and is a loose but fact-based portrayal of events during the latter part of the reign of Elizabeth I, forming a sequel to Kapur\\'s 1998 film Elizabeth. The film co-stars Geoffrey Rush (reprising his role from the previous film), Clive Owen, Jordi Mollà, Abbie Cornish, and Samantha Morton. The screenplay was written by William Nicholson and Michael Hirst, and the music score was composed by Craig Armstrong and A. R. Rahman. Guy Hendrix Dyas was the film\\'s production designer and co-visual effects supervisor, and the costumes were created by Alexandra Byrne. The film was shot at Shepperton Studios and various locations around the United Kingdom.\\nThe film premiered on 9 September 2007 at the Toronto International Film Festival. It opened in wide release in the United States on 12 October 2007, premiered in London on 23 October 2007, and opened wide on 2 November 2007 throughout the rest of the UK and Republic of Ireland. At the 80th Academy Awards, the film won Best Costume Design and Blanchett received a nomination for Best Actress.\\n\\n\\n== Plot ==\\nIn 1585, Catholic Spain, ruled by King Philip II, is the most powerful country in Europe. Seeing that the Catholic plots against Queen Elizabeth\\'s life that occurred from the 1570s onwards had all failed, Pope Sixtus V approached King Philip, who had amassed the most significant naval force in all of Europe and convinced the king to use this naval force to invade and re-Catholicize England. By doing so, Philip, with the pope\\'s blessing, would overthrow Elizabeth and take control of England. Philip agrees and plots to take over England and make his daughter, Isabella, the Queen of England in Elizabeth\\'s place. Meanwhile,  Elizabeth is being pressured by her advisor, Francis Walsingham, to marry; if Elizabeth dies childless, the throne will pass to her first cousin, Mary, Queen of Scots, who is Catholic.\\nEnglish explorer Walter Raleigh is presented at court, having returned from the New World. Queen Elizabeth is attracted to Raleigh, enthralled by his tales of exploration, and asks Elizabeth \"Bess\" Throckmorton, her most favoured lady-in-waiting, to observe him. Bess also finds Raleigh attractive and they begin a secret affair. With tensions strained between England and Spain, Elizabeth seeks guidance from her astrologer, Dr. John Dee.\\nJesuits in London conspire with Philip to assassinate Elizabeth and replace her with Mary of Scots, in what King Philip calls \"The English Enterprise,\" historically known as the Babington Plot. From her imprisonment, Mary sends secret correspondence to the Jesuits, who recruit Anthony Babington to assassinate Elizabeth. Walsingham continues to warn Queen Elizabeth of Spain\\'s rising power and of the Catholic plots against her, but unlike her predecessor and half-sister, Queen Mary, Elizabeth refuses to force her people to share her religious beliefs.\\nWalsingham\\'s Catholic brother, who knows of the plot against Elizabeth, is jailed, leading Walsingham to reveal Spain\\'s plan to Queen Elizabeth, who angrily confronts the Spanish diplomats. The Spanish ambassador feigns ignorance, accuses her of receiving stolen Spanish gold from pirates, and insinuates that she has a sexual relationship with Raleigh. Enraged, Elizabeth throws the Spaniards out of England. Meanwhile, Philip is cutting down the forests of Spain to build the Spanish Armada to invade England. Mary writes letters condoning the plot.\\nBabington storms into a cathedral where Elizabeth is praying and fires a pistol at her, though Elizabeth is unharmed as there was no bullet in the gun. As Elizabeth learns of Mary\\'s involvement in the plot, Walsingham insists Mary be executed to quell any possible revolt. Elizabeth reluctantly agrees. Mary is tried for high treason and beheaded; Walsingham realises this was par'),\n",
              " Document(metadata={'title': 'Coronation of Elizabeth I', 'summary': \"The coronation of Elizabeth I as Queen of England and Ireland took place at Westminster Abbey, London, on 15 January 1559. Elizabeth I had ascended the throne at the age of 25 upon the death of her half-sister, Mary I, on 17 November 1558. Mary had reversed the Protestant Reformation which had been started by her two predecessors, so this was the last coronation in Great Britain to be conducted under the authority of the Catholic Church. Historians view Elizabeth's coronation as a statement of her intention to restore England to Protestantism, but to allow the continuation of some Catholic customs, a compromise known as the Elizabethan Settlement.\", 'source': 'https://en.wikipedia.org/wiki/Coronation_of_Elizabeth_I'}, page_content='The coronation of Elizabeth I as Queen of England and Ireland took place at Westminster Abbey, London, on 15 January 1559. Elizabeth I had ascended the throne at the age of 25 upon the death of her half-sister, Mary I, on 17 November 1558. Mary had reversed the Protestant Reformation which had been started by her two predecessors, so this was the last coronation in Great Britain to be conducted under the authority of the Catholic Church. Historians view Elizabeth\\'s coronation as a statement of her intention to restore England to Protestantism, but to allow the continuation of some Catholic customs, a compromise known as the Elizabethan Settlement.\\n\\n\\n== Background ==\\nThe reign of Elizabeth I\\'s father, Henry VIII, was one of great political and social change. Religious upheaval in continental Europe and Henry\\'s dispute with the Pope over his marital difficulties led Henry to break from the Catholic Church and to establish the Church of England. Henry VIII was succeeded by his son Edward VI, under whom the Protestant reforms continued. However, Edward\\'s early death in 1553 led to the accession of Henry\\'s daughter Mary I. She returned England to Catholicism, burning at the stake some 300 Protestants as heretics and forcing others into exile. The Protestant-minded Elizabeth outwardly conformed with Mary, but became the focus of opposition to the increasingly unpopular government. Mary became ill in May 1558 and formally recognised Elizabeth as her heir presumptive on 6 November. Elizabeth was at Hatfield House to the north of London when she was informed of Mary\\'s death on 17 November.\\n\\n\\n== Preparations ==\\nElizabeth I\\'s first surviving state paper is dated 17 November 1558, the day of her accession, and is a memorandum for the appointment of \"Commissioners for the Coronation\"; a month later five had been selected, with Sir Richard Sackville taking charge. The date of Sunday 15 January 1559 was set: not, as in previous coronations, an appropriate Christian holy day but, following the advice of her court astrologer, Dr John Dee, one on which the stars and planets would be in favourable positions. The brief time between accession and coronation was also a product of Elizabeth\\'s concern over her legal status; the First Succession Act of 1533 and the Second Succession Act of 1536 had declared both Mary and Elizabeth to be bastards and excluded them from the line of succession. Although the Third Succession Act of 1543/44 had restored their place in the succession, it had not restored their legitimacy. Elizabeth consulted Sir Nicholas Bacon, the Lord Keeper of the Great Seal, who warned against attempting to repeal the Succession Acts and the tangle of legislation relating to them. Instead, he advised that following her coronation, Elizabeth\\'s right to rule would be beyond question since \"the English laws have long since pronounced, That the Crowne once worn quite taketh away all Defects whatsoever\".\\nCoronation festivities at that time consisted of four parts: the vigil procession to the Tower of London where the monarch would spend one or more nights in vigil; on the day before the coronation, the royal entry procession through the streets of the City of London to the Palace of Westminster; the coronation service itself in Westminster Abbey, and finally the coronation banquet in Westminster Hall. Although the religious ceremony at Westminster Abbey was theoretically the main event, Elizabeth was aware that it was the elaborate processions through London which would secure the new queen\\'s popularity with her subjects: not a foregone conclusion given that she was an unmarried woman, that her claim to the throne rested on her executed mother and that there was likely to be a further period of religious upheaval. The queen spent some £16,000 of her own money on the coronation, while the aldermen, livery companies and merchants of the City contributed a very substantial amount; exactly how much is unknown. Unusually, the foreign merchants of'),\n",
              " Document(metadata={'title': 'Elizabeth Boleyn, Countess of Wiltshire', 'summary': 'Elizabeth Boleyn, Countess of Wiltshire (born Elizabeth Howard; c. 1480 – 3 April 1538) was an English noblewoman, noted for being the mother of Anne Boleyn and as such the maternal grandmother of Elizabeth I of England. The eldest daughter of Thomas Howard, 2nd Duke of Norfolk and his first wife Elizabeth Tilney, she married Thomas Boleyn sometime in the later 15th century. Elizabeth became Viscountess Rochford in 1525 when her husband was elevated to the peerage, subsequently becoming Countess of Ormond in 1527 and Countess of Wiltshire in 1529.\\n\\n', 'source': 'https://en.wikipedia.org/wiki/Elizabeth_Boleyn,_Countess_of_Wiltshire'}, page_content='Elizabeth Boleyn, Countess of Wiltshire (born Elizabeth Howard; c. 1480 – 3 April 1538) was an English noblewoman, noted for being the mother of Anne Boleyn and as such the maternal grandmother of Elizabeth I of England. The eldest daughter of Thomas Howard, 2nd Duke of Norfolk and his first wife Elizabeth Tilney, she married Thomas Boleyn sometime in the later 15th century. Elizabeth became Viscountess Rochford in 1525 when her husband was elevated to the peerage, subsequently becoming Countess of Ormond in 1527 and Countess of Wiltshire in 1529.\\n\\n\\n== Family and early life ==\\nElizabeth was born c. 1480 into the wealthy and influential Howard family, as the elder of the two daughters of Sir Thomas Howard, later 2nd Duke of Norfolk, and his first wife Elizabeth Tilney. Her paternal grandfather, Sir John Howard, was created Duke of Norfolk in 1483 by King Richard III.\\nHer family managed to survive the fall of their patron, King Richard III, who was killed at Bosworth in 1485 and supplanted by the victor, King Henry VII, when she was about five years old. Elizabeth became a part of the royal court as a young girl.\\n\\n\\n== Marriage and lady-in-waiting for the royal court ==\\nIt was while she was at court, that she wed Thomas Boleyn, an ambitious young courtier, sometime before 1500, probably in 1498. According to Thomas, his wife was pregnant many times in the next few years but only three children lived to adulthood. The three children were:\\n\\nMary Boleyn, mistress of Henry VIII of England (c. 1499 – 19 July 1543).\\nGeorge Boleyn, Viscount Rochford (c. 1504 – 17 May 1536).\\nAnne Boleyn, Queen consort of Henry VIII of England (c. 1501/7 – 19 May 1536)\\nThe other two boys were Thomas born 1496 and Henry \\'Hal\\' born 1500.  Both died of the sweating sickness plague during the outbreak in 1517.\\nThroughout this time, Elizabeth was a lady-in-waiting at the royal court; first to Elizabeth of York, and then to Catherine of Aragon. Based on later gossip, Elizabeth Boleyn must have been a highly attractive woman. Rumours circulated when Henry was involved with Anne Boleyn that Elizabeth had once been his mistress, with the suggestion even being made that Anne Boleyn might be the daughter of Henry VIII. However, despite recent attempts by one or two historians to rehabilitate this myth, it was denied by Henry and never mentioned in the dispensation he sought in order to make his union with Anne lawful. Most historians believe it is likely that this rumour began by confusing Elizabeth with Henry\\'s more famous mistress Elizabeth Blount, or from the growing unpopularity of the Boleyn family after 1527.\\n\\n\\n== 1519–1536 ==\\n\\nIn 1519, Elizabeth\\'s daughters, Anne and Mary, were living in the French royal court as Ladies-in-waiting to the French Queen consort Claude. According to the papal nuncio in France fifteen years later, the French King Francis I had referred to Mary as \"my English mare\", and later in his life described her as \"a great whore, the most infamous of all\".\\nIn the words of historian M.L. Bruce, both Thomas and Elizabeth \"developed feelings of dislike\" for their daughter Mary. In later years, Mary\\'s romantic involvements would only further strain this relationship. Around 1520, the Boleyns managed to arrange Mary\\'s marriage to William Carey, a respected and popular man at court. It was sometime after the wedding that Mary became mistress to Henry VIII (the exact dates as to when the affair started and ended are unknown), although she never held the title of \"official royal mistress,\" as the post did not exist in England. It has long been rumoured that one or both of Mary Boleyn\\'s children were fathered by Henry and not Carey. Some historians, such as Alison Weir, now question whether Henry Carey was fathered by the King. Few of Henry\\'s mistresses were ever publicly honoured, except Elizabeth Blount, who was mentioned in Parliament and whose son, Henry Fitzroy, was created Duke of Richmond and Somerset in an elaborate public ceremony in 1525. H'),\n",
              " Document(metadata={'title': 'HMS Queen Elizabeth (R08)', 'summary': \"HMS Queen Elizabeth is the lead ship of the Queen Elizabeth class of aircraft carriers and the Fleet Flagship of the Royal Navy. Capable of carrying 60 aircraft including fixed wing, rotary wing and autonomous vehicles, she is named in honour of the first HMS Queen Elizabeth, a World War I era super-dreadnought, which in turn was named after Queen Elizabeth I. The carrier Queen Elizabeth carries her namesake ship's honours, as well as her Tudor rose-adorned crest and motto.\\nQueen Elizabeth commenced her sea trials in June 2017, was commissioned on 7 December 2017 and entered service in 2020. Her first seagoing commanding officer was Commodore Jerry Kyd who was appointed in 2014 but did not take command until May 2016, having previously commanded the carriers Ark Royal and Illustrious.\\nThe ship is designed to operate V/STOL aircraft. The air wing will typically consist of F-35B Lightning II multirole fighters and Merlin helicopters for airborne early warning and anti-submarine warfare. The design emphasises flexibility, with accommodation for 250 Royal Marines and the ability to support them with attack helicopters and large troop transports such as Chinooks. She  is based at HMNB Portsmouth.\\nQueen Elizabeth will deploy as the central part of a UK Carrier Strike Group with escorts and support ships in order to deliver carrier-enabled power projection.\", 'source': 'https://en.wikipedia.org/wiki/HMS_Queen_Elizabeth_(R08)'}, page_content='HMS Queen Elizabeth is the lead ship of the Queen Elizabeth class of aircraft carriers and the Fleet Flagship of the Royal Navy. Capable of carrying 60 aircraft including fixed wing, rotary wing and autonomous vehicles, she is named in honour of the first HMS Queen Elizabeth, a World War I era super-dreadnought, which in turn was named after Queen Elizabeth I. The carrier Queen Elizabeth carries her namesake ship\\'s honours, as well as her Tudor rose-adorned crest and motto.\\nQueen Elizabeth commenced her sea trials in June 2017, was commissioned on 7 December 2017 and entered service in 2020. Her first seagoing commanding officer was Commodore Jerry Kyd who was appointed in 2014 but did not take command until May 2016, having previously commanded the carriers Ark Royal and Illustrious.\\nThe ship is designed to operate V/STOL aircraft. The air wing will typically consist of F-35B Lightning II multirole fighters and Merlin helicopters for airborne early warning and anti-submarine warfare. The design emphasises flexibility, with accommodation for 250 Royal Marines and the ability to support them with attack helicopters and large troop transports such as Chinooks. She  is based at HMNB Portsmouth.\\nQueen Elizabeth will deploy as the central part of a UK Carrier Strike Group with escorts and support ships in order to deliver carrier-enabled power projection.\\n\\n\\n== Design and construction ==\\nOn 25 July 2007 Defence Secretary Des Browne announced the order for two new carriers. At the time of approval the first carrier was expected to enter service in July 2015 and the budget was £4.085 billion for two ships. The financial crisis led to a political decision in December 2008 to slow production, delaying Queen Elizabeth until May 2016. This added £1.56 billion to the cost. By March 2010 the budget was estimated at £5.9 billion and in November 2013 the contract was renegotiated with a budget of £6.2 billion. The in-service date was further extended to 2020 in the Strategic Defence and Security Review in October 2010.\\nConstruction of Queen Elizabeth began in 2009. The assembly took place in the Firth of Forth at Rosyth Dockyard from nine blocks built in six UK shipyards: BAE Systems Surface Ships in Glasgow, Babcock at Appledore, Babcock at Rosyth, A&P Tyne in Hebburn, BAE at Portsmouth and Cammell Laird (flight decks) at Birkenhead. Two of the lower main blocks, together weighing more than 6,000 tonnes and forming part of the base of the ship, were assembled and joined into one piece on 30 June 2011.\\nOn 16 August 2011, the 8,000-tonne Lower Block 03 of Queen Elizabeth left BAE Systems Surface Ships\\' Govan shipyard in Glasgow on a large ocean-going barge. Travelling 600 miles (970 km) around the northern coast of Scotland, the block arrived at Rosyth on the evening of 20 August 2011.\\nOn 28 October 2012, an 11,000-tonne section of the carrier began a lengthy journey around the south coast of England, avoiding bad weather, from the shipbuilding hall at Govan to the Rosyth dockyard; it arrived on 21 November. The forward island was constructed at BAE Portsmouth and attached on 14 March 2013; the aft island was attached in June 2013. The ski jump was added in November 2013, leaving just the lifts and radar to be lifted into place. By September 2013 Queen Elizabeth was 80% complete internally.\\nThe carrier is three times the size of the Invincible-class, and has the ability to carry approximately three times as many aircraft. Despite this, Queen Elizabeth has marginally fewer crew than the Invincible-class. The ship has two superstructures, or islands, one for navigation and ship\\'s operations and the other for flight control and aerial operations. The islands can take on each other\\'s function if one is incapacitated.\\n\\n\\n=== Naming ceremony ===\\n\\nQueen Elizabeth was christened at Rosyth on 4 July 2014, by Queen Elizabeth II, who said that the warship \"marks a new phase in our naval history\". Instead of smashing the traditional bottle of champagne on '),\n",
              " Document(metadata={'title': 'Inventory of Elizabeth I', 'summary': \"Costume and gold and silver plate belonging to Elizabeth I were recorded in several inventories, and other documents including rolls of New Year's Day gifts. Arthur Jefferies Collins published the Jewels and Plate of Queen Elizabeth I: The Inventory of 1574 from manuscripts in 1955. The published inventory describes jewels and silver-plate belonging to Elizabeth with detailed references to other source material. Two inventories of Elizabeth's costume and some of her jewellery were published by Janet Arnold in Queen Elizabeth's Wardrobe Unlocke'd (Maney, 1988).\\n\\n\", 'source': 'https://en.wikipedia.org/wiki/Inventory_of_Elizabeth_I'}, page_content='Costume and gold and silver plate belonging to Elizabeth I were recorded in several inventories, and other documents including rolls of New Year\\'s Day gifts. Arthur Jefferies Collins published the Jewels and Plate of Queen Elizabeth I: The Inventory of 1574 from manuscripts in 1955. The published inventory describes jewels and silver-plate belonging to Elizabeth with detailed references to other source material. Two inventories of Elizabeth\\'s costume and some of her jewellery were published by Janet Arnold in Queen Elizabeth\\'s Wardrobe Unlocke\\'d (Maney, 1988).\\n\\n\\n== Introduction ==\\nIn 1574 the office of the Jewel House was located in a two-storey building on the south side of the White Tower. This contained the records of the jewels and packing materials for sending jewels to court. The 1574 inventory was made John Astley, Master and Treasurer of the Jewel House. The Master had an annual salary of £50 and was able to exact payments from goldsmiths appointed to work for the Jewel House, and those who transported plate from the House to diplomats. The post was lucrative, but some of the perquisites of the role were exaggerated or overstated by Sir Gilbert Talbot, who was made Master in 1660 and in 1680 wrote a treatise entitled Of the Jewel house. In the inventory the items were listed in categories; below an outline of the main categories is given with some examples of the 1,605 entries.\\nThe sources used by Collins were British Library Harley MS 1560 and Stowe MS 555 (see external links for digitised manuscripts). The manuscripts represent the \"Quenis Majesties juelles plate and other stuff\" in 1574 and additions by gift or purchase over the next 20 years which were kept in the Jewel House at the Tower of London. Collins also collated information from other books and manuscripts to cross-reference information about the objects listed. Gifts of plate to the queen passed from the Privy Chamber to the Jewel House. Some pieces were melted down and others were given as diplomatic gifts. When the queen travelled, the towns she visited often gave her gifts of silver-gilt cups.\\nJanet Arnold published an annotated wardrobe inventory now in the British Library, (Stowe MS 557), consulting also a duplicate copy at the National Archives, and another inventory held by the Folger Shakespeare Library, MS V. b.72. The inventory includes some of the queen\\'s jewels.\\n\\n\\n== Outline of the 1574 inventory of plate ==\\n\\n\\n=== Gold plate ===\\nJuelles of Golde\\nno. 1 The imperial crown of England.\\nno. 2 The sceptre of gold with a dove.\\nno. 3 The globe or round ball (orb) with a cross.\\nno. 4 The queen\\'s crown (intended for a queen consort).\\nno. 5 The queen\\'s sceptre with a dove intended for a queen consort). One sceptre was repaired by Cornelis Hayes for the coronation of Anne Boleyn, and later issued to Dorothy Bulstrode for a masque of Anne of Denmark, and a gold wing was lost.\\nno. 6 A pair of bracelets with six rubies and seven large pearls and five smaller pearls, with red laces.\\nCups and bowls\\n\\nno. 48 The St Agnes cup. A cup of gold with imagery the knop a crown imperial and about border of the cover and the foot a crown garnished with 61 pearls.\\nno. 49 A jewelled gold cup given to James VI of Scotland at the christening of Prince Henry at Stirling Castle on 30 August 1594.\\nno. 75 A cup of \"assaye\" of gold fair wrought and enamelled. Given to Christian IV of Denmark on 5 August 1606.\\nCandlesticks\\nno. 77: Four gold candlesticks for a table with \"H\" and \"R\" enamelled in red. Three were gifts to Henry VIII from Catherine of Aragon.\\nGoblets and jugs\\nSalt cellars\\nno. 83 A salt called the \"Morris Dance\" decorated with precious stones and pearls with 5 morris dancers, a drummer, and a lady. The salt was taken to The Hague in October 1625 by the Duke of Buckingham and pawned.\\nOrange-strainers\\nTrenchers\\nSpoons and forks\\nBasins, ewers and lairs\\nno. 125 A gold basin with the arms of Jane Seymour with gold roses enamelled red and white, and the border of the cover en'),\n",
              " Document(metadata={'title': 'Lady Jane Grey', 'summary': 'Lady Jane Grey (c.\\u20091537 – 12 February 1554), also known as Lady Jane Dudley after her marriage and as the \"Nine Days\\' Queen\", was an English noblewoman who claimed the throne of England and Ireland from 10 to 19 July 1553.\\nJane was the great-granddaughter of Henry VII, through his youngest daughter Mary, and a great-niece of Henry VIII, and cousin to Edward VI, Mary I and Elizabeth I. Under the will of Henry VIII, Jane was in line to the throne after her cousins. She had a humanist education and a reputation as one of the most learned young women of her day. In May 1553, she was married to Lord Guildford Dudley, a younger son of Edward VI\\'s chief minister John Dudley, Duke of Northumberland. In June 1553, the dying Edward VI wrote his will, nominating Jane and her male heirs as successors to the Crown, in part because his half-sister Mary was Catholic, while Jane was a committed Protestant and would support the reformed Church of England, whose foundation Edward laid. The will removed his half-sisters, Mary and Elizabeth, from the line of succession on account of their illegitimacy, subverting their lawful claims under the Third Succession Act.  Through Northumberland, Edward\\'s letters patent in favour of Jane was signed by the entire privy council, bishops, and other notables.\\nAfter Edward\\'s death, Jane was proclaimed queen on 10 July 1553, and awaited coronation in the Tower of London. Support for Mary grew rapidly and most of Jane\\'s supporters abandoned her. The Privy Council of England suddenly changed sides, and proclaimed Mary as queen on 19 July 1553, deposing Jane. Her primary supporter, her father-in-law, the Duke of Northumberland, was accused of treason, and executed less than a month later. Jane was held prisoner in the Tower, and in November 1553 was also convicted of treason, which carried a sentence of death.\\nMary initially spared her life, but Jane soon became viewed as a threat to the Crown when her father, Henry Grey, 1st Duke of Suffolk, became involved with Wyatt\\'s rebellion against Queen Mary\\'s intention to marry Philip of Spain. Jane and her husband were executed on 12 February 1554. At the time of her execution, Jane was either 16 or 17 years old.\\n\\n', 'source': 'https://en.wikipedia.org/wiki/Lady_Jane_Grey'}, page_content='Lady Jane Grey (c.\\u20091537 – 12 February 1554), also known as Lady Jane Dudley after her marriage and as the \"Nine Days\\' Queen\", was an English noblewoman who claimed the throne of England and Ireland from 10 to 19 July 1553.\\nJane was the great-granddaughter of Henry VII, through his youngest daughter Mary, and a great-niece of Henry VIII, and cousin to Edward VI, Mary I and Elizabeth I. Under the will of Henry VIII, Jane was in line to the throne after her cousins. She had a humanist education and a reputation as one of the most learned young women of her day. In May 1553, she was married to Lord Guildford Dudley, a younger son of Edward VI\\'s chief minister John Dudley, Duke of Northumberland. In June 1553, the dying Edward VI wrote his will, nominating Jane and her male heirs as successors to the Crown, in part because his half-sister Mary was Catholic, while Jane was a committed Protestant and would support the reformed Church of England, whose foundation Edward laid. The will removed his half-sisters, Mary and Elizabeth, from the line of succession on account of their illegitimacy, subverting their lawful claims under the Third Succession Act.  Through Northumberland, Edward\\'s letters patent in favour of Jane was signed by the entire privy council, bishops, and other notables.\\nAfter Edward\\'s death, Jane was proclaimed queen on 10 July 1553, and awaited coronation in the Tower of London. Support for Mary grew rapidly and most of Jane\\'s supporters abandoned her. The Privy Council of England suddenly changed sides, and proclaimed Mary as queen on 19 July 1553, deposing Jane. Her primary supporter, her father-in-law, the Duke of Northumberland, was accused of treason, and executed less than a month later. Jane was held prisoner in the Tower, and in November 1553 was also convicted of treason, which carried a sentence of death.\\nMary initially spared her life, but Jane soon became viewed as a threat to the Crown when her father, Henry Grey, 1st Duke of Suffolk, became involved with Wyatt\\'s rebellion against Queen Mary\\'s intention to marry Philip of Spain. Jane and her husband were executed on 12 February 1554. At the time of her execution, Jane was either 16 or 17 years old.\\n\\n\\n== Early life and education ==\\n\\nLady Jane Grey was the eldest daughter of Henry Grey, 1st Duke of Suffolk, and his wife, Frances Brandon. The traditional view is that she was born at Bradgate Park in Leicestershire in October 1537, while more recent research indicates that she was born somewhat earlier, possibly in London, sometime before May 1537 or between May 1536 and February 1537. This would coincide with the fact that she was noted as being in her seventeenth year at the time of her execution. Frances was the eldest daughter of Henry VIII\\'s younger sister, Mary. Jane had two younger sisters: Lady Katherine and Lady Mary. Through their mother, the three sisters were great-granddaughters of Henry VII; great-nieces of Henry VIII; and first cousins once removed of the future Edward VI, Mary I and Elizabeth I.\\nJane received a humanist education from John Aylmer, speaking Latin and Greek from an early age, also studying Hebrew with Aylmer, and Italian with Michelangelo Florio. She was particularly fond, throughout her life, of writing letters in Latin and Greek. Through the influence of her father and her tutors, she became a committed Protestant and also corresponded with the Zürich reformer Heinrich Bullinger.\\n\\nShe preferred academic studies rather than activities such as hunting parties and allegedly regarded her strict upbringing, which was typical of the time, as harsh. To the visiting scholar Roger Ascham, who found her reading Plato, she is said to have complained: \\nFor when I am in the presence either of father or mother, whether I speak, keep silence, sit, stand or go, eat, drink, be merry or sad, be sewing, playing, dancing, or doing anything else, I must do it as it were in such weight, measure and number, even so perfectly as God made the world; o'),\n",
              " Document(metadata={'title': 'Elizabeth I (2005 TV series)', 'summary': 'Elizabeth I is a two-part 2005 British-American historical drama television serial directed by Tom Hooper, written by Nigel Williams, and starring Helen Mirren as Elizabeth I of England. The drama covers approximately the last 24 years of her nearly 45-year reign.  Part 1 focuses on the final years of her relationship with the Earl of Leicester, played by Jeremy Irons.  Part 2 focuses on her subsequent relationship with the Earl of Essex, played by Hugh Dancy.\\nThe series originally was broadcast in the United Kingdom in two two-hour segments on Channel 4. It later aired on HBO in the United States, CBC and TMN in Canada, ATV in Hong Kong, ABC in Australia, and TVNZ Television One in New Zealand.\\nThe series went on to win Emmy, Peabody, and Golden Globe Awards.', 'source': 'https://en.wikipedia.org/wiki/Elizabeth_I_(2005_TV_series)'}, page_content=\"Elizabeth I is a two-part 2005 British-American historical drama television serial directed by Tom Hooper, written by Nigel Williams, and starring Helen Mirren as Elizabeth I of England. The drama covers approximately the last 24 years of her nearly 45-year reign.  Part 1 focuses on the final years of her relationship with the Earl of Leicester, played by Jeremy Irons.  Part 2 focuses on her subsequent relationship with the Earl of Essex, played by Hugh Dancy.\\nThe series originally was broadcast in the United Kingdom in two two-hour segments on Channel 4. It later aired on HBO in the United States, CBC and TMN in Canada, ATV in Hong Kong, ABC in Australia, and TVNZ Television One in New Zealand.\\nThe series went on to win Emmy, Peabody, and Golden Globe Awards.\\n\\n\\n== Plot ==\\n\\n\\n=== Part 1 ===\\nIn 1579, Elizabeth I refuses to marry. Her chief advisor, Lord Burghley, and her spymaster, Francis Walsingham, plan to have her wed the Duke of Anjou in order to cement an English-French alliance against Spain while her favourite, the Earl of Leicester, opposes the plan due to his own long-standing affections for her. Upon arriving in England, the Duke meets and courts Elizabeth, gaining her favour. She angrily banishes Leicester from court when she learns he is married and decides not to marry the Duke due to negative popular opinion towards the match.\\nSeven years later, Elizabeth welcomes Leicester back. Walsingham gathers evidence to prove that Elizabeth's Catholic cousin Mary, Queen of Scots is plotting to have her killed. Elizabeth is reluctant to have Mary executed because of the war it might ignite between England and Spain. During a secret meeting at her prison, Mary gives Elizabeth her word that she does not want her dead. Elizabeth hesitantly gives Leicester command of the English campaign to assist the Dutch against Spain, which fails, giving Spain control of Holland.  Once it is proven that Mary has in fact been conspiring against Elizabeth's life, Mary is judged guilty of treason and executed.\\nAfter negotiations between England and Spain fail, a fleet of Spanish ships are sent for England.  Elizabeth gives Leicester command of the land forces and rides with him and his stepson the Earl of Essex to Tilbury, where they expect the Spanish to attempt a landing and where Elizabeth delivers a speech to the troops.  The Spanish Armada is ultimately defeated, but Leicester falls gravely ill just as they learn of the English victory.  Later, on his deathbed, Leicester bids Essex to take care of Elizabeth.\\n\\n\\n=== Part 2 ===\\nBy 1589, Elizabeth has made a favourite of Essex and falls in love with him.  She is openly outraged when he takes part in an English military expedition to Lisbon against her wishes, but she forgives him in spite of his failure to take the city from the Spanish.  She grants him 10 percent of a tax on sweet wines and a seat on the Privy Council, of which Lord Burghley's son Robert Cecil was also recently made a member.  Essex and Cecil develop a rivalry, as illustrated by the affair of Elizabeth's physician Dr. Lopez, who is hanged based on evidence brought forth by Essex of his participation in a Spanish plot against Elizabeth, evidence proven questionable after the fact by Cecil.\\nEssex's political ambitions begin to clash with his devotion and loyalty to Elizabeth.  As Elizabeth finds her young lover's behavior becoming increasingly worrisome, she draws closer to Cecil, who is named Secretary of State following the death of Walsingham.  Essex is publicly hailed upon his return to England after taking Cadiz from the Spanish, but his relationship with Elizabeth begins to deteriorate.  She and Cecil suspect Essex of secretly communicating with James VI of Scotland, son of Mary, Queen of Scots, a potential successor to the English throne.  After Burghley's death, Elizabeth sends Essex to Ireland to put down a rebellion but he instead makes a truce and returns to England alone.  Elizabeth puts Essex under house arrest.\\nEs\")]"
            ]
          },
          "execution_count": 13,
          "metadata": {},
          "output_type": "execute_result"
        }
      ],
      "source": [
        "raw_documents"
      ]
    },
    {
      "cell_type": "code",
      "execution_count": null,
      "metadata": {
        "colab": {
          "base_uri": "https://localhost:8080/"
        },
        "id": "5pC2vThg-sVw",
        "outputId": "1b824097-c06b-4825-fb1e-155eac30cd64"
      },
      "outputs": [
        {
          "name": "stdout",
          "output_type": "stream",
          "text": [
            "Collecting tiktoken\n",
            "  Downloading tiktoken-0.7.0-cp310-cp310-manylinux_2_17_x86_64.manylinux2014_x86_64.whl.metadata (6.6 kB)\n",
            "Requirement already satisfied: regex>=2022.1.18 in /usr/local/lib/python3.10/dist-packages (from tiktoken) (2024.5.15)\n",
            "Requirement already satisfied: requests>=2.26.0 in /usr/local/lib/python3.10/dist-packages (from tiktoken) (2.32.3)\n",
            "Requirement already satisfied: charset-normalizer<4,>=2 in /usr/local/lib/python3.10/dist-packages (from requests>=2.26.0->tiktoken) (3.3.2)\n",
            "Requirement already satisfied: idna<4,>=2.5 in /usr/local/lib/python3.10/dist-packages (from requests>=2.26.0->tiktoken) (3.7)\n",
            "Requirement already satisfied: urllib3<3,>=1.21.1 in /usr/local/lib/python3.10/dist-packages (from requests>=2.26.0->tiktoken) (2.0.7)\n",
            "Requirement already satisfied: certifi>=2017.4.17 in /usr/local/lib/python3.10/dist-packages (from requests>=2.26.0->tiktoken) (2024.7.4)\n",
            "Downloading tiktoken-0.7.0-cp310-cp310-manylinux_2_17_x86_64.manylinux2014_x86_64.whl (1.1 MB)\n",
            "\u001b[2K   \u001b[90m━━━━━━━━━━━━━━━━━━━━━━━━━━━━━━━━━━━━━━━━\u001b[0m \u001b[32m1.1/1.1 MB\u001b[0m \u001b[31m11.9 MB/s\u001b[0m eta \u001b[36m0:00:00\u001b[0m\n",
            "\u001b[?25hInstalling collected packages: tiktoken\n",
            "Successfully installed tiktoken-0.7.0\n"
          ]
        }
      ],
      "source": [
        "!pip install tiktoken\n"
      ]
    },
    {
      "cell_type": "code",
      "execution_count": null,
      "metadata": {
        "id": "zZf3DtnZ9NxO"
      },
      "outputs": [],
      "source": [
        "from langchain.text_splitter import TokenTextSplitter\n",
        "text_splitter=TokenTextSplitter(chunk_size=512,chunk_overlap=24)\n",
        "documents=text_splitter.split_documents(raw_documents[:3])"
      ]
    },
    {
      "cell_type": "code",
      "execution_count": null,
      "metadata": {
        "colab": {
          "base_uri": "https://localhost:8080/"
        },
        "id": "tZLH756FCbHa",
        "outputId": "51b884a3-80eb-42ac-fffb-42a9d4bdd8e5"
      },
      "outputs": [
        {
          "name": "stdout",
          "output_type": "stream",
          "text": [
            "Collecting langchain_groq\n",
            "  Downloading langchain_groq-0.1.9-py3-none-any.whl.metadata (2.9 kB)\n",
            "Collecting groq<1,>=0.4.1 (from langchain_groq)\n",
            "  Downloading groq-0.9.0-py3-none-any.whl.metadata (13 kB)\n",
            "Requirement already satisfied: langchain-core<0.3.0,>=0.2.26 in /usr/local/lib/python3.10/dist-packages (from langchain_groq) (0.2.30)\n",
            "Requirement already satisfied: anyio<5,>=3.5.0 in /usr/local/lib/python3.10/dist-packages (from groq<1,>=0.4.1->langchain_groq) (3.7.1)\n",
            "Requirement already satisfied: distro<2,>=1.7.0 in /usr/lib/python3/dist-packages (from groq<1,>=0.4.1->langchain_groq) (1.7.0)\n",
            "Collecting httpx<1,>=0.23.0 (from groq<1,>=0.4.1->langchain_groq)\n",
            "  Downloading httpx-0.27.0-py3-none-any.whl.metadata (7.2 kB)\n",
            "Requirement already satisfied: pydantic<3,>=1.9.0 in /usr/local/lib/python3.10/dist-packages (from groq<1,>=0.4.1->langchain_groq) (2.8.2)\n",
            "Requirement already satisfied: sniffio in /usr/local/lib/python3.10/dist-packages (from groq<1,>=0.4.1->langchain_groq) (1.3.1)\n",
            "Requirement already satisfied: typing-extensions<5,>=4.7 in /usr/local/lib/python3.10/dist-packages (from groq<1,>=0.4.1->langchain_groq) (4.12.2)\n",
            "Requirement already satisfied: PyYAML>=5.3 in /usr/local/lib/python3.10/dist-packages (from langchain-core<0.3.0,>=0.2.26->langchain_groq) (6.0.2)\n",
            "Requirement already satisfied: jsonpatch<2.0,>=1.33 in /usr/local/lib/python3.10/dist-packages (from langchain-core<0.3.0,>=0.2.26->langchain_groq) (1.33)\n",
            "Requirement already satisfied: langsmith<0.2.0,>=0.1.75 in /usr/local/lib/python3.10/dist-packages (from langchain-core<0.3.0,>=0.2.26->langchain_groq) (0.1.99)\n",
            "Requirement already satisfied: packaging<25,>=23.2 in /usr/local/lib/python3.10/dist-packages (from langchain-core<0.3.0,>=0.2.26->langchain_groq) (24.1)\n",
            "Requirement already satisfied: tenacity!=8.4.0,<9.0.0,>=8.1.0 in /usr/local/lib/python3.10/dist-packages (from langchain-core<0.3.0,>=0.2.26->langchain_groq) (8.5.0)\n",
            "Requirement already satisfied: idna>=2.8 in /usr/local/lib/python3.10/dist-packages (from anyio<5,>=3.5.0->groq<1,>=0.4.1->langchain_groq) (3.7)\n",
            "Requirement already satisfied: exceptiongroup in /usr/local/lib/python3.10/dist-packages (from anyio<5,>=3.5.0->groq<1,>=0.4.1->langchain_groq) (1.2.2)\n",
            "Requirement already satisfied: certifi in /usr/local/lib/python3.10/dist-packages (from httpx<1,>=0.23.0->groq<1,>=0.4.1->langchain_groq) (2024.7.4)\n",
            "Collecting httpcore==1.* (from httpx<1,>=0.23.0->groq<1,>=0.4.1->langchain_groq)\n",
            "  Downloading httpcore-1.0.5-py3-none-any.whl.metadata (20 kB)\n",
            "Collecting h11<0.15,>=0.13 (from httpcore==1.*->httpx<1,>=0.23.0->groq<1,>=0.4.1->langchain_groq)\n",
            "  Downloading h11-0.14.0-py3-none-any.whl.metadata (8.2 kB)\n",
            "Requirement already satisfied: jsonpointer>=1.9 in /usr/local/lib/python3.10/dist-packages (from jsonpatch<2.0,>=1.33->langchain-core<0.3.0,>=0.2.26->langchain_groq) (3.0.0)\n",
            "Requirement already satisfied: orjson<4.0.0,>=3.9.14 in /usr/local/lib/python3.10/dist-packages (from langsmith<0.2.0,>=0.1.75->langchain-core<0.3.0,>=0.2.26->langchain_groq) (3.10.7)\n",
            "Requirement already satisfied: requests<3,>=2 in /usr/local/lib/python3.10/dist-packages (from langsmith<0.2.0,>=0.1.75->langchain-core<0.3.0,>=0.2.26->langchain_groq) (2.32.3)\n",
            "Requirement already satisfied: annotated-types>=0.4.0 in /usr/local/lib/python3.10/dist-packages (from pydantic<3,>=1.9.0->groq<1,>=0.4.1->langchain_groq) (0.7.0)\n",
            "Requirement already satisfied: pydantic-core==2.20.1 in /usr/local/lib/python3.10/dist-packages (from pydantic<3,>=1.9.0->groq<1,>=0.4.1->langchain_groq) (2.20.1)\n",
            "Requirement already satisfied: charset-normalizer<4,>=2 in /usr/local/lib/python3.10/dist-packages (from requests<3,>=2->langsmith<0.2.0,>=0.1.75->langchain-core<0.3.0,>=0.2.26->langchain_groq) (3.3.2)\n",
            "Requirement already satisfied: urllib3<3,>=1.21.1 in /usr/local/lib/python3.10/dist-packages (from requests<3,>=2->langsmith<0.2.0,>=0.1.75->langchain-core<0.3.0,>=0.2.26->langchain_groq) (2.0.7)\n",
            "Downloading langchain_groq-0.1.9-py3-none-any.whl (14 kB)\n",
            "Downloading groq-0.9.0-py3-none-any.whl (103 kB)\n",
            "\u001b[2K   \u001b[90m━━━━━━━━━━━━━━━━━━━━━━━━━━━━━━━━━━━━━━━━\u001b[0m \u001b[32m103.5/103.5 kB\u001b[0m \u001b[31m4.2 MB/s\u001b[0m eta \u001b[36m0:00:00\u001b[0m\n",
            "\u001b[?25hDownloading httpx-0.27.0-py3-none-any.whl (75 kB)\n",
            "\u001b[2K   \u001b[90m━━━━━━━━━━━━━━━━━━━━━━━━━━━━━━━━━━━━━━━━\u001b[0m \u001b[32m75.6/75.6 kB\u001b[0m \u001b[31m4.0 MB/s\u001b[0m eta \u001b[36m0:00:00\u001b[0m\n",
            "\u001b[?25hDownloading httpcore-1.0.5-py3-none-any.whl (77 kB)\n",
            "\u001b[2K   \u001b[90m━━━━━━━━━━━━━━━━━━━━━━━━━━━━━━━━━━━━━━━━\u001b[0m \u001b[32m77.9/77.9 kB\u001b[0m \u001b[31m1.8 MB/s\u001b[0m eta \u001b[36m0:00:00\u001b[0m\n",
            "\u001b[?25hDownloading h11-0.14.0-py3-none-any.whl (58 kB)\n",
            "\u001b[2K   \u001b[90m━━━━━━━━━━━━━━━━━━━━━━━━━━━━━━━━━━━━━━━━\u001b[0m \u001b[32m58.3/58.3 kB\u001b[0m \u001b[31m3.8 MB/s\u001b[0m eta \u001b[36m0:00:00\u001b[0m\n",
            "\u001b[?25hInstalling collected packages: h11, httpcore, httpx, groq, langchain_groq\n",
            "Successfully installed groq-0.9.0 h11-0.14.0 httpcore-1.0.5 httpx-0.27.0 langchain_groq-0.1.9\n"
          ]
        }
      ],
      "source": [
        "!pip install langchain_groq"
      ]
    },
    {
      "cell_type": "code",
      "execution_count": null,
      "metadata": {
        "id": "FL_aYe6t-_Ol"
      },
      "outputs": [],
      "source": [
        "from langchain_groq import ChatGroq\n",
        "llm=ChatGroq(groq_api_key= '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',model_name=\"gemma2-9b-It\",)"
      ]
    },
    {
      "cell_type": "code",
      "execution_count": null,
      "metadata": {
        "colab": {
          "base_uri": "https://localhost:8080/"
        },
        "id": "jimUOrb5EuJg",
        "outputId": "75f62af1-4cf9-4027-aebe-42b31bcd7a25"
      },
      "outputs": [
        {
          "name": "stdout",
          "output_type": "stream",
          "text": [
            "ERROR: unknown command \"langchain_experimental.graphs\"\n"
          ]
        }
      ],
      "source": [
        "!pip langchain_experimental.graphs"
      ]
    },
    {
      "cell_type": "code",
      "execution_count": null,
      "metadata": {
        "id": "eR6a98sMExaG"
      },
      "outputs": [],
      "source": []
    },
    {
      "cell_type": "code",
      "execution_count": null,
      "metadata": {
        "colab": {
          "base_uri": "https://localhost:8080/"
        },
        "id": "tMk3pnY2FApo",
        "outputId": "d93aabcd-37be-41c1-b160-017f9bfd3577"
      },
      "outputs": [
        {
          "name": "stdout",
          "output_type": "stream",
          "text": [
            "Collecting langchain_experimental\n",
            "  Downloading langchain_experimental-0.0.64-py3-none-any.whl.metadata (1.7 kB)\n",
            "Requirement already satisfied: langchain-community<0.3.0,>=0.2.10 in /usr/local/lib/python3.10/dist-packages (from langchain_experimental) (0.2.12)\n",
            "Requirement already satisfied: langchain-core<0.3.0,>=0.2.27 in /usr/local/lib/python3.10/dist-packages (from langchain_experimental) (0.2.30)\n",
            "Requirement already satisfied: PyYAML>=5.3 in /usr/local/lib/python3.10/dist-packages (from langchain-community<0.3.0,>=0.2.10->langchain_experimental) (6.0.2)\n",
            "Requirement already satisfied: SQLAlchemy<3,>=1.4 in /usr/local/lib/python3.10/dist-packages (from langchain-community<0.3.0,>=0.2.10->langchain_experimental) (2.0.32)\n",
            "Requirement already satisfied: aiohttp<4.0.0,>=3.8.3 in /usr/local/lib/python3.10/dist-packages (from langchain-community<0.3.0,>=0.2.10->langchain_experimental) (3.10.1)\n",
            "Requirement already satisfied: dataclasses-json<0.7,>=0.5.7 in /usr/local/lib/python3.10/dist-packages (from langchain-community<0.3.0,>=0.2.10->langchain_experimental) (0.6.7)\n",
            "Requirement already satisfied: langchain<0.3.0,>=0.2.13 in /usr/local/lib/python3.10/dist-packages (from langchain-community<0.3.0,>=0.2.10->langchain_experimental) (0.2.13)\n",
            "Requirement already satisfied: langsmith<0.2.0,>=0.1.0 in /usr/local/lib/python3.10/dist-packages (from langchain-community<0.3.0,>=0.2.10->langchain_experimental) (0.1.99)\n",
            "Requirement already satisfied: numpy<2,>=1 in /usr/local/lib/python3.10/dist-packages (from langchain-community<0.3.0,>=0.2.10->langchain_experimental) (1.26.4)\n",
            "Requirement already satisfied: requests<3,>=2 in /usr/local/lib/python3.10/dist-packages (from langchain-community<0.3.0,>=0.2.10->langchain_experimental) (2.32.3)\n",
            "Requirement already satisfied: tenacity!=8.4.0,<9.0.0,>=8.1.0 in /usr/local/lib/python3.10/dist-packages (from langchain-community<0.3.0,>=0.2.10->langchain_experimental) (8.5.0)\n",
            "Requirement already satisfied: jsonpatch<2.0,>=1.33 in /usr/local/lib/python3.10/dist-packages (from langchain-core<0.3.0,>=0.2.27->langchain_experimental) (1.33)\n",
            "Requirement already satisfied: packaging<25,>=23.2 in /usr/local/lib/python3.10/dist-packages (from langchain-core<0.3.0,>=0.2.27->langchain_experimental) (24.1)\n",
            "Requirement already satisfied: pydantic<3,>=1 in /usr/local/lib/python3.10/dist-packages (from langchain-core<0.3.0,>=0.2.27->langchain_experimental) (2.8.2)\n",
            "Requirement already satisfied: typing-extensions>=4.7 in /usr/local/lib/python3.10/dist-packages (from langchain-core<0.3.0,>=0.2.27->langchain_experimental) (4.12.2)\n",
            "Requirement already satisfied: aiohappyeyeballs>=2.3.0 in /usr/local/lib/python3.10/dist-packages (from aiohttp<4.0.0,>=3.8.3->langchain-community<0.3.0,>=0.2.10->langchain_experimental) (2.3.4)\n",
            "Requirement already satisfied: aiosignal>=1.1.2 in /usr/local/lib/python3.10/dist-packages (from aiohttp<4.0.0,>=3.8.3->langchain-community<0.3.0,>=0.2.10->langchain_experimental) (1.3.1)\n",
            "Requirement already satisfied: attrs>=17.3.0 in /usr/local/lib/python3.10/dist-packages (from aiohttp<4.0.0,>=3.8.3->langchain-community<0.3.0,>=0.2.10->langchain_experimental) (24.2.0)\n",
            "Requirement already satisfied: frozenlist>=1.1.1 in /usr/local/lib/python3.10/dist-packages (from aiohttp<4.0.0,>=3.8.3->langchain-community<0.3.0,>=0.2.10->langchain_experimental) (1.4.1)\n",
            "Requirement already satisfied: multidict<7.0,>=4.5 in /usr/local/lib/python3.10/dist-packages (from aiohttp<4.0.0,>=3.8.3->langchain-community<0.3.0,>=0.2.10->langchain_experimental) (6.0.5)\n",
            "Requirement already satisfied: yarl<2.0,>=1.0 in /usr/local/lib/python3.10/dist-packages (from aiohttp<4.0.0,>=3.8.3->langchain-community<0.3.0,>=0.2.10->langchain_experimental) (1.9.4)\n",
            "Requirement already satisfied: async-timeout<5.0,>=4.0 in /usr/local/lib/python3.10/dist-packages (from aiohttp<4.0.0,>=3.8.3->langchain-community<0.3.0,>=0.2.10->langchain_experimental) (4.0.3)\n",
            "Requirement already satisfied: marshmallow<4.0.0,>=3.18.0 in /usr/local/lib/python3.10/dist-packages (from dataclasses-json<0.7,>=0.5.7->langchain-community<0.3.0,>=0.2.10->langchain_experimental) (3.21.3)\n",
            "Requirement already satisfied: typing-inspect<1,>=0.4.0 in /usr/local/lib/python3.10/dist-packages (from dataclasses-json<0.7,>=0.5.7->langchain-community<0.3.0,>=0.2.10->langchain_experimental) (0.9.0)\n",
            "Requirement already satisfied: jsonpointer>=1.9 in /usr/local/lib/python3.10/dist-packages (from jsonpatch<2.0,>=1.33->langchain-core<0.3.0,>=0.2.27->langchain_experimental) (3.0.0)\n",
            "Requirement already satisfied: langchain-text-splitters<0.3.0,>=0.2.0 in /usr/local/lib/python3.10/dist-packages (from langchain<0.3.0,>=0.2.13->langchain-community<0.3.0,>=0.2.10->langchain_experimental) (0.2.2)\n",
            "Requirement already satisfied: orjson<4.0.0,>=3.9.14 in /usr/local/lib/python3.10/dist-packages (from langsmith<0.2.0,>=0.1.0->langchain-community<0.3.0,>=0.2.10->langchain_experimental) (3.10.7)\n",
            "Requirement already satisfied: annotated-types>=0.4.0 in /usr/local/lib/python3.10/dist-packages (from pydantic<3,>=1->langchain-core<0.3.0,>=0.2.27->langchain_experimental) (0.7.0)\n",
            "Requirement already satisfied: pydantic-core==2.20.1 in /usr/local/lib/python3.10/dist-packages (from pydantic<3,>=1->langchain-core<0.3.0,>=0.2.27->langchain_experimental) (2.20.1)\n",
            "Requirement already satisfied: charset-normalizer<4,>=2 in /usr/local/lib/python3.10/dist-packages (from requests<3,>=2->langchain-community<0.3.0,>=0.2.10->langchain_experimental) (3.3.2)\n",
            "Requirement already satisfied: idna<4,>=2.5 in /usr/local/lib/python3.10/dist-packages (from requests<3,>=2->langchain-community<0.3.0,>=0.2.10->langchain_experimental) (3.7)\n",
            "Requirement already satisfied: urllib3<3,>=1.21.1 in /usr/local/lib/python3.10/dist-packages (from requests<3,>=2->langchain-community<0.3.0,>=0.2.10->langchain_experimental) (2.0.7)\n",
            "Requirement already satisfied: certifi>=2017.4.17 in /usr/local/lib/python3.10/dist-packages (from requests<3,>=2->langchain-community<0.3.0,>=0.2.10->langchain_experimental) (2024.7.4)\n",
            "Requirement already satisfied: greenlet!=0.4.17 in /usr/local/lib/python3.10/dist-packages (from SQLAlchemy<3,>=1.4->langchain-community<0.3.0,>=0.2.10->langchain_experimental) (3.0.3)\n",
            "Requirement already satisfied: mypy-extensions>=0.3.0 in /usr/local/lib/python3.10/dist-packages (from typing-inspect<1,>=0.4.0->dataclasses-json<0.7,>=0.5.7->langchain-community<0.3.0,>=0.2.10->langchain_experimental) (1.0.0)\n",
            "Downloading langchain_experimental-0.0.64-py3-none-any.whl (204 kB)\n",
            "\u001b[2K   \u001b[90m━━━━━━━━━━━━━━━━━━━━━━━━━━━━━━━━━━━━━━━━\u001b[0m \u001b[32m204.3/204.3 kB\u001b[0m \u001b[31m3.7 MB/s\u001b[0m eta \u001b[36m0:00:00\u001b[0m\n",
            "\u001b[?25hInstalling collected packages: langchain_experimental\n",
            "Successfully installed langchain_experimental-0.0.64\n"
          ]
        }
      ],
      "source": [
        "!pip install langchain_experimental\n"
      ]
    },
    {
      "cell_type": "code",
      "execution_count": null,
      "metadata": {
        "colab": {
          "base_uri": "https://localhost:8080/"
        },
        "id": "yEbnw8m4Eta4",
        "outputId": "4b363234-0f9b-45be-9f58-5b56c36ce369"
      },
      "outputs": [
        {
          "name": "stdout",
          "output_type": "stream",
          "text": [
            "Requirement already satisfied: langchain in /usr/local/lib/python3.10/dist-packages (0.2.13)\n",
            "Requirement already satisfied: PyYAML>=5.3 in /usr/local/lib/python3.10/dist-packages (from langchain) (6.0.2)\n",
            "Requirement already satisfied: SQLAlchemy<3,>=1.4 in /usr/local/lib/python3.10/dist-packages (from langchain) (2.0.32)\n",
            "Requirement already satisfied: aiohttp<4.0.0,>=3.8.3 in /usr/local/lib/python3.10/dist-packages (from langchain) (3.10.1)\n",
            "Requirement already satisfied: async-timeout<5.0.0,>=4.0.0 in /usr/local/lib/python3.10/dist-packages (from langchain) (4.0.3)\n",
            "Requirement already satisfied: langchain-core<0.3.0,>=0.2.30 in /usr/local/lib/python3.10/dist-packages (from langchain) (0.2.30)\n",
            "Requirement already satisfied: langchain-text-splitters<0.3.0,>=0.2.0 in /usr/local/lib/python3.10/dist-packages (from langchain) (0.2.2)\n",
            "Requirement already satisfied: langsmith<0.2.0,>=0.1.17 in /usr/local/lib/python3.10/dist-packages (from langchain) (0.1.99)\n",
            "Requirement already satisfied: numpy<2,>=1 in /usr/local/lib/python3.10/dist-packages (from langchain) (1.26.4)\n",
            "Requirement already satisfied: pydantic<3,>=1 in /usr/local/lib/python3.10/dist-packages (from langchain) (2.8.2)\n",
            "Requirement already satisfied: requests<3,>=2 in /usr/local/lib/python3.10/dist-packages (from langchain) (2.32.3)\n",
            "Requirement already satisfied: tenacity!=8.4.0,<9.0.0,>=8.1.0 in /usr/local/lib/python3.10/dist-packages (from langchain) (8.5.0)\n",
            "Requirement already satisfied: aiohappyeyeballs>=2.3.0 in /usr/local/lib/python3.10/dist-packages (from aiohttp<4.0.0,>=3.8.3->langchain) (2.3.4)\n",
            "Requirement already satisfied: aiosignal>=1.1.2 in /usr/local/lib/python3.10/dist-packages (from aiohttp<4.0.0,>=3.8.3->langchain) (1.3.1)\n",
            "Requirement already satisfied: attrs>=17.3.0 in /usr/local/lib/python3.10/dist-packages (from aiohttp<4.0.0,>=3.8.3->langchain) (24.2.0)\n",
            "Requirement already satisfied: frozenlist>=1.1.1 in /usr/local/lib/python3.10/dist-packages (from aiohttp<4.0.0,>=3.8.3->langchain) (1.4.1)\n",
            "Requirement already satisfied: multidict<7.0,>=4.5 in /usr/local/lib/python3.10/dist-packages (from aiohttp<4.0.0,>=3.8.3->langchain) (6.0.5)\n",
            "Requirement already satisfied: yarl<2.0,>=1.0 in /usr/local/lib/python3.10/dist-packages (from aiohttp<4.0.0,>=3.8.3->langchain) (1.9.4)\n",
            "Requirement already satisfied: jsonpatch<2.0,>=1.33 in /usr/local/lib/python3.10/dist-packages (from langchain-core<0.3.0,>=0.2.30->langchain) (1.33)\n",
            "Requirement already satisfied: packaging<25,>=23.2 in /usr/local/lib/python3.10/dist-packages (from langchain-core<0.3.0,>=0.2.30->langchain) (24.1)\n",
            "Requirement already satisfied: typing-extensions>=4.7 in /usr/local/lib/python3.10/dist-packages (from langchain-core<0.3.0,>=0.2.30->langchain) (4.12.2)\n",
            "Requirement already satisfied: orjson<4.0.0,>=3.9.14 in /usr/local/lib/python3.10/dist-packages (from langsmith<0.2.0,>=0.1.17->langchain) (3.10.7)\n",
            "Requirement already satisfied: annotated-types>=0.4.0 in /usr/local/lib/python3.10/dist-packages (from pydantic<3,>=1->langchain) (0.7.0)\n",
            "Requirement already satisfied: pydantic-core==2.20.1 in /usr/local/lib/python3.10/dist-packages (from pydantic<3,>=1->langchain) (2.20.1)\n",
            "Requirement already satisfied: charset-normalizer<4,>=2 in /usr/local/lib/python3.10/dist-packages (from requests<3,>=2->langchain) (3.3.2)\n",
            "Requirement already satisfied: idna<4,>=2.5 in /usr/local/lib/python3.10/dist-packages (from requests<3,>=2->langchain) (3.7)\n",
            "Requirement already satisfied: urllib3<3,>=1.21.1 in /usr/local/lib/python3.10/dist-packages (from requests<3,>=2->langchain) (2.0.7)\n",
            "Requirement already satisfied: certifi>=2017.4.17 in /usr/local/lib/python3.10/dist-packages (from requests<3,>=2->langchain) (2024.7.4)\n",
            "Requirement already satisfied: greenlet!=0.4.17 in /usr/local/lib/python3.10/dist-packages (from SQLAlchemy<3,>=1.4->langchain) (3.0.3)\n",
            "Requirement already satisfied: jsonpointer>=1.9 in /usr/local/lib/python3.10/dist-packages (from jsonpatch<2.0,>=1.33->langchain-core<0.3.0,>=0.2.30->langchain) (3.0.0)\n"
          ]
        }
      ],
      "source": [
        "!pip install --upgrade langchain\n"
      ]
    },
    {
      "cell_type": "code",
      "execution_count": null,
      "metadata": {
        "id": "kAWK_1fDFYr7"
      },
      "outputs": [],
      "source": [
        "from langchain_experimental.graph_transformers import LLMGraphTransformer\n",
        "\n",
        "# Use the correct class name here\n",
        "llm_transformer = LLMGraphTransformer(llm=llm)\n"
      ]
    },
    {
      "cell_type": "code",
      "execution_count": null,
      "metadata": {
        "id": "rA1q5m1oj74p"
      },
      "outputs": [],
      "source": [
        "graph_documents=llm_transformer.convert_to_graph_documents(documents)"
      ]
    },
    {
      "cell_type": "code",
      "execution_count": null,
      "metadata": {
        "colab": {
          "base_uri": "https://localhost:8080/"
        },
        "id": "xrUHYSEfqzuf",
        "outputId": "dcb59ae6-1825-4ccc-9d0f-ff5bc1b477d2"
      },
      "outputs": [
        {
          "data": {
            "text/plain": [
              "[Document(page_content='\\n  Elizabeth II (Elizabeth Alexandra Mary; 21 April 1926 – 8 September 2022) was Queen of the United Kingdom and other Commonwealth realms from 6 February 1952 until her death in 2022. She was queen regnant of 32 sovereign states over the course of her lifetime and remained the monarch of 15 realms by the time of her death. Her reign of 70 years and 214 days is the longest of any British monarch or female monarch, and the second-longest verified reign of any monarch of a sovereign state in history.\\n\\nElizabeth was born in Mayfair, London, during the reign of her paternal grandfather, King George V. She was the first child of the Duke and Duchess of York (later King George VI and Queen Elizabeth The Queen Mother). Her father acceded to the throne in 1936 upon the abdication of his brother Edward VIII, making the ten-year-old Princess Elizabeth the heir presumptive. She was educated privately at home and began to undertake public duties during the Second World War, serving in the Auxiliary Territorial Service. In November 1947, she married the former Prince Philip of Greece and Denmark, who had relinquished his foreign titles and naturalised as a British citizen. Their marriage lasted 73 years until his death in 2021. They had four children: Charles, Anne, Andrew, and Edward\\n\\n\\n')]"
            ]
          },
          "execution_count": 23,
          "metadata": {},
          "output_type": "execute_result"
        }
      ],
      "source": [
        "from langchain_core.documents import Document\n",
        "text=\"\"\"\n",
        "  Elizabeth II (Elizabeth Alexandra Mary; 21 April 1926 – 8 September 2022) was Queen of the United Kingdom and other Commonwealth realms from 6 February 1952 until her death in 2022. She was queen regnant of 32 sovereign states over the course of her lifetime and remained the monarch of 15 realms by the time of her death. Her reign of 70 years and 214 days is the longest of any British monarch or female monarch, and the second-longest verified reign of any monarch of a sovereign state in history.\n",
        "\n",
        "Elizabeth was born in Mayfair, London, during the reign of her paternal grandfather, King George V. She was the first child of the Duke and Duchess of York (later King George VI and Queen Elizabeth The Queen Mother). Her father acceded to the throne in 1936 upon the abdication of his brother Edward VIII, making the ten-year-old Princess Elizabeth the heir presumptive. She was educated privately at home and began to undertake public duties during the Second World War, serving in the Auxiliary Territorial Service. In November 1947, she married the former Prince Philip of Greece and Denmark, who had relinquished his foreign titles and naturalised as a British citizen. Their marriage lasted 73 years until his death in 2021. They had four children: Charles, Anne, Andrew, and Edward\n",
        "\n",
        "\n",
        "\"\"\"\n",
        "documents=[Document(text)]\n",
        "documents"
      ]
    },
    {
      "cell_type": "code",
      "execution_count": null,
      "metadata": {
        "id": "E7m_HAGZIgPC"
      },
      "outputs": [],
      "source": [
        "!pip install --upgrade --quiet langchain_experimental"
      ]
    },
    {
      "cell_type": "code",
      "execution_count": null,
      "metadata": {
        "id": "0653cLKDJ5BX"
      },
      "outputs": [],
      "source": [
        "from langchain_experimental.graph_transformers import LLMGraphTransformer\n",
        "llm_transformer=LLMGraphTransformer(llm=llm)"
      ]
    },
    {
      "cell_type": "code",
      "execution_count": null,
      "metadata": {
        "colab": {
          "base_uri": "https://localhost:8080/"
        },
        "id": "DwkGDW2COq4_",
        "outputId": "1f4e1020-e7aa-444d-a707-f2271decc42e"
      },
      "outputs": [
        {
          "data": {
            "text/plain": [
              "[GraphDocument(nodes=[Node(id='Elizabeth Ii', type='Person'), Node(id='King George V', type='Person'), Node(id='Edward Viii', type='Person'), Node(id='King George Vi', type='Person'), Node(id='Queen Elizabeth The Queen Mother', type='Person'), Node(id='Prince Philip Of Greece And Denmark', type='Person'), Node(id='Charles', type='Person'), Node(id='Anne', type='Person'), Node(id='Andrew', type='Person'), Node(id='Edward', type='Person')], relationships=[Relationship(source=Node(id='Elizabeth Ii', type='Person'), target=Node(id='King George V', type='Person'), type='GRANDCHILD_OF'), Relationship(source=Node(id='King George Vi', type='Person'), target=Node(id='Elizabeth Ii', type='Person'), type='PARENT_OF'), Relationship(source=Node(id='Edward Viii', type='Person'), target=Node(id='King George Vi', type='Person'), type='SIBLING_OF'), Relationship(source=Node(id='Queen Elizabeth The Queen Mother', type='Person'), target=Node(id='King George Vi', type='Person'), type='SPOUSE_OF'), Relationship(source=Node(id='Prince Philip Of Greece And Denmark', type='Person'), target=Node(id='Elizabeth Ii', type='Person'), type='SPOUSE_OF'), Relationship(source=Node(id='Elizabeth Ii', type='Person'), target=Node(id='Charles', type='Person'), type='PARENT_OF'), Relationship(source=Node(id='Elizabeth Ii', type='Person'), target=Node(id='Anne', type='Person'), type='PARENT_OF'), Relationship(source=Node(id='Elizabeth Ii', type='Person'), target=Node(id='Andrew', type='Person'), type='PARENT_OF'), Relationship(source=Node(id='Elizabeth Ii', type='Person'), target=Node(id='Edward', type='Person'), type='PARENT_OF')], source=Document(page_content='\\n  Elizabeth II (Elizabeth Alexandra Mary; 21 April 1926 – 8 September 2022) was Queen of the United Kingdom and other Commonwealth realms from 6 February 1952 until her death in 2022. She was queen regnant of 32 sovereign states over the course of her lifetime and remained the monarch of 15 realms by the time of her death. Her reign of 70 years and 214 days is the longest of any British monarch or female monarch, and the second-longest verified reign of any monarch of a sovereign state in history.\\n\\nElizabeth was born in Mayfair, London, during the reign of her paternal grandfather, King George V. She was the first child of the Duke and Duchess of York (later King George VI and Queen Elizabeth The Queen Mother). Her father acceded to the throne in 1936 upon the abdication of his brother Edward VIII, making the ten-year-old Princess Elizabeth the heir presumptive. She was educated privately at home and began to undertake public duties during the Second World War, serving in the Auxiliary Territorial Service. In November 1947, she married the former Prince Philip of Greece and Denmark, who had relinquished his foreign titles and naturalised as a British citizen. Their marriage lasted 73 years until his death in 2021. They had four children: Charles, Anne, Andrew, and Edward\\n\\n\\n'))]"
            ]
          },
          "execution_count": 26,
          "metadata": {},
          "output_type": "execute_result"
        }
      ],
      "source": [
        "llm_transformer.convert_to_graph_documents(documents)"
      ]
    },
    {
      "cell_type": "code",
      "execution_count": null,
      "metadata": {
        "colab": {
          "base_uri": "https://localhost:8080/"
        },
        "id": "VYEZtVhjPa_l",
        "outputId": "abf1e746-ccfc-422d-8396-c8216bec7ad1"
      },
      "outputs": [
        {
          "data": {
            "text/plain": [
              "[Node(id='Elizabeth I', type='Person'),\n",
              " Node(id='Henry Viii', type='Person'),\n",
              " Node(id='Anne Boleyn', type='Person'),\n",
              " Node(id='Edward Vi', type='Person'),\n",
              " Node(id='Mary', type='Person'),\n",
              " Node(id='Lady Jane Grey', type='Person'),\n",
              " Node(id='William Cecil', type='Person'),\n",
              " Node(id='James Vi Of Scotland', type='Person'),\n",
              " Node(id='Mary, Queen Of Scots', type='Person'),\n",
              " Node(id='Sir Francis Walsingham', type='Person')]"
            ]
          },
          "execution_count": 27,
          "metadata": {},
          "output_type": "execute_result"
        }
      ],
      "source": [
        "graph_documents[0].nodes"
      ]
    },
    {
      "cell_type": "code",
      "execution_count": null,
      "metadata": {
        "colab": {
          "base_uri": "https://localhost:8080/"
        },
        "id": "puhuic9PPowv",
        "outputId": "7e00e43b-a874-49a5-a6a4-199a22e181f5"
      },
      "outputs": [
        {
          "data": {
            "text/plain": [
              "[Relationship(source=Node(id='Elizabeth I', type='Person'), target=Node(id='Henry Viii', type='Person'), type='CHILD'),\n",
              " Relationship(source=Node(id='Elizabeth I', type='Person'), target=Node(id='Anne Boleyn', type='Person'), type='CHILD'),\n",
              " Relationship(source=Node(id='Henry Viii', type='Person'), target=Node(id='Edward Vi', type='Person'), type='CHILD'),\n",
              " Relationship(source=Node(id='Henry Viii', type='Person'), target=Node(id='Mary', type='Person'), type='CHILD'),\n",
              " Relationship(source=Node(id='Henry Viii', type='Person'), target=Node(id='Elizabeth I', type='Person'), type='CHILD'),\n",
              " Relationship(source=Node(id='Edward Vi', type='Person'), target=Node(id='Lady Jane Grey', type='Person'), type='SUCCESSOR'),\n",
              " Relationship(source=Node(id='Mary', type='Person'), target=Node(id='Elizabeth I', type='Person'), type='PREDECESSOR'),\n",
              " Relationship(source=Node(id='Elizabeth I', type='Person'), target=Node(id='William Cecil', type='Person'), type='ADVISOR'),\n",
              " Relationship(source=Node(id='Elizabeth I', type='Person'), target=Node(id='James Vi Of Scotland', type='Person'), type='SUCCESSOR'),\n",
              " Relationship(source=Node(id='James Vi Of Scotland', type='Person'), target=Node(id='Mary, Queen Of Scots', type='Person'), type='PARENT')]"
            ]
          },
          "execution_count": 28,
          "metadata": {},
          "output_type": "execute_result"
        }
      ],
      "source": [
        "graph_documents[0].relationships"
      ]
    },
    {
      "cell_type": "code",
      "execution_count": null,
      "metadata": {
        "id": "x9_Zl7mlMuZd"
      },
      "outputs": [],
      "source": [
        "\n",
        "movie_query=\"\"\"\n",
        "LOAD CSV WITH HEADERS FROM\n",
        "'https://raw.githubusercontent.com/tomasonjo/blog-datasets/main/movies/movies_small.csv' as row\n",
        "MERGE(m:Movie{id:row.movieId})\n",
        "SET m.released=date(row.released),\n",
        "   m.title=row.title,\n",
        "   m.imdbRating=toFloat(row.imdbRating)\n",
        "FOREACH (director in split(row.director,'|')|\n",
        "   MERGE(p:Person{name: trim(director)})\n",
        "   MERGE(p)-[: DIRECTED]->(m))\n",
        "FOREACH(actor in split(row.actors,'|') |\n",
        "   MERGE (p:Person {name:trim(actor)})\n",
        "   MERGE (p)-[:ACTED_IN]->(m))\n",
        "FOREACH(genre in split(row.genres,'|') |\n",
        "   MERGE(g:GENRE {name:trim(genre)})\n",
        "   MERGE(m)-[:IN_GENRE]->(g))\n",
        "\n",
        "\"\"\""
      ]
    },
    {
      "cell_type": "code",
      "execution_count": null,
      "metadata": {
        "id": "gaU4Uh3SVSAV"
      },
      "outputs": [],
      "source": [
        "from neo4j import GraphDatabase"
      ]
    },
    {
      "cell_type": "code",
      "execution_count": null,
      "metadata": {
        "id": "jSDZv532bBUO"
      },
      "outputs": [],
      "source": [
        "from neo4j import GraphDatabase\n",
        "\n",
        "class Neo4jGraph:\n",
        "    def __init__(self, NEO4J_URI, NEO4J_USERNAME, NEO4J_PASSWORD):\n",
        "        self.driver = GraphDatabase.driver(NEO4J_URI, auth=(NEO4J_USERNAME, NEO4J_PASSWORD))\n",
        "\n",
        "    def close(self):\n",
        "        self.driver.close()\n",
        "\n",
        "# Create a new instance\n",
        "graph = Neo4jGraph(\n",
        "    NEO4J_URI=\"neo4j+s://7bcc2b08.databases.neo4j.io\",\n",
        "    NEO4J_USERNAME=\"neo4j\",\n",
        "    NEO4J_PASSWORD=\"7_wrxtiB8ELM_z-VTZK6mMiz4De85OfbXgAHTDbrXa8\"\n",
        ")\n"
      ]
    },
    {
      "cell_type": "code",
      "execution_count": null,
      "metadata": {
        "colab": {
          "base_uri": "https://localhost:8080/"
        },
        "id": "PNl__vmcWbzQ",
        "outputId": "5ed0eda0-5004-48ff-970c-dace871ebe14"
      },
      "outputs": [
        {
          "name": "stdout",
          "output_type": "stream",
          "text": [
            "Requirement already satisfied: langchain_community in /usr/local/lib/python3.10/dist-packages (0.2.12)\n",
            "Requirement already satisfied: PyYAML>=5.3 in /usr/local/lib/python3.10/dist-packages (from langchain_community) (6.0.2)\n",
            "Requirement already satisfied: SQLAlchemy<3,>=1.4 in /usr/local/lib/python3.10/dist-packages (from langchain_community) (2.0.32)\n",
            "Requirement already satisfied: aiohttp<4.0.0,>=3.8.3 in /usr/local/lib/python3.10/dist-packages (from langchain_community) (3.10.1)\n",
            "Requirement already satisfied: dataclasses-json<0.7,>=0.5.7 in /usr/local/lib/python3.10/dist-packages (from langchain_community) (0.6.7)\n",
            "Requirement already satisfied: langchain<0.3.0,>=0.2.13 in /usr/local/lib/python3.10/dist-packages (from langchain_community) (0.2.13)\n",
            "Requirement already satisfied: langchain-core<0.3.0,>=0.2.30 in /usr/local/lib/python3.10/dist-packages (from langchain_community) (0.2.30)\n",
            "Requirement already satisfied: langsmith<0.2.0,>=0.1.0 in /usr/local/lib/python3.10/dist-packages (from langchain_community) (0.1.99)\n",
            "Requirement already satisfied: numpy<2,>=1 in /usr/local/lib/python3.10/dist-packages (from langchain_community) (1.26.4)\n",
            "Requirement already satisfied: requests<3,>=2 in /usr/local/lib/python3.10/dist-packages (from langchain_community) (2.32.3)\n",
            "Requirement already satisfied: tenacity!=8.4.0,<9.0.0,>=8.1.0 in /usr/local/lib/python3.10/dist-packages (from langchain_community) (8.5.0)\n",
            "Requirement already satisfied: aiohappyeyeballs>=2.3.0 in /usr/local/lib/python3.10/dist-packages (from aiohttp<4.0.0,>=3.8.3->langchain_community) (2.3.4)\n",
            "Requirement already satisfied: aiosignal>=1.1.2 in /usr/local/lib/python3.10/dist-packages (from aiohttp<4.0.0,>=3.8.3->langchain_community) (1.3.1)\n",
            "Requirement already satisfied: attrs>=17.3.0 in /usr/local/lib/python3.10/dist-packages (from aiohttp<4.0.0,>=3.8.3->langchain_community) (24.2.0)\n",
            "Requirement already satisfied: frozenlist>=1.1.1 in /usr/local/lib/python3.10/dist-packages (from aiohttp<4.0.0,>=3.8.3->langchain_community) (1.4.1)\n",
            "Requirement already satisfied: multidict<7.0,>=4.5 in /usr/local/lib/python3.10/dist-packages (from aiohttp<4.0.0,>=3.8.3->langchain_community) (6.0.5)\n",
            "Requirement already satisfied: yarl<2.0,>=1.0 in /usr/local/lib/python3.10/dist-packages (from aiohttp<4.0.0,>=3.8.3->langchain_community) (1.9.4)\n",
            "Requirement already satisfied: async-timeout<5.0,>=4.0 in /usr/local/lib/python3.10/dist-packages (from aiohttp<4.0.0,>=3.8.3->langchain_community) (4.0.3)\n",
            "Requirement already satisfied: marshmallow<4.0.0,>=3.18.0 in /usr/local/lib/python3.10/dist-packages (from dataclasses-json<0.7,>=0.5.7->langchain_community) (3.21.3)\n",
            "Requirement already satisfied: typing-inspect<1,>=0.4.0 in /usr/local/lib/python3.10/dist-packages (from dataclasses-json<0.7,>=0.5.7->langchain_community) (0.9.0)\n",
            "Requirement already satisfied: langchain-text-splitters<0.3.0,>=0.2.0 in /usr/local/lib/python3.10/dist-packages (from langchain<0.3.0,>=0.2.13->langchain_community) (0.2.2)\n",
            "Requirement already satisfied: pydantic<3,>=1 in /usr/local/lib/python3.10/dist-packages (from langchain<0.3.0,>=0.2.13->langchain_community) (2.8.2)\n",
            "Requirement already satisfied: jsonpatch<2.0,>=1.33 in /usr/local/lib/python3.10/dist-packages (from langchain-core<0.3.0,>=0.2.30->langchain_community) (1.33)\n",
            "Requirement already satisfied: packaging<25,>=23.2 in /usr/local/lib/python3.10/dist-packages (from langchain-core<0.3.0,>=0.2.30->langchain_community) (24.1)\n",
            "Requirement already satisfied: typing-extensions>=4.7 in /usr/local/lib/python3.10/dist-packages (from langchain-core<0.3.0,>=0.2.30->langchain_community) (4.12.2)\n",
            "Requirement already satisfied: orjson<4.0.0,>=3.9.14 in /usr/local/lib/python3.10/dist-packages (from langsmith<0.2.0,>=0.1.0->langchain_community) (3.10.7)\n",
            "Requirement already satisfied: charset-normalizer<4,>=2 in /usr/local/lib/python3.10/dist-packages (from requests<3,>=2->langchain_community) (3.3.2)\n",
            "Requirement already satisfied: idna<4,>=2.5 in /usr/local/lib/python3.10/dist-packages (from requests<3,>=2->langchain_community) (3.7)\n",
            "Requirement already satisfied: urllib3<3,>=1.21.1 in /usr/local/lib/python3.10/dist-packages (from requests<3,>=2->langchain_community) (2.0.7)\n",
            "Requirement already satisfied: certifi>=2017.4.17 in /usr/local/lib/python3.10/dist-packages (from requests<3,>=2->langchain_community) (2024.7.4)\n",
            "Requirement already satisfied: greenlet!=0.4.17 in /usr/local/lib/python3.10/dist-packages (from SQLAlchemy<3,>=1.4->langchain_community) (3.0.3)\n",
            "Requirement already satisfied: jsonpointer>=1.9 in /usr/local/lib/python3.10/dist-packages (from jsonpatch<2.0,>=1.33->langchain-core<0.3.0,>=0.2.30->langchain_community) (3.0.0)\n",
            "Requirement already satisfied: annotated-types>=0.4.0 in /usr/local/lib/python3.10/dist-packages (from pydantic<3,>=1->langchain<0.3.0,>=0.2.13->langchain_community) (0.7.0)\n",
            "Requirement already satisfied: pydantic-core==2.20.1 in /usr/local/lib/python3.10/dist-packages (from pydantic<3,>=1->langchain<0.3.0,>=0.2.13->langchain_community) (2.20.1)\n",
            "Requirement already satisfied: mypy-extensions>=0.3.0 in /usr/local/lib/python3.10/dist-packages (from typing-inspect<1,>=0.4.0->dataclasses-json<0.7,>=0.5.7->langchain_community) (1.0.0)\n"
          ]
        }
      ],
      "source": [
        "!pip install langchain_community\n"
      ]
    },
    {
      "cell_type": "code",
      "execution_count": null,
      "metadata": {
        "id": "bMAgGkMlWi7g"
      },
      "outputs": [],
      "source": [
        "from langchain_community.graphs.neo4j_graph import Neo4jGraph\n"
      ]
    },
    {
      "cell_type": "code",
      "execution_count": null,
      "metadata": {
        "colab": {
          "base_uri": "https://localhost:8080/"
        },
        "id": "Lwcb_bjuXhUx",
        "outputId": "f58a3de8-d91f-432a-efcf-4a28e3592232"
      },
      "outputs": [
        {
          "name": "stdout",
          "output_type": "stream",
          "text": [
            "[]\n"
          ]
        }
      ],
      "source": [
        "from neo4j import GraphDatabase\n",
        "\n",
        "class Neo4jGraph:\n",
        "    def __init__(self, NEO4J_URI, NEO4J_USERNAME, NEO4J_PASSWORD):\n",
        "        self.driver = GraphDatabase.driver(NEO4J_URI, auth=(NEO4J_USERNAME, NEO4J_PASSWORD))\n",
        "\n",
        "    def close(self):\n",
        "        self.driver.close()\n",
        "\n",
        "    def query(self, query, parameters=None):\n",
        "        with self.driver.session() as session:\n",
        "            result = session.run(query, parameters)\n",
        "            return [record for record in result]\n",
        "\n",
        "# Example usage\n",
        "graph = Neo4jGraph(\n",
        "    NEO4J_URI=\"neo4j+s://7bcc2b08.databases.neo4j.io\",\n",
        "    NEO4J_USERNAME=\"neo4j\",\n",
        "    NEO4J_PASSWORD=\"7_wrxtiB8ELM_z-VTZK6mMiz4De85OfbXgAHTDbrXa8\"\n",
        ")\n",
        "\n",
        "\n",
        "movie_query=\"\"\"\n",
        "LOAD CSV WITH HEADERS FROM\n",
        "'https://raw.githubusercontent.com/tomasonjo/blog-datasets/main/movies/movies_small.csv' as row\n",
        "MERGE(m:Movie{id:row.movieId})\n",
        "SET m.released=date(row.released),\n",
        "   m.title=row.title,\n",
        "   m.imdbRating=toFloat(row.imdbRating)\n",
        "FOREACH (director in split(row.director,'|')|\n",
        "   MERGE(p:Person{name: trim(director)})\n",
        "   MERGE(p)-[: DIRECTED]->(m))\n",
        "FOREACH(actor in split(row.actors,'|') |\n",
        "   MERGE (p:Person {name:trim(actor)})\n",
        "   MERGE (p)-[:ACTED_IN]->(m))\n",
        "FOREACH(genre in split(row.genres,'|') |\n",
        "   MERGE(g:GENRE {name:trim(genre)})\n",
        "   MERGE(m)-[:IN_GENRE]->(g))\n",
        "\n",
        "\"\"\"\n",
        "results = graph.query(movie_query)\n",
        "print(results)\n"
      ]
    },
    {
      "cell_type": "code",
      "execution_count": null,
      "metadata": {
        "colab": {
          "base_uri": "https://localhost:8080/",
          "height": 162
        },
        "id": "00GqHEdpZYLT",
        "outputId": "41e31efd-bb7c-4d4a-89d8-e211f0329751"
      },
      "outputs": [
        {
          "ename": "AttributeError",
          "evalue": "'Neo4jGraph' object has no attribute 'refresh_schema'",
          "output_type": "error",
          "traceback": [
            "\u001b[0;31m---------------------------------------------------------------------------\u001b[0m",
            "\u001b[0;31mAttributeError\u001b[0m                            Traceback (most recent call last)",
            "\u001b[0;32m<ipython-input-35-be1558662fe5>\u001b[0m in \u001b[0;36m<cell line: 1>\u001b[0;34m()\u001b[0m\n\u001b[0;32m----> 1\u001b[0;31m \u001b[0mgraph\u001b[0m\u001b[0;34m.\u001b[0m\u001b[0mrefresh_schema\u001b[0m\u001b[0;34m(\u001b[0m\u001b[0;34m)\u001b[0m\u001b[0;34m\u001b[0m\u001b[0;34m\u001b[0m\u001b[0m\n\u001b[0m\u001b[1;32m      2\u001b[0m \u001b[0mprint\u001b[0m\u001b[0;34m(\u001b[0m\u001b[0mgraph\u001b[0m\u001b[0;34m.\u001b[0m\u001b[0mschema\u001b[0m\u001b[0;34m)\u001b[0m\u001b[0;34m\u001b[0m\u001b[0;34m\u001b[0m\u001b[0m\n",
            "\u001b[0;31mAttributeError\u001b[0m: 'Neo4jGraph' object has no attribute 'refresh_schema'"
          ]
        }
      ],
      "source": [
        "graph.refresh_schema()\n",
        "print(graph.schema)"
      ]
    },
    {
      "cell_type": "code",
      "execution_count": null,
      "metadata": {
        "id": "jDtv4sCDlMoQ"
      },
      "outputs": [],
      "source": [
        "from langchain.chains import GraphCypherQAChain\n",
        "chain=GraphCypherQAChain.from_llm(llm=llm,graph=graph,verbose=True)\n",
        "chain"
      ]
    },
    {
      "cell_type": "code",
      "execution_count": null,
      "metadata": {
        "id": "g3Dyzs_2mN4j"
      },
      "outputs": [],
      "source": [
        "from neo4j import GraphDatabase\n",
        "\n",
        "class Neo4jGraph:\n",
        "    def __init__(self, NEO4J_URI, NEO4J_USERNAME, NEO4J_PASSWORD):\n",
        "        self.driver = GraphDatabase.driver(NEO4J_URI, auth=(NEO4J_USERNAME, NEO4J_PASSWORD))\n",
        "\n",
        "    def close(self):\n",
        "        self.driver.close()\n",
        "\n",
        "    def query(self, query, parameters=None):\n",
        "        with self.driver.session() as session:\n",
        "            result = session.run(query, parameters)\n",
        "            return [record for record in result]\n",
        "\n",
        "    def get_labels(self):\n",
        "        query = \"CALL db.labels()\"\n",
        "        return self.query(query)\n",
        "\n",
        "    def get_relationship_types(self):\n",
        "        query = \"CALL db.relationshipTypes()\"\n",
        "        return self.query(query)\n",
        "\n",
        "    def get_structured_schema(self):\n",
        "        labels = self.get_labels()\n",
        "        relationship_types = self.get_relationship_types()\n",
        "\n",
        "        schema = {\n",
        "            \"labels\": [label[\"label\"] for label in labels],\n",
        "            \"relationship_types\": [relationship_type[\"relationshipType\"] for relationship_type in relationship_types]\n",
        "        }\n",
        "        return schema\n"
      ]
    },
    {
      "cell_type": "code",
      "execution_count": null,
      "metadata": {
        "id": "agvnRWgOiFZX"
      },
      "outputs": [],
      "source": [
        "from neo4j import GraphDatabase\n",
        "\n",
        "class Neo4jGraph:\n",
        "    def __init__(self, NEO4J_URI, NEO4J_USERNAME, NEO4J_PASSWORD):\n",
        "        self.driver = GraphDatabase.driver(NEO4J_URI, auth=(NEO4J_USERNAME, NEO4J_PASSWORD))\n",
        "\n",
        "    def close(self):\n",
        "        self.driver.close()\n",
        "\n",
        "    def query(self, query, parameters=None):\n",
        "        with self.driver.session() as session:\n",
        "            result = session.run(query, parameters)\n",
        "            return [record for record in result]\n",
        "\n",
        "    def get_labels(self):\n",
        "        query = \"CALL db.labels()\"\n",
        "        return self.query(query)\n",
        "\n",
        "    def get_relationship_types(self):\n",
        "        query = \"CALL db.relationshipTypes()\"\n",
        "        return self.query(query)\n",
        "\n",
        "    def get_structured_schema(self):\n",
        "        labels = self.get_labels()\n",
        "        relationship_types = self.get_relationship_types()\n",
        "        print({\n",
        "            \"node_props\": {\n",
        "                label[\"label\"]: {} for label in labels\n",
        "            },\n",
        "            \"edge_props\": {\n",
        "                relationship_type[\"relationshipType\"]: {} for relationship_type in relationship_types\n",
        "            }\n",
        "        })\n",
        "        return {\n",
        "            \"node_props\": {\n",
        "                label[\"label\"]: {} for label in labels\n",
        "            },\n",
        "            \"edge_props\": {\n",
        "                relationship_type[\"relationshipType\"]: {} for relationship_type in relationship_types\n",
        "            }\n",
        "        }\n",
        "        return(schema)\n",
        "\n"
      ]
    },
    {
      "cell_type": "code",
      "execution_count": null,
      "metadata": {
        "colab": {
          "base_uri": "https://localhost:8080/",
          "height": 329
        },
        "id": "qfRro8EKje0m",
        "outputId": "ebd1d06a-2ca6-4838-d169-d8c4bb0a738b"
      },
      "outputs": [
        {
          "ename": "AttributeError",
          "evalue": "'function' object has no attribute 'get'",
          "output_type": "error",
          "traceback": [
            "\u001b[0;31m---------------------------------------------------------------------------\u001b[0m",
            "\u001b[0;31mAttributeError\u001b[0m                            Traceback (most recent call last)",
            "\u001b[0;32m<ipython-input-46-7661c0faa84e>\u001b[0m in \u001b[0;36m<cell line: 2>\u001b[0;34m()\u001b[0m\n\u001b[1;32m      1\u001b[0m \u001b[0;32mfrom\u001b[0m \u001b[0mlangchain\u001b[0m\u001b[0;34m.\u001b[0m\u001b[0mchains\u001b[0m \u001b[0;32mimport\u001b[0m \u001b[0mGraphCypherQAChain\u001b[0m\u001b[0;34m\u001b[0m\u001b[0;34m\u001b[0m\u001b[0m\n\u001b[0;32m----> 2\u001b[0;31m \u001b[0mchain\u001b[0m\u001b[0;34m=\u001b[0m\u001b[0mGraphCypherQAChain\u001b[0m\u001b[0;34m.\u001b[0m\u001b[0mfrom_llm\u001b[0m\u001b[0;34m(\u001b[0m\u001b[0mllm\u001b[0m\u001b[0;34m=\u001b[0m\u001b[0mllm\u001b[0m\u001b[0;34m,\u001b[0m\u001b[0mgraph\u001b[0m\u001b[0;34m=\u001b[0m\u001b[0mNeo4jGraph\u001b[0m\u001b[0;34m,\u001b[0m\u001b[0mverbose\u001b[0m\u001b[0;34m=\u001b[0m\u001b[0;32mTrue\u001b[0m\u001b[0;34m)\u001b[0m\u001b[0;34m\u001b[0m\u001b[0;34m\u001b[0m\u001b[0m\n\u001b[0m\u001b[1;32m      3\u001b[0m \u001b[0mchain\u001b[0m\u001b[0;34m\u001b[0m\u001b[0;34m\u001b[0m\u001b[0m\n",
            "\u001b[0;32m/usr/local/lib/python3.10/dist-packages/langchain_community/chains/graph_qa/cypher.py\u001b[0m in \u001b[0;36mfrom_llm\u001b[0;34m(cls, llm, qa_prompt, cypher_prompt, cypher_llm, qa_llm, exclude_types, include_types, validate_cypher, qa_llm_kwargs, cypher_llm_kwargs, use_function_response, function_response_system, **kwargs)\u001b[0m\n\u001b[1;32m    282\u001b[0m                 \u001b[0;34m\"can be provided, but not both\"\u001b[0m\u001b[0;34m\u001b[0m\u001b[0;34m\u001b[0m\u001b[0m\n\u001b[1;32m    283\u001b[0m             )\n\u001b[0;32m--> 284\u001b[0;31m         graph_schema = construct_schema(\n\u001b[0m\u001b[1;32m    285\u001b[0m             \u001b[0mkwargs\u001b[0m\u001b[0;34m[\u001b[0m\u001b[0;34m\"graph\"\u001b[0m\u001b[0;34m]\u001b[0m\u001b[0;34m.\u001b[0m\u001b[0mget_structured_schema\u001b[0m\u001b[0;34m,\u001b[0m \u001b[0minclude_types\u001b[0m\u001b[0;34m,\u001b[0m \u001b[0mexclude_types\u001b[0m\u001b[0;34m\u001b[0m\u001b[0;34m\u001b[0m\u001b[0m\n\u001b[1;32m    286\u001b[0m         )\n",
            "\u001b[0;32m/usr/local/lib/python3.10/dist-packages/langchain_community/chains/graph_qa/cypher.py\u001b[0m in \u001b[0;36mconstruct_schema\u001b[0;34m(structured_schema, include_types, exclude_types)\u001b[0m\n\u001b[1;32m     76\u001b[0m         \"node_props\": {\n\u001b[1;32m     77\u001b[0m             \u001b[0mk\u001b[0m\u001b[0;34m:\u001b[0m \u001b[0mv\u001b[0m\u001b[0;34m\u001b[0m\u001b[0;34m\u001b[0m\u001b[0m\n\u001b[0;32m---> 78\u001b[0;31m             \u001b[0;32mfor\u001b[0m \u001b[0mk\u001b[0m\u001b[0;34m,\u001b[0m \u001b[0mv\u001b[0m \u001b[0;32min\u001b[0m \u001b[0mstructured_schema\u001b[0m\u001b[0;34m.\u001b[0m\u001b[0mget\u001b[0m\u001b[0;34m(\u001b[0m\u001b[0;34m\"node_props\"\u001b[0m\u001b[0;34m,\u001b[0m \u001b[0;34m{\u001b[0m\u001b[0;34m}\u001b[0m\u001b[0;34m)\u001b[0m\u001b[0;34m.\u001b[0m\u001b[0mitems\u001b[0m\u001b[0;34m(\u001b[0m\u001b[0;34m)\u001b[0m\u001b[0;34m\u001b[0m\u001b[0;34m\u001b[0m\u001b[0m\n\u001b[0m\u001b[1;32m     79\u001b[0m             \u001b[0;32mif\u001b[0m \u001b[0mfilter_func\u001b[0m\u001b[0;34m(\u001b[0m\u001b[0mk\u001b[0m\u001b[0;34m)\u001b[0m\u001b[0;34m\u001b[0m\u001b[0;34m\u001b[0m\u001b[0m\n\u001b[1;32m     80\u001b[0m         },\n",
            "\u001b[0;31mAttributeError\u001b[0m: 'function' object has no attribute 'get'"
          ]
        }
      ],
      "source": [
        "from langchain.chains import GraphCypherQAChain\n",
        "chain=GraphCypherQAChain.from_llm(llm=llm,graph=Neo4jGraph,verbose=True)\n",
        "chain"
      ]
    },
    {
      "cell_type": "code",
      "execution_count": null,
      "metadata": {
        "colab": {
          "base_uri": "https://localhost:8080/"
        },
        "id": "_gAMS5FaK7iy",
        "outputId": "5d031782-8e66-48f7-9607-cf5ba969db08"
      },
      "outputs": [
        {
          "name": "stdout",
          "output_type": "stream",
          "text": [
            "Requirement already satisfied: langchain-groq in /usr/local/lib/python3.10/dist-packages (0.1.9)\n",
            "Requirement already satisfied: groq<1,>=0.4.1 in /usr/local/lib/python3.10/dist-packages (from langchain-groq) (0.9.0)\n",
            "Requirement already satisfied: langchain-core<0.3.0,>=0.2.26 in /usr/local/lib/python3.10/dist-packages (from langchain-groq) (0.2.30)\n",
            "Requirement already satisfied: anyio<5,>=3.5.0 in /usr/local/lib/python3.10/dist-packages (from groq<1,>=0.4.1->langchain-groq) (3.7.1)\n",
            "Requirement already satisfied: distro<2,>=1.7.0 in /usr/lib/python3/dist-packages (from groq<1,>=0.4.1->langchain-groq) (1.7.0)\n",
            "Requirement already satisfied: httpx<1,>=0.23.0 in /usr/local/lib/python3.10/dist-packages (from groq<1,>=0.4.1->langchain-groq) (0.27.0)\n",
            "Requirement already satisfied: pydantic<3,>=1.9.0 in /usr/local/lib/python3.10/dist-packages (from groq<1,>=0.4.1->langchain-groq) (2.8.2)\n",
            "Requirement already satisfied: sniffio in /usr/local/lib/python3.10/dist-packages (from groq<1,>=0.4.1->langchain-groq) (1.3.1)\n",
            "Requirement already satisfied: typing-extensions<5,>=4.7 in /usr/local/lib/python3.10/dist-packages (from groq<1,>=0.4.1->langchain-groq) (4.12.2)\n",
            "Requirement already satisfied: PyYAML>=5.3 in /usr/local/lib/python3.10/dist-packages (from langchain-core<0.3.0,>=0.2.26->langchain-groq) (6.0.2)\n",
            "Requirement already satisfied: jsonpatch<2.0,>=1.33 in /usr/local/lib/python3.10/dist-packages (from langchain-core<0.3.0,>=0.2.26->langchain-groq) (1.33)\n",
            "Requirement already satisfied: langsmith<0.2.0,>=0.1.75 in /usr/local/lib/python3.10/dist-packages (from langchain-core<0.3.0,>=0.2.26->langchain-groq) (0.1.99)\n",
            "Requirement already satisfied: packaging<25,>=23.2 in /usr/local/lib/python3.10/dist-packages (from langchain-core<0.3.0,>=0.2.26->langchain-groq) (24.1)\n",
            "Requirement already satisfied: tenacity!=8.4.0,<9.0.0,>=8.1.0 in /usr/local/lib/python3.10/dist-packages (from langchain-core<0.3.0,>=0.2.26->langchain-groq) (8.5.0)\n",
            "Requirement already satisfied: idna>=2.8 in /usr/local/lib/python3.10/dist-packages (from anyio<5,>=3.5.0->groq<1,>=0.4.1->langchain-groq) (3.7)\n",
            "Requirement already satisfied: exceptiongroup in /usr/local/lib/python3.10/dist-packages (from anyio<5,>=3.5.0->groq<1,>=0.4.1->langchain-groq) (1.2.2)\n",
            "Requirement already satisfied: certifi in /usr/local/lib/python3.10/dist-packages (from httpx<1,>=0.23.0->groq<1,>=0.4.1->langchain-groq) (2024.7.4)\n",
            "Requirement already satisfied: httpcore==1.* in /usr/local/lib/python3.10/dist-packages (from httpx<1,>=0.23.0->groq<1,>=0.4.1->langchain-groq) (1.0.5)\n",
            "Requirement already satisfied: h11<0.15,>=0.13 in /usr/local/lib/python3.10/dist-packages (from httpcore==1.*->httpx<1,>=0.23.0->groq<1,>=0.4.1->langchain-groq) (0.14.0)\n",
            "Requirement already satisfied: jsonpointer>=1.9 in /usr/local/lib/python3.10/dist-packages (from jsonpatch<2.0,>=1.33->langchain-core<0.3.0,>=0.2.26->langchain-groq) (3.0.0)\n",
            "Requirement already satisfied: orjson<4.0.0,>=3.9.14 in /usr/local/lib/python3.10/dist-packages (from langsmith<0.2.0,>=0.1.75->langchain-core<0.3.0,>=0.2.26->langchain-groq) (3.10.7)\n",
            "Requirement already satisfied: requests<3,>=2 in /usr/local/lib/python3.10/dist-packages (from langsmith<0.2.0,>=0.1.75->langchain-core<0.3.0,>=0.2.26->langchain-groq) (2.32.3)\n",
            "Requirement already satisfied: annotated-types>=0.4.0 in /usr/local/lib/python3.10/dist-packages (from pydantic<3,>=1.9.0->groq<1,>=0.4.1->langchain-groq) (0.7.0)\n",
            "Requirement already satisfied: pydantic-core==2.20.1 in /usr/local/lib/python3.10/dist-packages (from pydantic<3,>=1.9.0->groq<1,>=0.4.1->langchain-groq) (2.20.1)\n",
            "Requirement already satisfied: charset-normalizer<4,>=2 in /usr/local/lib/python3.10/dist-packages (from requests<3,>=2->langsmith<0.2.0,>=0.1.75->langchain-core<0.3.0,>=0.2.26->langchain-groq) (3.3.2)\n",
            "Requirement already satisfied: urllib3<3,>=1.21.1 in /usr/local/lib/python3.10/dist-packages (from requests<3,>=2->langsmith<0.2.0,>=0.1.75->langchain-core<0.3.0,>=0.2.26->langchain-groq) (2.0.7)\n"
          ]
        }
      ],
      "source": [
        "!pip install langchain-groq"
      ]
    },
    {
      "cell_type": "code",
      "execution_count": null,
      "metadata": {
        "colab": {
          "base_uri": "https://localhost:8080/"
        },
        "id": "9jHpqD5yLd6V",
        "outputId": "8c18a3c7-b5d6-4fe1-9eb8-48c8be2b50bc"
      },
      "outputs": [
        {
          "name": "stdout",
          "output_type": "stream",
          "text": [
            "Requirement already satisfied: langchain in /usr/local/lib/python3.10/dist-packages (0.2.13)\n",
            "Requirement already satisfied: langchain_community in /usr/local/lib/python3.10/dist-packages (0.2.12)\n",
            "Requirement already satisfied: PyYAML>=5.3 in /usr/local/lib/python3.10/dist-packages (from langchain) (6.0.2)\n",
            "Requirement already satisfied: SQLAlchemy<3,>=1.4 in /usr/local/lib/python3.10/dist-packages (from langchain) (2.0.32)\n",
            "Requirement already satisfied: aiohttp<4.0.0,>=3.8.3 in /usr/local/lib/python3.10/dist-packages (from langchain) (3.10.1)\n",
            "Requirement already satisfied: async-timeout<5.0.0,>=4.0.0 in /usr/local/lib/python3.10/dist-packages (from langchain) (4.0.3)\n",
            "Requirement already satisfied: langchain-core<0.3.0,>=0.2.30 in /usr/local/lib/python3.10/dist-packages (from langchain) (0.2.30)\n",
            "Requirement already satisfied: langchain-text-splitters<0.3.0,>=0.2.0 in /usr/local/lib/python3.10/dist-packages (from langchain) (0.2.2)\n",
            "Requirement already satisfied: langsmith<0.2.0,>=0.1.17 in /usr/local/lib/python3.10/dist-packages (from langchain) (0.1.99)\n",
            "Requirement already satisfied: numpy<2,>=1 in /usr/local/lib/python3.10/dist-packages (from langchain) (1.26.4)\n",
            "Requirement already satisfied: pydantic<3,>=1 in /usr/local/lib/python3.10/dist-packages (from langchain) (2.8.2)\n",
            "Requirement already satisfied: requests<3,>=2 in /usr/local/lib/python3.10/dist-packages (from langchain) (2.32.3)\n",
            "Requirement already satisfied: tenacity!=8.4.0,<9.0.0,>=8.1.0 in /usr/local/lib/python3.10/dist-packages (from langchain) (8.5.0)\n",
            "Requirement already satisfied: dataclasses-json<0.7,>=0.5.7 in /usr/local/lib/python3.10/dist-packages (from langchain_community) (0.6.7)\n",
            "Requirement already satisfied: aiohappyeyeballs>=2.3.0 in /usr/local/lib/python3.10/dist-packages (from aiohttp<4.0.0,>=3.8.3->langchain) (2.3.4)\n",
            "Requirement already satisfied: aiosignal>=1.1.2 in /usr/local/lib/python3.10/dist-packages (from aiohttp<4.0.0,>=3.8.3->langchain) (1.3.1)\n",
            "Requirement already satisfied: attrs>=17.3.0 in /usr/local/lib/python3.10/dist-packages (from aiohttp<4.0.0,>=3.8.3->langchain) (24.2.0)\n",
            "Requirement already satisfied: frozenlist>=1.1.1 in /usr/local/lib/python3.10/dist-packages (from aiohttp<4.0.0,>=3.8.3->langchain) (1.4.1)\n",
            "Requirement already satisfied: multidict<7.0,>=4.5 in /usr/local/lib/python3.10/dist-packages (from aiohttp<4.0.0,>=3.8.3->langchain) (6.0.5)\n",
            "Requirement already satisfied: yarl<2.0,>=1.0 in /usr/local/lib/python3.10/dist-packages (from aiohttp<4.0.0,>=3.8.3->langchain) (1.9.4)\n",
            "Requirement already satisfied: marshmallow<4.0.0,>=3.18.0 in /usr/local/lib/python3.10/dist-packages (from dataclasses-json<0.7,>=0.5.7->langchain_community) (3.21.3)\n",
            "Requirement already satisfied: typing-inspect<1,>=0.4.0 in /usr/local/lib/python3.10/dist-packages (from dataclasses-json<0.7,>=0.5.7->langchain_community) (0.9.0)\n",
            "Requirement already satisfied: jsonpatch<2.0,>=1.33 in /usr/local/lib/python3.10/dist-packages (from langchain-core<0.3.0,>=0.2.30->langchain) (1.33)\n",
            "Requirement already satisfied: packaging<25,>=23.2 in /usr/local/lib/python3.10/dist-packages (from langchain-core<0.3.0,>=0.2.30->langchain) (24.1)\n",
            "Requirement already satisfied: typing-extensions>=4.7 in /usr/local/lib/python3.10/dist-packages (from langchain-core<0.3.0,>=0.2.30->langchain) (4.12.2)\n",
            "Requirement already satisfied: orjson<4.0.0,>=3.9.14 in /usr/local/lib/python3.10/dist-packages (from langsmith<0.2.0,>=0.1.17->langchain) (3.10.7)\n",
            "Requirement already satisfied: annotated-types>=0.4.0 in /usr/local/lib/python3.10/dist-packages (from pydantic<3,>=1->langchain) (0.7.0)\n",
            "Requirement already satisfied: pydantic-core==2.20.1 in /usr/local/lib/python3.10/dist-packages (from pydantic<3,>=1->langchain) (2.20.1)\n",
            "Requirement already satisfied: charset-normalizer<4,>=2 in /usr/local/lib/python3.10/dist-packages (from requests<3,>=2->langchain) (3.3.2)\n",
            "Requirement already satisfied: idna<4,>=2.5 in /usr/local/lib/python3.10/dist-packages (from requests<3,>=2->langchain) (3.7)\n",
            "Requirement already satisfied: urllib3<3,>=1.21.1 in /usr/local/lib/python3.10/dist-packages (from requests<3,>=2->langchain) (2.0.7)\n",
            "Requirement already satisfied: certifi>=2017.4.17 in /usr/local/lib/python3.10/dist-packages (from requests<3,>=2->langchain) (2024.7.4)\n",
            "Requirement already satisfied: greenlet!=0.4.17 in /usr/local/lib/python3.10/dist-packages (from SQLAlchemy<3,>=1.4->langchain) (3.0.3)\n",
            "Requirement already satisfied: jsonpointer>=1.9 in /usr/local/lib/python3.10/dist-packages (from jsonpatch<2.0,>=1.33->langchain-core<0.3.0,>=0.2.30->langchain) (3.0.0)\n",
            "Requirement already satisfied: mypy-extensions>=0.3.0 in /usr/local/lib/python3.10/dist-packages (from typing-inspect<1,>=0.4.0->dataclasses-json<0.7,>=0.5.7->langchain_community) (1.0.0)\n"
          ]
        }
      ],
      "source": [
        "!pip install --upgrade langchain langchain_community\n"
      ]
    },
    {
      "cell_type": "code",
      "execution_count": null,
      "metadata": {
        "colab": {
          "base_uri": "https://localhost:8080/",
          "height": 393
        },
        "id": "-FG9Mh2ZjNVr",
        "outputId": "bf4a35a5-3193-4fd2-b664-7eb926cb36c2"
      },
      "outputs": [
        {
          "ename": "ImportError",
          "evalue": "cannot import name 'Groq' from 'langchain.llms' (/usr/local/lib/python3.10/dist-packages/langchain/llms/__init__.py)",
          "output_type": "error",
          "traceback": [
            "\u001b[0;31m---------------------------------------------------------------------------\u001b[0m",
            "\u001b[0;31mImportError\u001b[0m                               Traceback (most recent call last)",
            "\u001b[0;32m<ipython-input-52-b94007891955>\u001b[0m in \u001b[0;36m<cell line: 1>\u001b[0;34m()\u001b[0m\n\u001b[0;32m----> 1\u001b[0;31m \u001b[0;32mfrom\u001b[0m \u001b[0mlangchain\u001b[0m\u001b[0;34m.\u001b[0m\u001b[0mllms\u001b[0m \u001b[0;32mimport\u001b[0m \u001b[0mGroq\u001b[0m\u001b[0;34m\u001b[0m\u001b[0;34m\u001b[0m\u001b[0m\n\u001b[0m\u001b[1;32m      2\u001b[0m \u001b[0;32mfrom\u001b[0m \u001b[0mlangchain\u001b[0m\u001b[0;34m.\u001b[0m\u001b[0mchains\u001b[0m \u001b[0;32mimport\u001b[0m \u001b[0mGraphCypherQAChain\u001b[0m\u001b[0;34m\u001b[0m\u001b[0;34m\u001b[0m\u001b[0m\n\u001b[1;32m      3\u001b[0m \u001b[0;32mfrom\u001b[0m \u001b[0mlangchain_community\u001b[0m\u001b[0;34m.\u001b[0m\u001b[0mgraphs\u001b[0m \u001b[0;32mimport\u001b[0m \u001b[0mNeo4jGraph\u001b[0m\u001b[0;34m\u001b[0m\u001b[0;34m\u001b[0m\u001b[0m\n\u001b[1;32m      4\u001b[0m \u001b[0;34m\u001b[0m\u001b[0m\n\u001b[1;32m      5\u001b[0m \u001b[0;31m# Initialize your language model\u001b[0m\u001b[0;34m\u001b[0m\u001b[0;34m\u001b[0m\u001b[0m\n",
            "\u001b[0;31mImportError\u001b[0m: cannot import name 'Groq' from 'langchain.llms' (/usr/local/lib/python3.10/dist-packages/langchain/llms/__init__.py)",
            "",
            "\u001b[0;31m---------------------------------------------------------------------------\u001b[0;32m\nNOTE: If your import is failing due to a missing package, you can\nmanually install dependencies using either !pip or !apt.\n\nTo view examples of installing some common dependencies, click the\n\"Open Examples\" button below.\n\u001b[0;31m---------------------------------------------------------------------------\u001b[0m\n"
          ]
        }
      ],
      "source": [
        "from langchain.llms import Groq\n",
        "from langchain.chains import GraphCypherQAChain\n",
        "from langchain_community.graphs import Neo4jGraph\n",
        "\n",
        "# Initialize your language model\n",
        "llm = Groq(groq_api_key = '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'\n",
        ")\n",
        "\n",
        "# Initialize your graph object\n",
        "graph = Neo4jGraph(\n",
        "    NEO4J_URI=\"neo4j+s://7bcc2b08.databases.neo4j.io\",\n",
        "    NEO4J_USERNAME=\"neo4j\",\n",
        "    NEO4J_PASSWORD=\"7_wrxtiB8ELM_z-VTZK6mMiz4De85OfbXgAHTDbrXa8\"\n",
        ")\n",
        "\n",
        "# Initialize the GraphCypherQAChain\n",
        "chain = GraphCypherQAChain.from_llm(llm=llm, graph=graph, verbose=True)\n",
        "\n",
        "# Print or use the chain\n",
        "print(chain)\n"
      ]
    },
    {
      "cell_type": "code",
      "execution_count": null,
      "metadata": {
        "colab": {
          "base_uri": "https://localhost:8080/"
        },
        "id": "k6Gde0KElE5q",
        "outputId": "5c2114ba-a4f8-4530-aaa0-a19583792d64"
      },
      "outputs": [
        {
          "name": "stdout",
          "output_type": "stream",
          "text": [
            "['Any', 'BaseLLM', 'Callable', 'Dict', 'LangChainDeprecationWarning', 'Type', '__all__', '__builtins__', '__cached__', '__doc__', '__file__', '__getattr__', '__loader__', '__name__', '__package__', '__path__', '__spec__', '_import_ai21', '_import_aleph_alpha', '_import_amazon_api_gateway', '_import_anthropic', '_import_anyscale', '_import_arcee', '_import_aviary', '_import_azure_openai', '_import_azureml_endpoint', '_import_baidu_qianfan_endpoint', '_import_bananadev', '_import_baseten', '_import_beam', '_import_bedrock', '_import_bittensor', '_import_cerebriumai', '_import_chatglm', '_import_clarifai', '_import_cohere', '_import_ctransformers', '_import_ctranslate2', '_import_databricks', '_import_databricks_chat', '_import_deepinfra', '_import_deepsparse', '_import_edenai', '_import_fake', '_import_fireworks', '_import_forefrontai', '_import_gigachat', '_import_google_palm', '_import_gooseai', '_import_gpt4all', '_import_gradient_ai', '_import_huggingface_endpoint', '_import_huggingface_hub', '_import_huggingface_pipeline', '_import_huggingface_text_gen_inference', '_import_human', '_import_javelin_ai_gateway', '_import_koboldai', '_import_llamacpp', '_import_manifest', '_import_minimax', '_import_mlflow', '_import_mlflow_ai_gateway', '_import_mlflow_chat', '_import_modal', '_import_mosaicml', '_import_nlpcloud', '_import_octoai_endpoint', '_import_ollama', '_import_opaqueprompts', '_import_openai', '_import_openai_chat', '_import_openllm', '_import_openlm', '_import_pai_eas_endpoint', '_import_petals', '_import_pipelineai', '_import_predibase', '_import_predictionguard', '_import_promptlayer', '_import_promptlayer_chat', '_import_replicate', '_import_rwkv', '_import_sagemaker_endpoint', '_import_self_hosted', '_import_self_hosted_hugging_face', '_import_stochasticai', '_import_symblai_nebula', '_import_textgen', '_import_titan_takeoff', '_import_titan_takeoff_pro', '_import_together', '_import_tongyi', '_import_vertex', '_import_vertex_model_garden', '_import_vllm', '_import_vllm_openai', '_import_volcengine_maas', '_import_watsonxllm', '_import_writer', '_import_xinference', '_import_yandex_gpt', 'get_type_to_cls_dict', 'is_interactive_env', 'warnings']\n"
          ]
        }
      ],
      "source": [
        "import langchain.llms\n",
        "print(dir(langchain.llms))"
      ]
    },
    {
      "cell_type": "code",
      "execution_count": null,
      "metadata": {
        "colab": {
          "base_uri": "https://localhost:8080/"
        },
        "id": "m-XRT57sMoxu",
        "outputId": "b67170b8-4b3e-468f-8cce-d311151870ef"
      },
      "outputs": [
        {
          "name": "stdout",
          "output_type": "stream",
          "text": [
            "\n",
            "\n",
            "\u001b[1m> Entering new GraphCypherQAChain chain...\u001b[0m\n",
            "Generated Cypher:\n",
            "\u001b[32;1m\u001b[1;3mMATCH (m:Movie) RETURN count(m)  \n",
            "\u001b[0m\n",
            "Full Context:\n",
            "\u001b[32;1m\u001b[1;3m[{'count(m)': 299}]\u001b[0m\n",
            "\n",
            "\u001b[1m> Finished chain.\u001b[0m\n"
          ]
        },
        {
          "data": {
            "text/plain": [
              "{'query': 'How many movies are there in the database?',\n",
              " 'result': 'There are 299 movies in the database. \\n'}"
            ]
          },
          "execution_count": 59,
          "metadata": {},
          "output_type": "execute_result"
        }
      ],
      "source": [
        "response=chain.invoke({\"query\":\"How many movies are there in the database?\"})\n",
        "response"
      ]
    },
    {
      "cell_type": "code",
      "execution_count": null,
      "metadata": {
        "colab": {
          "base_uri": "https://localhost:8080/"
        },
        "id": "Zr6VTzvBNC0V",
        "outputId": "d1f96e0e-f7ab-49c7-cf08-d0fed63e23eb"
      },
      "outputs": [
        {
          "name": "stdout",
          "output_type": "stream",
          "text": [
            "\n",
            "\n",
            "\u001b[1m> Entering new GraphCypherQAChain chain...\u001b[0m\n",
            "Generated Cypher:\n",
            "\u001b[32;1m\u001b[1;3mMATCH (m:Movie {title: \"titanic\"})<-[:IN_GENRE]-(g:GENRE) RETURN g.name \n",
            "\u001b[0m\n",
            "Full Context:\n",
            "\u001b[32;1m\u001b[1;3m[]\u001b[0m\n",
            "\n",
            "\u001b[1m> Finished chain.\u001b[0m\n"
          ]
        },
        {
          "data": {
            "text/plain": [
              "{'query': 'tell me the genre of th movie titanic',\n",
              " 'result': \"I don't know the answer. \\n\"}"
            ]
          },
          "execution_count": 61,
          "metadata": {},
          "output_type": "execute_result"
        }
      ],
      "source": [
        "response=chain.invoke({\"query\":\"tell me the genre of th movie titanic\"})\n",
        "\n",
        "response"
      ]
    },
    {
      "cell_type": "code",
      "execution_count": null,
      "metadata": {
        "id": "KQMT3c3bNM2S"
      },
      "outputs": [],
      "source": [
        "xamples = [\n",
        "    {\n",
        "        \"question\": \"How many artists are there?\",\n",
        "        \"query\": \"MATCH (a:Person)-[:ACTED_IN]->(:Movie) RETURN count(DISTINCT a)\",\n",
        "    },\n",
        "    {\n",
        "        \"question\": \"Which actors played in the movie Casino?\",\n",
        "        \"query\": \"MATCH (m:Movie {{title: 'Casino'}})<-[:ACTED_IN]-(a) RETURN a.name\",\n",
        "    },\n",
        "    {\n",
        "        \"question\": \"How many movies has Tom Hanks acted in?\",\n",
        "        \"query\": \"MATCH (a:Person {name: 'Tom Hanks'})-[:ACTED_IN]->(m:Movie) RETURN count(m)\",\n",
        "    },\n",
        "    {\n",
        "        \"question\": \"List all the genres of the movie Schindler's List\",\n",
        "        \"query\": \"MATCH (m:Movie {{title: 'Schindler\\\\'s List'}})-[:IN_GENRE]->(g:Genre) RETURN g.name\",\n",
        "    },\n",
        "    {\n",
        "        \"question\": \"Which actors have worked in movies from both the comedy and action genres?\",\n",
        "        \"query\": \"MATCH (a:Person)-[:ACTED_IN]->(:Movie)-[:IN_GENRE]->(g1:Genre), (a)-[:ACTED_IN]->(:Movie)-[:IN_GENRE]->(g2:Genre) WHERE g1.name = 'Comedy' AND g2.name = 'Action' RETURN DISTINCT a.name\",\n",
        "    },\n",
        "    {\n",
        "        \"question\": \"Which directors have made movies with at least three different actors named 'John'?\",\n",
        "        \"query\": \"MATCH (d:Person)-[:DIRECTED]->(m:Movie)<-[:ACTED_IN]-(a:Person) WHERE a.name STARTS WITH 'John' WITH d, COUNT(DISTINCT a) AS JohnsCount WHERE JohnsCount >= 3 RETURN d.name\",\n",
        "    },\n",
        "    {\n",
        "        \"question\": \"Identify movies where directors also played a role in the film.\",\n",
        "        \"query\": \"MATCH (p:Person)-[:DIRECTED]->(m:Movie), (p)-[:ACTED_IN]->(m) RETURN m.title, p.name\",\n",
        "    },\n",
        "    {\n",
        "        \"question\": \"Find the actor with the highest number of movies in the database.\",\n",
        "        \"query\": \"MATCH (a:Actor)-[:ACTED_IN]->(m:Movie) RETURN a.name, COUNT(m) AS movieCount ORDER BY movieCount DESC LIMIT 1\",\n",
        "    },\n",
        "]"
      ]
    },
    {
      "cell_type": "code",
      "execution_count": null,
      "metadata": {
        "id": "unHLfyp-Og6h"
      },
      "outputs": [],
      "source": []
    },
    {
      "cell_type": "code",
      "execution_count": null,
      "metadata": {
        "colab": {
          "base_uri": "https://localhost:8080/"
        },
        "id": "KAuamC-4OMQI",
        "outputId": "22ddf03c-c9a1-4d7f-9580-941541e7b1aa"
      },
      "outputs": [
        {
          "name": "stdout",
          "output_type": "stream",
          "text": [
            "\n",
            "\n",
            "\u001b[1m> Entering new GraphCypherQAChain chain...\u001b[0m\n",
            "Generated Cypher:\n",
            "\u001b[32;1m\u001b[1;3mMATCH (a:Person)-[:ACTED_IN]->(:Movie) RETURN count(DISTINCT a) \n",
            "\u001b[0m\n",
            "Full Context:\n",
            "\u001b[32;1m\u001b[1;3m[{'count(DISTINCT a)': 967}]\u001b[0m\n",
            "\n",
            "\u001b[1m> Finished chain.\u001b[0m\n"
          ]
        },
        {
          "data": {
            "text/plain": [
              "{'query': 'MATCH (a:Person)-[:ACTED_IN]->(:Movie) RETURN count(DISTINCT a)',\n",
              " 'result': '967 \\n'}"
            ]
          },
          "execution_count": 63,
          "metadata": {},
          "output_type": "execute_result"
        }
      ],
      "source": [
        "  response =chain.invoke({\"query\": \"MATCH (a:Person)-[:ACTED_IN]->(:Movie) RETURN count(DISTINCT a)\"})\n",
        "  response"
      ]
    },
    {
      "cell_type": "code",
      "execution_count": null,
      "metadata": {
        "colab": {
          "base_uri": "https://localhost:8080/"
        },
        "id": "EF4sgwbWOhtP",
        "outputId": "e37e5996-c0ce-45eb-e33a-706859f00df8"
      },
      "outputs": [
        {
          "name": "stdout",
          "output_type": "stream",
          "text": [
            "\n",
            "\n",
            "\u001b[1m> Entering new GraphCypherQAChain chain...\u001b[0m\n",
            "Generated Cypher:\n",
            "\u001b[32;1m\u001b[1;3mMATCH (p:Person) RETURN count(distinct p)  \n",
            "\u001b[0m\n",
            "Full Context:\n",
            "\u001b[32;1m\u001b[1;3m[{'count(distinct p)': 1239}]\u001b[0m\n",
            "\n",
            "\u001b[1m> Finished chain.\u001b[0m\n"
          ]
        },
        {
          "data": {
            "text/plain": [
              "{'query': 'How many artists are there?',\n",
              " 'result': 'There are 1239 artists.  \\n'}"
            ]
          },
          "execution_count": 67,
          "metadata": {},
          "output_type": "execute_result"
        }
      ],
      "source": [
        "response=chain.invoke({\"query\":\"How many artists are there?\"})\n",
        "response"
      ]
    },
    {
      "cell_type": "code",
      "execution_count": null,
      "metadata": {
        "colab": {
          "base_uri": "https://localhost:8080/"
        },
        "id": "Qd1GapmaUcNl",
        "outputId": "e3f6a723-55be-4fdf-bc2b-5215810da2e9"
      },
      "outputs": [
        {
          "name": "stdout",
          "output_type": "stream",
          "text": [
            "Requirement already satisfied: flask in /usr/local/lib/python3.10/dist-packages (2.2.5)\n",
            "Requirement already satisfied: Werkzeug>=2.2.2 in /usr/local/lib/python3.10/dist-packages (from flask) (3.0.3)\n",
            "Requirement already satisfied: Jinja2>=3.0 in /usr/local/lib/python3.10/dist-packages (from flask) (3.1.4)\n",
            "Requirement already satisfied: itsdangerous>=2.0 in /usr/local/lib/python3.10/dist-packages (from flask) (2.2.0)\n",
            "Requirement already satisfied: click>=8.0 in /usr/local/lib/python3.10/dist-packages (from flask) (8.1.7)\n",
            "Requirement already satisfied: MarkupSafe>=2.0 in /usr/local/lib/python3.10/dist-packages (from Jinja2>=3.0->flask) (2.1.5)\n"
          ]
        }
      ],
      "source": [
        "!pip install flask"
      ]
    },
    {
      "cell_type": "code",
      "execution_count": null,
      "metadata": {
        "colab": {
          "background_save": true,
          "base_uri": "https://localhost:8080/"
        },
        "id": "6VgRmC65UEuf",
        "outputId": "7ef62ce2-cdb0-4ef1-d14e-eb736e6b5bda"
      },
      "outputs": [
        {
          "name": "stdout",
          "output_type": "stream",
          "text": [
            " * Serving Flask app '__main__'\n",
            " * Debug mode: on\n"
          ]
        },
        {
          "name": "stderr",
          "output_type": "stream",
          "text": [
            "INFO:werkzeug:\u001b[31m\u001b[1mWARNING: This is a development server. Do not use it in a production deployment. Use a production WSGI server instead.\u001b[0m\n",
            " * Running on http://127.0.0.1:5000\n",
            "INFO:werkzeug:\u001b[33mPress CTRL+C to quit\u001b[0m\n",
            "INFO:werkzeug: * Restarting with stat\n"
          ]
        }
      ],
      "source": [
        "from flask import Flask, render_template, request\n",
        "\n",
        "app = Flask(__name__)\n",
        "\n",
        "def process_query(query):\n",
        "    # Example processing logic; replace with actual logic\n",
        "    if query.lower() == 'how many artists are there?':\n",
        "        return 'There are 1239 artists.'\n",
        "    elif query.lower() == 'list all artists':\n",
        "        return (\"MATCH (a:Person)-[:ACTED_IN]->(:Movie) RETURN count(DISTINCT a)\")  # Replace with actual data retrieval\n",
        "    else:\n",
        "        return 'Query not recognized.'\n",
        "\n",
        "@app.route('/', methods=['GET', 'POST'])\n",
        "def index():\n",
        "    result = None\n",
        "    if request.method == 'POST':\n",
        "        query = request.form.get('query')\n",
        "        result = process_query(query)\n",
        "    return render_template('index.html', result=result)\n",
        "\n",
        "\n",
        "\n",
        "if __name__ == '__main__':\n",
        "    app.run(debug=True)"
      ]
    },
    {
      "cell_type": "code",
      "execution_count": null,
      "metadata": {
        "id": "dzqRF4RkV0ny"
      },
      "outputs": [],
      "source": [
        "from flask import Flask, render_template, request\n",
        "\n",
        "app = Flask(__name__)\n",
        "@app.route('/test')\n",
        "def test():\n",
        "    return \"Test route is working!\""
      ]
    }
  ],
  "metadata": {
    "colab": {
      "provenance": []
    },
    "kernelspec": {
      "display_name": "Python 3",
      "name": "python3"
    },
    "language_info": {
      "name": "python"
    }
  },
  "nbformat": 4,
  "nbformat_minor": 0
}